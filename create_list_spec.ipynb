{
 "cells": [
  {
   "cell_type": "code",
   "execution_count": 66,
   "id": "62419006",
   "metadata": {},
   "outputs": [
    {
     "data": {
      "text/plain": [
       "'\\nСкрипт для генерации списков зачисленных по специальностям\\n'"
      ]
     },
     "execution_count": 66,
     "metadata": {},
     "output_type": "execute_result"
    }
   ],
   "source": [
    "\"\"\"\n",
    "Скрипт для генерации списков зачисленных по специальностям\n",
    "\"\"\""
   ]
  },
  {
   "cell_type": "code",
   "execution_count": 67,
   "id": "abfbd8eb",
   "metadata": {},
   "outputs": [],
   "source": [
    "import pandas as pd\n",
    "import openpyxl\n",
    "import time\n",
    "from openpyxl.utils.dataframe import dataframe_to_rows"
   ]
  },
  {
   "cell_type": "code",
   "execution_count": 68,
   "id": "79471556",
   "metadata": {},
   "outputs": [],
   "source": [
    "\n",
    "\n",
    "ab_df = pd.read_excel('data/Абитуриенты.xlsx',sheet_name='Абитуриенты',skiprows=8,dtype={'ИНН':str,'Серия УЛ':str,'Номер УЛ':str})"
   ]
  },
  {
   "cell_type": "code",
   "execution_count": 69,
   "id": "89d368c6",
   "metadata": {},
   "outputs": [],
   "source": [
    "ab_df = ab_df[ab_df['Состояние выбран. конкурса'] == 'Зачислен'] # оставялем только зачисленных"
   ]
  },
  {
   "cell_type": "code",
   "execution_count": 70,
   "id": "eac53873",
   "metadata": {},
   "outputs": [],
   "source": [
    "lst_spec = ab_df['Направление подготовки'].unique()"
   ]
  },
  {
   "cell_type": "code",
   "execution_count": 71,
   "id": "3d408f52",
   "metadata": {},
   "outputs": [
    {
     "data": {
      "text/plain": [
       "array(['23.01.09 Машинист локомотива',\n",
       "       '15.01.33 Токарь на станках с числовым программным управлением',\n",
       "       '23.02.06 Техническая эксплуатация подвижного состава железных дорог',\n",
       "       '15.01.05 Сварщик (ручной и частично механизированной сварки (наплавки)',\n",
       "       '43.02.06 Сервис на транспорте (по видам транспорта)',\n",
       "       '23.01.10 Слесарь по обслуживанию и ремонту подвижного состава',\n",
       "       '08.01.31 Электромонтажник электрических сетей и электрооборудования',\n",
       "       '23.02.07 Техническое обслуживание и ремонт двигателей, систем и агрегатов автомобилей',\n",
       "       '35.01.27 Мастер сельскохозяйственного производства',\n",
       "       '43.01.06 Проводник на железнодорожном транспорте',\n",
       "       '08.02.09 Монтаж, наладка и эксплуатация электрооборудования промышленных и гражданских зданий',\n",
       "       '23.01.17 Мастер по ремонту и обслуживанию автомобилей',\n",
       "       '13.02.07 Электроснабжение (по отраслям)',\n",
       "       '15.01.35 Мастер слесарных работ'], dtype=object)"
      ]
     },
     "execution_count": 71,
     "metadata": {},
     "output_type": "execute_result"
    }
   ],
   "source": [
    "lst_spec"
   ]
  },
  {
   "cell_type": "code",
   "execution_count": 72,
   "id": "f32e28df",
   "metadata": {},
   "outputs": [],
   "source": [
    "for spec in lst_spec:\n",
    "    temp_df = ab_df[ab_df['Направление подготовки']==spec]\n",
    "    temp_df = temp_df[['ФИО']]\n",
    "    temp_df.sort_values(by='ФИО')\n",
    "    temp_df.insert(0,'№',range(1,len(temp_df)+1))\n",
    "    wb = openpyxl.Workbook()\n",
    "    for r in dataframe_to_rows(temp_df,index=False,header=True):\n",
    "        wb['Sheet'].append(r)\n",
    "    wb['Sheet'].column_dimensions['B'].width= 50\n",
    "    wb.save(f'data\\Списки\\{spec}.xlsx')\n",
    "    "
   ]
  },
  {
   "cell_type": "code",
   "execution_count": 73,
   "id": "3a990f8e",
   "metadata": {},
   "outputs": [
    {
     "data": {
      "text/html": [
       "<div>\n",
       "<style scoped>\n",
       "    .dataframe tbody tr th:only-of-type {\n",
       "        vertical-align: middle;\n",
       "    }\n",
       "\n",
       "    .dataframe tbody tr th {\n",
       "        vertical-align: top;\n",
       "    }\n",
       "\n",
       "    .dataframe thead th {\n",
       "        text-align: right;\n",
       "    }\n",
       "</style>\n",
       "<table border=\"1\" class=\"dataframe\">\n",
       "  <thead>\n",
       "    <tr style=\"text-align: right;\">\n",
       "      <th></th>\n",
       "      <th>ФИО</th>\n",
       "    </tr>\n",
       "    <tr>\n",
       "      <th>Направление подготовки</th>\n",
       "      <th></th>\n",
       "    </tr>\n",
       "  </thead>\n",
       "  <tbody>\n",
       "    <tr>\n",
       "      <th>08.01.31 Электромонтажник электрических сетей и электрооборудования</th>\n",
       "      <td>25</td>\n",
       "    </tr>\n",
       "    <tr>\n",
       "      <th>08.02.09 Монтаж, наладка и эксплуатация электрооборудования промышленных и гражданских зданий</th>\n",
       "      <td>25</td>\n",
       "    </tr>\n",
       "    <tr>\n",
       "      <th>13.02.07 Электроснабжение (по отраслям)</th>\n",
       "      <td>25</td>\n",
       "    </tr>\n",
       "    <tr>\n",
       "      <th>15.01.05 Сварщик (ручной и частично механизированной сварки (наплавки)</th>\n",
       "      <td>50</td>\n",
       "    </tr>\n",
       "    <tr>\n",
       "      <th>15.01.33 Токарь на станках с числовым программным управлением</th>\n",
       "      <td>50</td>\n",
       "    </tr>\n",
       "    <tr>\n",
       "      <th>15.01.35 Мастер слесарных работ</th>\n",
       "      <td>25</td>\n",
       "    </tr>\n",
       "    <tr>\n",
       "      <th>23.01.09 Машинист локомотива</th>\n",
       "      <td>98</td>\n",
       "    </tr>\n",
       "    <tr>\n",
       "      <th>23.01.10 Слесарь по обслуживанию и ремонту подвижного состава</th>\n",
       "      <td>50</td>\n",
       "    </tr>\n",
       "    <tr>\n",
       "      <th>23.01.17 Мастер по ремонту и обслуживанию автомобилей</th>\n",
       "      <td>25</td>\n",
       "    </tr>\n",
       "    <tr>\n",
       "      <th>23.02.06 Техническая эксплуатация подвижного состава железных дорог</th>\n",
       "      <td>25</td>\n",
       "    </tr>\n",
       "    <tr>\n",
       "      <th>23.02.07 Техническое обслуживание и ремонт двигателей, систем и агрегатов автомобилей</th>\n",
       "      <td>25</td>\n",
       "    </tr>\n",
       "    <tr>\n",
       "      <th>35.01.27 Мастер сельскохозяйственного производства</th>\n",
       "      <td>23</td>\n",
       "    </tr>\n",
       "    <tr>\n",
       "      <th>43.01.06 Проводник на железнодорожном транспорте</th>\n",
       "      <td>25</td>\n",
       "    </tr>\n",
       "    <tr>\n",
       "      <th>43.02.06 Сервис на транспорте (по видам транспорта)</th>\n",
       "      <td>24</td>\n",
       "    </tr>\n",
       "  </tbody>\n",
       "</table>\n",
       "</div>"
      ],
      "text/plain": [
       "                                                    ФИО\n",
       "Направление подготовки                                 \n",
       "08.01.31 Электромонтажник электрических сетей и...   25\n",
       "08.02.09 Монтаж, наладка и эксплуатация электро...   25\n",
       "13.02.07 Электроснабжение (по отраслям)              25\n",
       "15.01.05 Сварщик (ручной и частично механизиров...   50\n",
       "15.01.33 Токарь на станках с числовым программн...   50\n",
       "15.01.35 Мастер слесарных работ                      25\n",
       "23.01.09 Машинист локомотива                         98\n",
       "23.01.10 Слесарь по обслуживанию и ремонту подв...   50\n",
       "23.01.17 Мастер по ремонту и обслуживанию автом...   25\n",
       "23.02.06 Техническая эксплуатация подвижного со...   25\n",
       "23.02.07 Техническое обслуживание и ремонт двиг...   25\n",
       "35.01.27 Мастер сельскохозяйственного производства   23\n",
       "43.01.06 Проводник на железнодорожном транспорте     25\n",
       "43.02.06 Сервис на транспорте (по видам транспо...   24"
      ]
     },
     "execution_count": 73,
     "metadata": {},
     "output_type": "execute_result"
    }
   ],
   "source": [
    "ab_df.groupby('Направление подготовки').agg({'ФИО':'count'})"
   ]
  },
  {
   "cell_type": "code",
   "execution_count": 74,
   "id": "65123f2f",
   "metadata": {},
   "outputs": [],
   "source": [
    "ab_df.groupby('Направление подготовки').agg({'ФИО':'count'}).to_excel('data/Количество зачисленных.xlsx')"
   ]
  },
  {
   "cell_type": "code",
   "execution_count": null,
   "id": "192c5fc2",
   "metadata": {},
   "outputs": [],
   "source": []
  },
  {
   "cell_type": "code",
   "execution_count": null,
   "id": "7ed38a36",
   "metadata": {},
   "outputs": [],
   "source": []
  },
  {
   "cell_type": "code",
   "execution_count": null,
   "id": "51576a81",
   "metadata": {},
   "outputs": [],
   "source": []
  },
  {
   "cell_type": "code",
   "execution_count": null,
   "id": "40ae2469",
   "metadata": {},
   "outputs": [],
   "source": []
  },
  {
   "cell_type": "code",
   "execution_count": null,
   "id": "66a5f2a8",
   "metadata": {},
   "outputs": [],
   "source": []
  },
  {
   "cell_type": "code",
   "execution_count": null,
   "id": "b02f652d",
   "metadata": {},
   "outputs": [],
   "source": []
  }
 ],
 "metadata": {
  "kernelspec": {
   "display_name": "Python 3 (ipykernel)",
   "language": "python",
   "name": "python3"
  },
  "language_info": {
   "codemirror_mode": {
    "name": "ipython",
    "version": 3
   },
   "file_extension": ".py",
   "mimetype": "text/x-python",
   "name": "python",
   "nbconvert_exporter": "python",
   "pygments_lexer": "ipython3",
   "version": "3.9.13"
  }
 },
 "nbformat": 4,
 "nbformat_minor": 5
}
