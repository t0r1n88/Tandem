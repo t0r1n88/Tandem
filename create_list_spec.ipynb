{
 "cells": [
  {
   "cell_type": "code",
   "execution_count": null,
   "id": "550b99b1",
   "metadata": {},
   "outputs": [],
   "source": [
    "\"\"\"\n",
    "Скрипт для генерации списков зачисленных по специальностям\n",
    "\"\"\""
   ]
  },
  {
   "cell_type": "code",
   "execution_count": 2,
   "id": "0128e9fa",
   "metadata": {},
   "outputs": [],
   "source": [
    "import pandas as pd\n",
    "import openpyxl\n",
    "import time\n",
    "from openpyxl.utils.dataframe import dataframe_to_rows"
   ]
  },
  {
   "cell_type": "code",
   "execution_count": 3,
   "id": "c1cfee63",
   "metadata": {},
   "outputs": [],
   "source": [
    "\n",
    "\n",
    "ab_df = pd.read_excel('data/Абитуриенты.xlsx',sheet_name='Абитуриенты',skiprows=8,dtype={'ИНН':str,'Серия УЛ':str,'Номер УЛ':str})"
   ]
  },
  {
   "cell_type": "code",
   "execution_count": 4,
   "id": "9dc1769e",
   "metadata": {},
   "outputs": [],
   "source": [
    "ab_df = ab_df[ab_df['Состояние выбран. конкурса'] == 'Зачислен'] # оставялем только зачисленных"
   ]
  },
  {
   "cell_type": "code",
   "execution_count": 6,
   "id": "e1e64050",
   "metadata": {},
   "outputs": [],
   "source": [
    "lst_spec = ab_df['Направление подготовки'].unique()"
   ]
  },
  {
   "cell_type": "code",
   "execution_count": 7,
   "id": "0498c896",
   "metadata": {},
   "outputs": [
    {
     "data": {
      "text/plain": [
       "array(['23.01.09 Машинист локомотива',\n",
       "       '15.01.33 Токарь на станках с числовым программным управлением',\n",
       "       '23.02.06 Техническая эксплуатация подвижного состава железных дорог',\n",
       "       '15.01.05 Сварщик (ручной и частично механизированной сварки (наплавки)',\n",
       "       '43.02.06 Сервис на транспорте (по видам транспорта)',\n",
       "       '23.01.10 Слесарь по обслуживанию и ремонту подвижного состава',\n",
       "       '08.01.31 Электромонтажник электрических сетей и электрооборудования',\n",
       "       '23.02.07 Техническое обслуживание и ремонт двигателей, систем и агрегатов автомобилей',\n",
       "       '35.01.27 Мастер сельскохозяйственного производства',\n",
       "       '43.01.06 Проводник на железнодорожном транспорте',\n",
       "       '08.02.09 Монтаж, наладка и эксплуатация электрооборудования промышленных и гражданских зданий',\n",
       "       '23.01.17 Мастер по ремонту и обслуживанию автомобилей',\n",
       "       '13.02.07 Электроснабжение (по отраслям)',\n",
       "       '15.01.35 Мастер слесарных работ'], dtype=object)"
      ]
     },
     "execution_count": 7,
     "metadata": {},
     "output_type": "execute_result"
    }
   ],
   "source": [
    "lst_spec"
   ]
  },
  {
   "cell_type": "code",
   "execution_count": 15,
   "id": "7300a987",
   "metadata": {},
   "outputs": [],
   "source": [
    "for spec in lst_spec:\n",
    "    temp_df = ab_df[ab_df['Направление подготовки']==spec]\n",
    "    temp_df = temp_df[['ФИО']]\n",
    "    temp_df.sort_values(by='ФИО')\n",
    "    temp_df.insert(0,'№',range(1,len(temp_df)+1))\n",
    "    wb = openpyxl.Workbook()\n",
    "    for r in dataframe_to_rows(temp_df,index=False,header=True):\n",
    "        wb['Sheet'].append(r)\n",
    "    wb['Sheet'].column_dimensions['B'].width= 50\n",
    "    wb.save(f'data\\Списки\\{spec}.xlsx')\n",
    "    "
   ]
  },
  {
   "cell_type": "code",
   "execution_count": null,
   "id": "b254f490",
   "metadata": {},
   "outputs": [],
   "source": []
  },
  {
   "cell_type": "code",
   "execution_count": null,
   "id": "593754b7",
   "metadata": {},
   "outputs": [],
   "source": []
  },
  {
   "cell_type": "code",
   "execution_count": null,
   "id": "054aa598",
   "metadata": {},
   "outputs": [],
   "source": []
  },
  {
   "cell_type": "code",
   "execution_count": null,
   "id": "21ca9255",
   "metadata": {},
   "outputs": [],
   "source": []
  },
  {
   "cell_type": "code",
   "execution_count": null,
   "id": "ed0c9b88",
   "metadata": {},
   "outputs": [],
   "source": []
  },
  {
   "cell_type": "code",
   "execution_count": null,
   "id": "66491a2f",
   "metadata": {},
   "outputs": [],
   "source": []
  },
  {
   "cell_type": "code",
   "execution_count": null,
   "id": "80c0a8b4",
   "metadata": {},
   "outputs": [],
   "source": []
  }
 ],
 "metadata": {
  "kernelspec": {
   "display_name": "Python 3 (ipykernel)",
   "language": "python",
   "name": "python3"
  },
  "language_info": {
   "codemirror_mode": {
    "name": "ipython",
    "version": 3
   },
   "file_extension": ".py",
   "mimetype": "text/x-python",
   "name": "python",
   "nbconvert_exporter": "python",
   "pygments_lexer": "ipython3",
   "version": "3.9.13"
  }
 },
 "nbformat": 4,
 "nbformat_minor": 5
}
