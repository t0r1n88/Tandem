{
 "cells": [
  {
   "cell_type": "code",
   "execution_count": 709,
   "id": "c426781f",
   "metadata": {},
   "outputs": [],
   "source": [
    "import pandas as pd\n",
    "import openpyxl\n",
    "import numpy as np\n",
    "from openpyxl.utils.dataframe import dataframe_to_rows\n",
    "from openpyxl.styles import Font\n",
    "from openpyxl.styles import Alignment\n",
    "from openpyxl.styles import Color, PatternFill, Font, Border\n",
    "from openpyxl.styles import colors\n",
    "import time\n",
    "import datetime\n",
    "from datetime import date"
   ]
  },
  {
   "cell_type": "code",
   "execution_count": 710,
   "id": "b8edebea",
   "metadata": {},
   "outputs": [],
   "source": [
    "name_file_abiturs = 'data/abitur.xlsx'\n",
    "name_file_person = 'data/person.xlsx'\n",
    "path_to_end_folder_report = 'data'"
   ]
  },
  {
   "cell_type": "code",
   "execution_count": 711,
   "id": "97e781f7",
   "metadata": {},
   "outputs": [],
   "source": [
    "df_abitur = pd.read_excel(name_file_abiturs,skiprows=3,usecols=['Абитуриент','Доп. статус','Состояние'])\n",
    "df_person = pd.read_excel(name_file_person,sheet_name='Абитуриенты',skiprows=8,usecols=['ФИО','Нуждается в общежитии','Формирующее подр.','Направление, специальность, профессия','Сдан оригинал'])"
   ]
  },
  {
   "cell_type": "code",
   "execution_count": 712,
   "id": "f4c1654e",
   "metadata": {},
   "outputs": [],
   "source": [
    "wb = openpyxl.Workbook()\n",
    "# Переименовываем лист\n",
    "sheet = wb['Sheet']\n",
    "sheet.title = 'Отчет'"
   ]
  },
  {
   "cell_type": "code",
   "execution_count": 717,
   "id": "5d30f32a",
   "metadata": {},
   "outputs": [],
   "source": [
    "# Соединяем оба датафрейма"
   ]
  },
  {
   "cell_type": "code",
   "execution_count": 718,
   "id": "75701dea",
   "metadata": {},
   "outputs": [],
   "source": [
    "cross_df = df_person.merge(df_abitur,how='inner',left_on='ФИО',right_on='Абитуриент')"
   ]
  },
  {
   "cell_type": "code",
   "execution_count": null,
   "id": "5a446b6f",
   "metadata": {},
   "outputs": [],
   "source": []
  },
  {
   "cell_type": "code",
   "execution_count": 719,
   "id": "bf7b25fc",
   "metadata": {},
   "outputs": [],
   "source": [
    "# Преобразовываем да-нет в 1 или 0 для подсчетов\n",
    "cross_df['Нуждается в общежитии'] =cross_df['Нуждается в общежитии'].apply(lambda x:0 if x =='нет' else 1)\n",
    "cross_df['Сдан оригинал'] =cross_df['Сдан оригинал'].apply(lambda x:0 if x =='нет' else 1)\n",
    "cross_df['Состояние'] =cross_df['Состояние'].apply(lambda x:1 if x =='Забрал документы' else 0)\n"
   ]
  },
  {
   "cell_type": "code",
   "execution_count": 720,
   "id": "39f0182f",
   "metadata": {},
   "outputs": [],
   "source": [
    "# заменяем нан на пустые строки чтобы произвести поиск слова сирота;\n",
    "cross_df['Доп. статус'].fillna('',inplace=True)\n",
    "cross_df['Доп. статус'] = cross_df['Доп. статус'].apply(lambda x:1 if 'Сирота;' in x else 0)"
   ]
  },
  {
   "cell_type": "code",
   "execution_count": 721,
   "id": "ccd1f896",
   "metadata": {},
   "outputs": [],
   "source": [
    "cross_df['for_counting'] = 1"
   ]
  },
  {
   "cell_type": "code",
   "execution_count": 722,
   "id": "752a7d0e",
   "metadata": {},
   "outputs": [],
   "source": [
    "svod_df = pd.DataFrame.pivot_table(cross_df,index=['Формирующее подр.','Направление, специальность, профессия'],\n",
    "                     values=['for_counting','Состояние','Сдан оригинал','Доп. статус','Нуждается в общежитии'],\n",
    "                     aggfunc='sum')"
   ]
  },
  {
   "cell_type": "code",
   "execution_count": 724,
   "id": "326e528e",
   "metadata": {},
   "outputs": [],
   "source": [
    "svod_df.columns = ['Сдали всего','Сирот чел.','Нуждается в общежитии чел.','Сдано оригиналов','Забрали заявления']"
   ]
  },
  {
   "cell_type": "code",
   "execution_count": 725,
   "id": "dc9cdfd7",
   "metadata": {},
   "outputs": [],
   "source": [
    "svod_df['Итого'] = svod_df['Сдали всего'] - svod_df['Забрали заявления']"
   ]
  },
  {
   "cell_type": "code",
   "execution_count": 726,
   "id": "32a681b3",
   "metadata": {},
   "outputs": [],
   "source": [
    "# Меняем местами столбцы\n",
    "out_df = svod_df.reindex(columns=['Сдали всего','Забрали заявления','Итого','Сдано оригиналов','Сирот чел.','Нуждается в общежитии чел.'])"
   ]
  },
  {
   "cell_type": "code",
   "execution_count": 727,
   "id": "f2cc11bc",
   "metadata": {},
   "outputs": [],
   "source": [
    "# разворачиваем столбец в строку\n",
    "sum_row=out_df.sum(axis=0).to_frame().transpose()"
   ]
  },
  {
   "cell_type": "code",
   "execution_count": 728,
   "id": "7be30c12",
   "metadata": {},
   "outputs": [],
   "source": [
    "# Добавляем колонки чтобы сделать из них мультинидекс .Ужасно решение но что есть то есть\n",
    "sum_row['1'] ='Всего'\n",
    "sum_row['2'] = ''"
   ]
  },
  {
   "cell_type": "code",
   "execution_count": 730,
   "id": "ce02efe9",
   "metadata": {},
   "outputs": [],
   "source": [
    "# Делем мультинидекс и объединяем датафреймы\n",
    "sum_row.set_index(['1','2'],inplace=True)\n",
    "all_out_df = pd.concat([out_df,sum_row],axis=0)\n",
    "\n"
   ]
  },
  {
   "cell_type": "code",
   "execution_count": 733,
   "id": "bc27684d",
   "metadata": {},
   "outputs": [],
   "source": [
    "#Преобразовываем мультинидекс в колонки\n",
    "finish_df=all_out_df.reset_index()"
   ]
  },
  {
   "cell_type": "code",
   "execution_count": 734,
   "id": "51b5ded0",
   "metadata": {},
   "outputs": [],
   "source": [
    "for r in dataframe_to_rows(finish_df,index =False,header=True):\n",
    "    if len(r) != 1:\n",
    "        wb['Отчет'].append(r)"
   ]
  },
  {
   "cell_type": "code",
   "execution_count": 735,
   "id": "62a42a94",
   "metadata": {},
   "outputs": [],
   "source": [
    "# # Настраиваем выходной файл\n",
    "wb['Отчет'].column_dimensions['A'].width =30\n",
    "wb['Отчет'].column_dimensions['B'].width =50\n",
    "wb['Отчет']['B2'].alignment = Alignment(wrap_text=True)\n",
    "wb['Отчет'].column_dimensions['C'].width =20\n",
    "wb['Отчет'].column_dimensions['D'].width =20\n",
    "wb['Отчет'].column_dimensions['F'].width =20\n",
    "wb['Отчет'].column_dimensions['G'].width =20\n",
    "wb['Отчет'].column_dimensions['H'].width =30\n",
    "wb['Отчет']['H1'].alignment = Alignment(wrap_text=True)"
   ]
  },
  {
   "cell_type": "code",
   "execution_count": 736,
   "id": "0e34119e",
   "metadata": {},
   "outputs": [],
   "source": [
    " # Получаем текущее время для того чтобы использовать в названии\n",
    "t = time.localtime()\n",
    "current_time = time.strftime('%H_%M_%S', t)\n",
    "# Сохраняем итоговый файл\n",
    "wb.save(f'{path_to_end_folder_report}/Ежедневный отчет приемной комиссии ГБПОУ БРИТ {current_time}.xlsx')"
   ]
  },
  {
   "cell_type": "code",
   "execution_count": null,
   "id": "44110860",
   "metadata": {},
   "outputs": [],
   "source": []
  },
  {
   "cell_type": "code",
   "execution_count": null,
   "id": "2b6c3df8",
   "metadata": {},
   "outputs": [],
   "source": []
  },
  {
   "cell_type": "code",
   "execution_count": null,
   "id": "bae3e53e",
   "metadata": {},
   "outputs": [],
   "source": []
  },
  {
   "cell_type": "code",
   "execution_count": null,
   "id": "32691a73",
   "metadata": {},
   "outputs": [],
   "source": []
  }
 ],
 "metadata": {
  "kernelspec": {
   "display_name": "Python 3 (ipykernel)",
   "language": "python",
   "name": "python3"
  },
  "language_info": {
   "codemirror_mode": {
    "name": "ipython",
    "version": 3
   },
   "file_extension": ".py",
   "mimetype": "text/x-python",
   "name": "python",
   "nbconvert_exporter": "python",
   "pygments_lexer": "ipython3",
   "version": "3.9.7"
  }
 },
 "nbformat": 4,
 "nbformat_minor": 5
}
