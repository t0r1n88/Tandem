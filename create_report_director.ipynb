{
 "cells": [
  {
   "cell_type": "code",
   "execution_count": 306,
   "id": "c426781f",
   "metadata": {},
   "outputs": [],
   "source": [
    "import pandas as pd\n",
    "import openpyxl\n",
    "import numpy as np\n",
    "from openpyxl.utils.dataframe import dataframe_to_rows\n",
    "from openpyxl.styles import Font\n",
    "from openpyxl.styles import Alignment\n",
    "from openpyxl.styles import Color, PatternFill, Font, Border\n",
    "from openpyxl.styles import colors\n",
    "import time\n",
    "import datetime\n",
    "from datetime import date"
   ]
  },
  {
   "cell_type": "code",
   "execution_count": 307,
   "id": "b8edebea",
   "metadata": {},
   "outputs": [],
   "source": [
    "name_file_abiturs = 'data/abitur.xlsx'\n",
    "name_file_person = 'data/person.xlsx'\n",
    "path_to_end_folder_report = 'data'"
   ]
  },
  {
   "cell_type": "code",
   "execution_count": 308,
   "id": "97e781f7",
   "metadata": {},
   "outputs": [],
   "source": [
    "df_abitur = pd.read_excel(name_file_abiturs,skiprows=3,usecols=['Абитуриент','Доп. статус','Состояние'])\n",
    "df_person = pd.read_excel(name_file_person,sheet_name='Абитуриенты',skiprows=8,usecols=['ФИО','Нуждается в общежитии','Формирующее подр.','Направление, специальность, профессия','Сдан оригинал'])"
   ]
  },
  {
   "cell_type": "code",
   "execution_count": 309,
   "id": "f4c1654e",
   "metadata": {},
   "outputs": [],
   "source": [
    "wb = openpyxl.Workbook()\n",
    "# Переименовываем лист\n",
    "sheet = wb['Sheet']\n",
    "sheet.title = 'Отчет'"
   ]
  },
  {
   "cell_type": "code",
   "execution_count": 310,
   "id": "cb880712",
   "metadata": {},
   "outputs": [
    {
     "data": {
      "text/html": [
       "<div>\n",
       "<style scoped>\n",
       "    .dataframe tbody tr th:only-of-type {\n",
       "        vertical-align: middle;\n",
       "    }\n",
       "\n",
       "    .dataframe tbody tr th {\n",
       "        vertical-align: top;\n",
       "    }\n",
       "\n",
       "    .dataframe thead th {\n",
       "        text-align: right;\n",
       "    }\n",
       "</style>\n",
       "<table border=\"1\" class=\"dataframe\">\n",
       "  <thead>\n",
       "    <tr style=\"text-align: right;\">\n",
       "      <th></th>\n",
       "      <th>ФИО</th>\n",
       "      <th>Нуждается в общежитии</th>\n",
       "      <th>Формирующее подр.</th>\n",
       "      <th>Направление, специальность, профессия</th>\n",
       "      <th>Сдан оригинал</th>\n",
       "    </tr>\n",
       "  </thead>\n",
       "  <tbody>\n",
       "    <tr>\n",
       "      <th>0</th>\n",
       "      <td>Бамбаров Арсалан Амгаланович</td>\n",
       "      <td>нет</td>\n",
       "      <td>Отделение железнодорожного транспорта</td>\n",
       "      <td>23.01.09 Машинист локомотива</td>\n",
       "      <td>нет</td>\n",
       "    </tr>\n",
       "    <tr>\n",
       "      <th>1</th>\n",
       "      <td>Галиагбаров Максим Романович</td>\n",
       "      <td>нет</td>\n",
       "      <td>Отделение железнодорожного транспорта</td>\n",
       "      <td>23.01.09 Машинист локомотива</td>\n",
       "      <td>нет</td>\n",
       "    </tr>\n",
       "    <tr>\n",
       "      <th>2</th>\n",
       "      <td>Литвинова Ульяна Алексеевна</td>\n",
       "      <td>нет</td>\n",
       "      <td>Отделение энергоснабжения</td>\n",
       "      <td>38.02.02 Страховое дело (по отраслям)</td>\n",
       "      <td>нет</td>\n",
       "    </tr>\n",
       "  </tbody>\n",
       "</table>\n",
       "</div>"
      ],
      "text/plain": [
       "                            ФИО Нуждается в общежитии  \\\n",
       "0  Бамбаров Арсалан Амгаланович                   нет   \n",
       "1  Галиагбаров Максим Романович                   нет   \n",
       "2   Литвинова Ульяна Алексеевна                   нет   \n",
       "\n",
       "                       Формирующее подр.  \\\n",
       "0  Отделение железнодорожного транспорта   \n",
       "1  Отделение железнодорожного транспорта   \n",
       "2              Отделение энергоснабжения   \n",
       "\n",
       "   Направление, специальность, профессия Сдан оригинал  \n",
       "0           23.01.09 Машинист локомотива           нет  \n",
       "1           23.01.09 Машинист локомотива           нет  \n",
       "2  38.02.02 Страховое дело (по отраслям)           нет  "
      ]
     },
     "execution_count": 310,
     "metadata": {},
     "output_type": "execute_result"
    }
   ],
   "source": [
    "df_person.head()"
   ]
  },
  {
   "cell_type": "code",
   "execution_count": 311,
   "id": "0d1dbb59",
   "metadata": {},
   "outputs": [
    {
     "data": {
      "text/html": [
       "<div>\n",
       "<style scoped>\n",
       "    .dataframe tbody tr th:only-of-type {\n",
       "        vertical-align: middle;\n",
       "    }\n",
       "\n",
       "    .dataframe tbody tr th {\n",
       "        vertical-align: top;\n",
       "    }\n",
       "\n",
       "    .dataframe thead th {\n",
       "        text-align: right;\n",
       "    }\n",
       "</style>\n",
       "<table border=\"1\" class=\"dataframe\">\n",
       "  <thead>\n",
       "    <tr style=\"text-align: right;\">\n",
       "      <th></th>\n",
       "      <th>Абитуриент</th>\n",
       "      <th>Доп. статус</th>\n",
       "      <th>Состояние</th>\n",
       "    </tr>\n",
       "  </thead>\n",
       "  <tbody>\n",
       "    <tr>\n",
       "      <th>0</th>\n",
       "      <td>Галиагбаров Максим Романович</td>\n",
       "      <td>NaN</td>\n",
       "      <td>Сданы ВИ</td>\n",
       "    </tr>\n",
       "    <tr>\n",
       "      <th>1</th>\n",
       "      <td>Бамбаров Арсалан Амгаланович</td>\n",
       "      <td>NaN</td>\n",
       "      <td>Сданы ВИ</td>\n",
       "    </tr>\n",
       "    <tr>\n",
       "      <th>2</th>\n",
       "      <td>Литвинова Ульяна Алексеевна</td>\n",
       "      <td>NaN</td>\n",
       "      <td>Сданы ВИ</td>\n",
       "    </tr>\n",
       "  </tbody>\n",
       "</table>\n",
       "</div>"
      ],
      "text/plain": [
       "                     Абитуриент  Доп. статус Состояние\n",
       "0  Галиагбаров Максим Романович          NaN  Сданы ВИ\n",
       "1  Бамбаров Арсалан Амгаланович          NaN  Сданы ВИ\n",
       "2   Литвинова Ульяна Алексеевна          NaN  Сданы ВИ"
      ]
     },
     "execution_count": 311,
     "metadata": {},
     "output_type": "execute_result"
    }
   ],
   "source": [
    "df_abitur.head()"
   ]
  },
  {
   "cell_type": "code",
   "execution_count": 312,
   "id": "59fe72a3",
   "metadata": {},
   "outputs": [
    {
     "data": {
      "text/plain": [
       "(3, 5)"
      ]
     },
     "execution_count": 312,
     "metadata": {},
     "output_type": "execute_result"
    }
   ],
   "source": [
    "df_person.shape"
   ]
  },
  {
   "cell_type": "code",
   "execution_count": 313,
   "id": "c9327552",
   "metadata": {},
   "outputs": [
    {
     "data": {
      "text/plain": [
       "(3, 3)"
      ]
     },
     "execution_count": 313,
     "metadata": {},
     "output_type": "execute_result"
    }
   ],
   "source": [
    "df_abitur.shape"
   ]
  },
  {
   "cell_type": "code",
   "execution_count": 314,
   "id": "5d30f32a",
   "metadata": {},
   "outputs": [],
   "source": [
    "# Соединяем оба датафрейма"
   ]
  },
  {
   "cell_type": "code",
   "execution_count": 315,
   "id": "75701dea",
   "metadata": {},
   "outputs": [],
   "source": [
    "cross_df = df_person.merge(df_abitur,how='inner',left_on='ФИО',right_on='Абитуриент')"
   ]
  },
  {
   "cell_type": "code",
   "execution_count": null,
   "id": "5a446b6f",
   "metadata": {},
   "outputs": [],
   "source": []
  },
  {
   "cell_type": "code",
   "execution_count": 316,
   "id": "bf7b25fc",
   "metadata": {},
   "outputs": [],
   "source": [
    "# Преобразовываем да-нет в 1 или 0 для подсчетов\n",
    "cross_df['Нуждается в общежитии'] =cross_df['Нуждается в общежитии'].apply(lambda x:0 if x =='нет' else 1)\n",
    "cross_df['Сдан оригинал'] =cross_df['Сдан оригинал'].apply(lambda x:0 if x =='нет' else 1)\n",
    "cross_df['Состояние'] =cross_df['Состояние'].apply(lambda x:1 if x =='Забрал документы' else 0)\n"
   ]
  },
  {
   "cell_type": "code",
   "execution_count": 317,
   "id": "39f0182f",
   "metadata": {},
   "outputs": [],
   "source": [
    "# заменяем нан на пустые строки чтобы произвести поиск слова сирота;\n",
    "cross_df['Доп. статус'].fillna('',inplace=True)\n",
    "cross_df['Доп. статус'] = cross_df['Доп. статус'].apply(lambda x:1 if 'Сирота;' in x else 0)"
   ]
  },
  {
   "cell_type": "code",
   "execution_count": 318,
   "id": "ccd1f896",
   "metadata": {},
   "outputs": [],
   "source": [
    "cross_df['for_counting'] = 1"
   ]
  },
  {
   "cell_type": "code",
   "execution_count": 319,
   "id": "752a7d0e",
   "metadata": {},
   "outputs": [],
   "source": [
    "svod_df = pd.DataFrame.pivot_table(cross_df,index=['Формирующее подр.','Направление, специальность, профессия'],\n",
    "                     values=['for_counting','Состояние','Сдан оригинал','Доп. статус','Нуждается в общежитии'],\n",
    "                     aggfunc='sum')"
   ]
  },
  {
   "cell_type": "code",
   "execution_count": 320,
   "id": "7ce288d6",
   "metadata": {},
   "outputs": [
    {
     "data": {
      "text/html": [
       "<div>\n",
       "<style scoped>\n",
       "    .dataframe tbody tr th:only-of-type {\n",
       "        vertical-align: middle;\n",
       "    }\n",
       "\n",
       "    .dataframe tbody tr th {\n",
       "        vertical-align: top;\n",
       "    }\n",
       "\n",
       "    .dataframe thead th {\n",
       "        text-align: right;\n",
       "    }\n",
       "</style>\n",
       "<table border=\"1\" class=\"dataframe\">\n",
       "  <thead>\n",
       "    <tr style=\"text-align: right;\">\n",
       "      <th></th>\n",
       "      <th></th>\n",
       "      <th>for_counting</th>\n",
       "      <th>Доп. статус</th>\n",
       "      <th>Нуждается в общежитии</th>\n",
       "      <th>Сдан оригинал</th>\n",
       "      <th>Состояние</th>\n",
       "    </tr>\n",
       "    <tr>\n",
       "      <th>Формирующее подр.</th>\n",
       "      <th>Направление, специальность, профессия</th>\n",
       "      <th></th>\n",
       "      <th></th>\n",
       "      <th></th>\n",
       "      <th></th>\n",
       "      <th></th>\n",
       "    </tr>\n",
       "  </thead>\n",
       "  <tbody>\n",
       "    <tr>\n",
       "      <th>Отделение железнодорожного транспорта</th>\n",
       "      <th>23.01.09 Машинист локомотива</th>\n",
       "      <td>2</td>\n",
       "      <td>0</td>\n",
       "      <td>0</td>\n",
       "      <td>0</td>\n",
       "      <td>0</td>\n",
       "    </tr>\n",
       "    <tr>\n",
       "      <th>Отделение энергоснабжения</th>\n",
       "      <th>38.02.02 Страховое дело (по отраслям)</th>\n",
       "      <td>1</td>\n",
       "      <td>0</td>\n",
       "      <td>0</td>\n",
       "      <td>0</td>\n",
       "      <td>0</td>\n",
       "    </tr>\n",
       "  </tbody>\n",
       "</table>\n",
       "</div>"
      ],
      "text/plain": [
       "                                                                             for_counting  \\\n",
       "Формирующее подр.                     Направление, специальность, профессия                 \n",
       "Отделение железнодорожного транспорта 23.01.09 Машинист локомотива                      2   \n",
       "Отделение энергоснабжения             38.02.02 Страховое дело (по отраслям)             1   \n",
       "\n",
       "                                                                             Доп. статус  \\\n",
       "Формирующее подр.                     Направление, специальность, профессия                \n",
       "Отделение железнодорожного транспорта 23.01.09 Машинист локомотива                     0   \n",
       "Отделение энергоснабжения             38.02.02 Страховое дело (по отраслям)            0   \n",
       "\n",
       "                                                                             Нуждается в общежитии  \\\n",
       "Формирующее подр.                     Направление, специальность, профессия                          \n",
       "Отделение железнодорожного транспорта 23.01.09 Машинист локомотива                               0   \n",
       "Отделение энергоснабжения             38.02.02 Страховое дело (по отраслям)                      0   \n",
       "\n",
       "                                                                             Сдан оригинал  \\\n",
       "Формирующее подр.                     Направление, специальность, профессия                  \n",
       "Отделение железнодорожного транспорта 23.01.09 Машинист локомотива                       0   \n",
       "Отделение энергоснабжения             38.02.02 Страховое дело (по отраслям)              0   \n",
       "\n",
       "                                                                             Состояние  \n",
       "Формирующее подр.                     Направление, специальность, профессия             \n",
       "Отделение железнодорожного транспорта 23.01.09 Машинист локомотива                   0  \n",
       "Отделение энергоснабжения             38.02.02 Страховое дело (по отраслям)          0  "
      ]
     },
     "execution_count": 320,
     "metadata": {},
     "output_type": "execute_result"
    }
   ],
   "source": [
    "svod_df.head()"
   ]
  },
  {
   "cell_type": "code",
   "execution_count": 321,
   "id": "326e528e",
   "metadata": {},
   "outputs": [],
   "source": [
    "svod_df.columns = ['Сдали всего','Сирот чел.','Нуждается в общежитии чел.','Сдано оригиналов','Забрали заявления чел.']"
   ]
  },
  {
   "cell_type": "code",
   "execution_count": 322,
   "id": "dc9cdfd7",
   "metadata": {},
   "outputs": [],
   "source": [
    "svod_df['Итого'] = svod_df['Сдали всего'] - svod_df['Забрали заявления чел.']"
   ]
  },
  {
   "cell_type": "code",
   "execution_count": 323,
   "id": "32a681b3",
   "metadata": {},
   "outputs": [],
   "source": [
    "# Меняем местами столбцы\n",
    "out_df = svod_df.reindex(columns=['Сдали всего','Забрали заявления чел.','Итого','Сдано оригиналов','Сирот чел.','Нуждается в общежитии чел.'])"
   ]
  },
  {
   "cell_type": "code",
   "execution_count": null,
   "id": "b984d203",
   "metadata": {},
   "outputs": [],
   "source": []
  },
  {
   "cell_type": "code",
   "execution_count": 324,
   "id": "51b5ded0",
   "metadata": {},
   "outputs": [],
   "source": [
    "for r in dataframe_to_rows(out_df,index =True,header=True):\n",
    "    if len(r) != 1:\n",
    "        wb['Отчет'].append(r)"
   ]
  },
  {
   "cell_type": "code",
   "execution_count": 325,
   "id": "62a42a94",
   "metadata": {},
   "outputs": [],
   "source": [
    "# # Настраиваем выходной файл\n",
    "wb['Отчет'].column_dimensions['A'].width =30\n",
    "wb['Отчет'].column_dimensions['B'].width =50\n",
    "wb['Отчет']['B2'].alignment = Alignment(wrap_text=True)\n",
    "wb['Отчет'].column_dimensions['C'].width =20\n",
    "wb['Отчет'].column_dimensions['D'].width =20\n",
    "wb['Отчет'].column_dimensions['F'].width =20\n",
    "wb['Отчет'].column_dimensions['G'].width =20\n",
    "wb['Отчет'].column_dimensions['H'].width =30\n",
    "wb['Отчет']['H1'].alignment = Alignment(wrap_text=True)"
   ]
  },
  {
   "cell_type": "code",
   "execution_count": 326,
   "id": "0e34119e",
   "metadata": {},
   "outputs": [],
   "source": [
    " # Получаем текущее время для того чтобы использовать в названии\n",
    "t = time.localtime()\n",
    "current_time = time.strftime('%H_%M_%S', t)\n",
    "# Сохраняем итоговый файл\n",
    "wb.save(f'{path_to_end_folder_report}/Ежедневный отчет приемной комиссии ГБПОУ БРИТ {current_time}.xlsx')"
   ]
  },
  {
   "cell_type": "code",
   "execution_count": 327,
   "id": "7352eebd",
   "metadata": {},
   "outputs": [
    {
     "data": {
      "text/html": [
       "<div>\n",
       "<style scoped>\n",
       "    .dataframe tbody tr th:only-of-type {\n",
       "        vertical-align: middle;\n",
       "    }\n",
       "\n",
       "    .dataframe tbody tr th {\n",
       "        vertical-align: top;\n",
       "    }\n",
       "\n",
       "    .dataframe thead th {\n",
       "        text-align: right;\n",
       "    }\n",
       "</style>\n",
       "<table border=\"1\" class=\"dataframe\">\n",
       "  <thead>\n",
       "    <tr style=\"text-align: right;\">\n",
       "      <th></th>\n",
       "      <th></th>\n",
       "      <th>Сдали всего</th>\n",
       "      <th>Забрали заявления чел.</th>\n",
       "      <th>Итого</th>\n",
       "      <th>Сдано оригиналов</th>\n",
       "      <th>Сирот чел.</th>\n",
       "      <th>Нуждается в общежитии чел.</th>\n",
       "    </tr>\n",
       "    <tr>\n",
       "      <th>Формирующее подр.</th>\n",
       "      <th>Направление, специальность, профессия</th>\n",
       "      <th></th>\n",
       "      <th></th>\n",
       "      <th></th>\n",
       "      <th></th>\n",
       "      <th></th>\n",
       "      <th></th>\n",
       "    </tr>\n",
       "  </thead>\n",
       "  <tbody>\n",
       "    <tr>\n",
       "      <th>Отделение железнодорожного транспорта</th>\n",
       "      <th>23.01.09 Машинист локомотива</th>\n",
       "      <td>2</td>\n",
       "      <td>0</td>\n",
       "      <td>2</td>\n",
       "      <td>0</td>\n",
       "      <td>0</td>\n",
       "      <td>0</td>\n",
       "    </tr>\n",
       "    <tr>\n",
       "      <th>Отделение энергоснабжения</th>\n",
       "      <th>38.02.02 Страховое дело (по отраслям)</th>\n",
       "      <td>1</td>\n",
       "      <td>0</td>\n",
       "      <td>1</td>\n",
       "      <td>0</td>\n",
       "      <td>0</td>\n",
       "      <td>0</td>\n",
       "    </tr>\n",
       "  </tbody>\n",
       "</table>\n",
       "</div>"
      ],
      "text/plain": [
       "                                                                             Сдали всего  \\\n",
       "Формирующее подр.                     Направление, специальность, профессия                \n",
       "Отделение железнодорожного транспорта 23.01.09 Машинист локомотива                     2   \n",
       "Отделение энергоснабжения             38.02.02 Страховое дело (по отраслям)            1   \n",
       "\n",
       "                                                                             Забрали заявления чел.  \\\n",
       "Формирующее подр.                     Направление, специальность, профессия                           \n",
       "Отделение железнодорожного транспорта 23.01.09 Машинист локомотива                                0   \n",
       "Отделение энергоснабжения             38.02.02 Страховое дело (по отраслям)                       0   \n",
       "\n",
       "                                                                             Итого  \\\n",
       "Формирующее подр.                     Направление, специальность, профессия          \n",
       "Отделение железнодорожного транспорта 23.01.09 Машинист локомотива               2   \n",
       "Отделение энергоснабжения             38.02.02 Страховое дело (по отраслям)      1   \n",
       "\n",
       "                                                                             Сдано оригиналов  \\\n",
       "Формирующее подр.                     Направление, специальность, профессия                     \n",
       "Отделение железнодорожного транспорта 23.01.09 Машинист локомотива                          0   \n",
       "Отделение энергоснабжения             38.02.02 Страховое дело (по отраслям)                 0   \n",
       "\n",
       "                                                                             Сирот чел.  \\\n",
       "Формирующее подр.                     Направление, специальность, профессия               \n",
       "Отделение железнодорожного транспорта 23.01.09 Машинист локомотива                    0   \n",
       "Отделение энергоснабжения             38.02.02 Страховое дело (по отраслям)           0   \n",
       "\n",
       "                                                                             Нуждается в общежитии чел.  \n",
       "Формирующее подр.                     Направление, специальность, профессия                              \n",
       "Отделение железнодорожного транспорта 23.01.09 Машинист локомотива                                    0  \n",
       "Отделение энергоснабжения             38.02.02 Страховое дело (по отраслям)                           0  "
      ]
     },
     "execution_count": 327,
     "metadata": {},
     "output_type": "execute_result"
    }
   ],
   "source": [
    "out_df"
   ]
  },
  {
   "cell_type": "code",
   "execution_count": 354,
   "id": "c24e31de",
   "metadata": {},
   "outputs": [],
   "source": [
    "res_df = out_df.reset_index()"
   ]
  },
  {
   "cell_type": "code",
   "execution_count": 355,
   "id": "7bc0afa9",
   "metadata": {},
   "outputs": [],
   "source": [
    "# Суммируем и Разворачиваем столбец в строку\n",
    "sum_row=res_df.sum(axis=0).to_frame().transpose()\n"
   ]
  },
  {
   "cell_type": "code",
   "execution_count": 358,
   "id": "bae3e53e",
   "metadata": {},
   "outputs": [],
   "source": [
    "all_out_df = pd.concat([res_df,sum_row],axis=0)"
   ]
  },
  {
   "cell_type": "code",
   "execution_count": 359,
   "id": "df29ffcf",
   "metadata": {},
   "outputs": [
    {
     "data": {
      "text/html": [
       "<div>\n",
       "<style scoped>\n",
       "    .dataframe tbody tr th:only-of-type {\n",
       "        vertical-align: middle;\n",
       "    }\n",
       "\n",
       "    .dataframe tbody tr th {\n",
       "        vertical-align: top;\n",
       "    }\n",
       "\n",
       "    .dataframe thead th {\n",
       "        text-align: right;\n",
       "    }\n",
       "</style>\n",
       "<table border=\"1\" class=\"dataframe\">\n",
       "  <thead>\n",
       "    <tr style=\"text-align: right;\">\n",
       "      <th></th>\n",
       "      <th>Формирующее подр.</th>\n",
       "      <th>Направление, специальность, профессия</th>\n",
       "      <th>Сдали всего</th>\n",
       "      <th>Забрали заявления чел.</th>\n",
       "      <th>Итого</th>\n",
       "      <th>Сдано оригиналов</th>\n",
       "      <th>Сирот чел.</th>\n",
       "      <th>Нуждается в общежитии чел.</th>\n",
       "    </tr>\n",
       "  </thead>\n",
       "  <tbody>\n",
       "    <tr>\n",
       "      <th>0</th>\n",
       "      <td>Отделение железнодорожного транспорта</td>\n",
       "      <td>23.01.09 Машинист локомотива</td>\n",
       "      <td>2</td>\n",
       "      <td>0</td>\n",
       "      <td>2</td>\n",
       "      <td>0</td>\n",
       "      <td>0</td>\n",
       "      <td>0</td>\n",
       "    </tr>\n",
       "    <tr>\n",
       "      <th>1</th>\n",
       "      <td>Отделение энергоснабжения</td>\n",
       "      <td>38.02.02 Страховое дело (по отраслям)</td>\n",
       "      <td>1</td>\n",
       "      <td>0</td>\n",
       "      <td>1</td>\n",
       "      <td>0</td>\n",
       "      <td>0</td>\n",
       "      <td>0</td>\n",
       "    </tr>\n",
       "    <tr>\n",
       "      <th>0</th>\n",
       "      <td>Отделение железнодорожного транспортаОтделение...</td>\n",
       "      <td>23.01.09 Машинист локомотива38.02.02 Страховое...</td>\n",
       "      <td>3</td>\n",
       "      <td>0</td>\n",
       "      <td>3</td>\n",
       "      <td>0</td>\n",
       "      <td>0</td>\n",
       "      <td>0</td>\n",
       "    </tr>\n",
       "  </tbody>\n",
       "</table>\n",
       "</div>"
      ],
      "text/plain": [
       "                                   Формирующее подр.  \\\n",
       "0              Отделение железнодорожного транспорта   \n",
       "1                          Отделение энергоснабжения   \n",
       "0  Отделение железнодорожного транспортаОтделение...   \n",
       "\n",
       "               Направление, специальность, профессия Сдали всего  \\\n",
       "0                       23.01.09 Машинист локомотива           2   \n",
       "1              38.02.02 Страховое дело (по отраслям)           1   \n",
       "0  23.01.09 Машинист локомотива38.02.02 Страховое...           3   \n",
       "\n",
       "  Забрали заявления чел. Итого Сдано оригиналов Сирот чел.  \\\n",
       "0                      0     2                0          0   \n",
       "1                      0     1                0          0   \n",
       "0                      0     3                0          0   \n",
       "\n",
       "  Нуждается в общежитии чел.  \n",
       "0                          0  \n",
       "1                          0  \n",
       "0                          0  "
      ]
     },
     "execution_count": 359,
     "metadata": {},
     "output_type": "execute_result"
    }
   ],
   "source": [
    "all_out_df"
   ]
  },
  {
   "cell_type": "code",
   "execution_count": null,
   "id": "32691a73",
   "metadata": {},
   "outputs": [],
   "source": []
  }
 ],
 "metadata": {
  "kernelspec": {
   "display_name": "Python 3 (ipykernel)",
   "language": "python",
   "name": "python3"
  },
  "language_info": {
   "codemirror_mode": {
    "name": "ipython",
    "version": 3
   },
   "file_extension": ".py",
   "mimetype": "text/x-python",
   "name": "python",
   "nbconvert_exporter": "python",
   "pygments_lexer": "ipython3",
   "version": "3.9.7"
  }
 },
 "nbformat": 4,
 "nbformat_minor": 5
}
