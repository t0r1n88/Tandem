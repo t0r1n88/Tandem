{
 "cells": [
  {
   "cell_type": "code",
   "execution_count": 403,
   "id": "5227c4da",
   "metadata": {},
   "outputs": [
    {
     "data": {
      "text/plain": [
       "'\\nскрипт для разбиения по тепловозниками и электровозникам\\n'"
      ]
     },
     "execution_count": 403,
     "metadata": {},
     "output_type": "execute_result"
    }
   ],
   "source": [
    "\"\"\"\n",
    "скрипт для разбиения по тепловозниками и электровозникам\n",
    "\"\"\""
   ]
  },
  {
   "cell_type": "code",
   "execution_count": 404,
   "id": "948a2e4e",
   "metadata": {},
   "outputs": [],
   "source": [
    "import pandas as pd\n",
    "import warnings\n",
    "import time\n",
    "warnings.filterwarnings('ignore', category=UserWarning, module='openpyxl')\n",
    "pd.options.mode.chained_assignment = None  # default='warn'"
   ]
  },
  {
   "cell_type": "code",
   "execution_count": 405,
   "id": "cd044639",
   "metadata": {},
   "outputs": [],
   "source": [
    "path_to_machine = 'data/Машинисты.xlsx'\n",
    "path_to_reit = 'data/Рейтинг машинисты.xlsx'\n",
    "path_to_person = 'data/Абитуриенты.xlsx'\n",
    "path_to_end_folder ='data'"
   ]
  },
  {
   "cell_type": "code",
   "execution_count": 406,
   "id": "ed1d9d7f",
   "metadata": {},
   "outputs": [],
   "source": [
    "machine_df = pd.read_excel(path_to_machine) # распредление по специальностям\n",
    "reit_df = pd.read_excel(path_to_reit,skiprows=4,header=None) # файл с таблицей из ворда\n",
    "df_person = pd.read_excel(path_to_person,sheet_name='Абитуриенты',skiprows=8) # данные абитуриентов"
   ]
  },
  {
   "cell_type": "code",
   "execution_count": 407,
   "id": "97443fba",
   "metadata": {},
   "outputs": [],
   "source": [
    "\n",
    "# генерируем текущее время\n",
    "t = time.localtime()\n",
    "current_time = time.strftime('%H_%M_%S', t)"
   ]
  },
  {
   "cell_type": "code",
   "execution_count": 408,
   "id": "b69f43b9",
   "metadata": {},
   "outputs": [],
   "source": [
    "# создаем два датафрейма для электровозников и тепловозников\n",
    "teplo_df = machine_df[['тепловоз','атт.1','мед справка.1']]\n",
    "teplo_df.dropna(axis=0,inplace=True)\n",
    "# очищаем от пробельных символов\n",
    "teplo_df['тепловоз'] = teplo_df['тепловоз'].apply(lambda x:x.strip())\n",
    "elect_df = machine_df[['электровоз','атт','мед справка']]\n",
    "elect_df['электровоз'] = elect_df['электровоз'].apply(lambda x:x.strip())"
   ]
  },
  {
   "cell_type": "code",
   "execution_count": 409,
   "id": "da1871be",
   "metadata": {},
   "outputs": [],
   "source": [
    "# создаем файл с общим списком\n",
    "temp_lst = teplo_df['тепловоз'].tolist()\n",
    "temp_lst.extend(elect_df['электровоз'].tolist())"
   ]
  },
  {
   "cell_type": "code",
   "execution_count": 410,
   "id": "a7aeee30",
   "metadata": {},
   "outputs": [],
   "source": [
    "temp_df = pd.DataFrame(columns=['ФИО общее'])"
   ]
  },
  {
   "cell_type": "code",
   "execution_count": 411,
   "id": "edb1025d",
   "metadata": {},
   "outputs": [],
   "source": [
    "temp_df['ФИО общее'] = temp_lst"
   ]
  },
  {
   "cell_type": "code",
   "execution_count": 412,
   "id": "16cfcfe2",
   "metadata": {},
   "outputs": [
    {
     "data": {
      "text/html": [
       "<div>\n",
       "<style scoped>\n",
       "    .dataframe tbody tr th:only-of-type {\n",
       "        vertical-align: middle;\n",
       "    }\n",
       "\n",
       "    .dataframe tbody tr th {\n",
       "        vertical-align: top;\n",
       "    }\n",
       "\n",
       "    .dataframe thead th {\n",
       "        text-align: right;\n",
       "    }\n",
       "</style>\n",
       "<table border=\"1\" class=\"dataframe\">\n",
       "  <thead>\n",
       "    <tr style=\"text-align: right;\">\n",
       "      <th></th>\n",
       "      <th>ФИО общее</th>\n",
       "    </tr>\n",
       "  </thead>\n",
       "  <tbody>\n",
       "    <tr>\n",
       "      <th>0</th>\n",
       "      <td>Колоколов Александр Витальевич</td>\n",
       "    </tr>\n",
       "    <tr>\n",
       "      <th>1</th>\n",
       "      <td>Воронов Максим Алексеевич</td>\n",
       "    </tr>\n",
       "    <tr>\n",
       "      <th>2</th>\n",
       "      <td>Терских Сергей Евгеньевич</td>\n",
       "    </tr>\n",
       "    <tr>\n",
       "      <th>3</th>\n",
       "      <td>Машанов Галсан Баторович</td>\n",
       "    </tr>\n",
       "    <tr>\n",
       "      <th>4</th>\n",
       "      <td>Чагочкин Кирилл Андреевич</td>\n",
       "    </tr>\n",
       "    <tr>\n",
       "      <th>...</th>\n",
       "      <td>...</td>\n",
       "    </tr>\n",
       "    <tr>\n",
       "      <th>119</th>\n",
       "      <td>Доржиев Солбон Содбоевич</td>\n",
       "    </tr>\n",
       "    <tr>\n",
       "      <th>120</th>\n",
       "      <td>Попов Богдан Сергеевич</td>\n",
       "    </tr>\n",
       "    <tr>\n",
       "      <th>121</th>\n",
       "      <td>Воронцов Евгений Михайлович</td>\n",
       "    </tr>\n",
       "    <tr>\n",
       "      <th>122</th>\n",
       "      <td>Литвинцев Даниил Денисович</td>\n",
       "    </tr>\n",
       "    <tr>\n",
       "      <th>123</th>\n",
       "      <td>Яньков Иван Игоревич</td>\n",
       "    </tr>\n",
       "  </tbody>\n",
       "</table>\n",
       "<p>124 rows × 1 columns</p>\n",
       "</div>"
      ],
      "text/plain": [
       "                          ФИО общее\n",
       "0    Колоколов Александр Витальевич\n",
       "1         Воронов Максим Алексеевич\n",
       "2         Терских Сергей Евгеньевич\n",
       "3          Машанов Галсан Баторович\n",
       "4         Чагочкин Кирилл Андреевич\n",
       "..                              ...\n",
       "119        Доржиев Солбон Содбоевич\n",
       "120          Попов Богдан Сергеевич\n",
       "121     Воронцов Евгений Михайлович\n",
       "122      Литвинцев Даниил Денисович\n",
       "123            Яньков Иван Игоревич\n",
       "\n",
       "[124 rows x 1 columns]"
      ]
     },
     "execution_count": 412,
     "metadata": {},
     "output_type": "execute_result"
    }
   ],
   "source": [
    "temp_df"
   ]
  },
  {
   "cell_type": "code",
   "execution_count": 413,
   "id": "af8035e2",
   "metadata": {},
   "outputs": [
    {
     "data": {
      "text/html": [
       "<div>\n",
       "<style scoped>\n",
       "    .dataframe tbody tr th:only-of-type {\n",
       "        vertical-align: middle;\n",
       "    }\n",
       "\n",
       "    .dataframe tbody tr th {\n",
       "        vertical-align: top;\n",
       "    }\n",
       "\n",
       "    .dataframe thead th {\n",
       "        text-align: right;\n",
       "    }\n",
       "</style>\n",
       "<table border=\"1\" class=\"dataframe\">\n",
       "  <thead>\n",
       "    <tr style=\"text-align: right;\">\n",
       "      <th></th>\n",
       "      <th>0</th>\n",
       "      <th>1</th>\n",
       "      <th>2</th>\n",
       "      <th>3</th>\n",
       "      <th>4</th>\n",
       "      <th>5</th>\n",
       "      <th>6</th>\n",
       "      <th>7</th>\n",
       "      <th>8</th>\n",
       "      <th>9</th>\n",
       "    </tr>\n",
       "  </thead>\n",
       "  <tbody>\n",
       "    <tr>\n",
       "      <th>0</th>\n",
       "      <td>1</td>\n",
       "      <td>154-483-839-91</td>\n",
       "      <td>1</td>\n",
       "      <td>4.85</td>\n",
       "      <td>0</td>\n",
       "      <td>4.847</td>\n",
       "      <td>0</td>\n",
       "      <td>NaN</td>\n",
       "      <td>0</td>\n",
       "      <td>нет</td>\n",
       "    </tr>\n",
       "    <tr>\n",
       "      <th>1</th>\n",
       "      <td>2</td>\n",
       "      <td>191-409-787-91</td>\n",
       "      <td>1</td>\n",
       "      <td>4.39</td>\n",
       "      <td>0</td>\n",
       "      <td>4.389</td>\n",
       "      <td>0</td>\n",
       "      <td>NaN</td>\n",
       "      <td>0</td>\n",
       "      <td>да</td>\n",
       "    </tr>\n",
       "  </tbody>\n",
       "</table>\n",
       "</div>"
      ],
      "text/plain": [
       "   0               1  2     3  4      5  6   7  8    9\n",
       "0  1  154-483-839-91  1  4.85  0  4.847  0 NaN  0  нет\n",
       "1  2  191-409-787-91  1  4.39  0  4.389  0 NaN  0   да"
      ]
     },
     "execution_count": 413,
     "metadata": {},
     "output_type": "execute_result"
    }
   ],
   "source": [
    "reit_df.head(2)"
   ]
  },
  {
   "cell_type": "code",
   "execution_count": 414,
   "id": "6be5f633",
   "metadata": {},
   "outputs": [
    {
     "data": {
      "text/plain": [
       "(148, 10)"
      ]
     },
     "execution_count": 414,
     "metadata": {},
     "output_type": "execute_result"
    }
   ],
   "source": [
    "reit_df.shape"
   ]
  },
  {
   "cell_type": "code",
   "execution_count": 415,
   "id": "49a74e1e",
   "metadata": {},
   "outputs": [],
   "source": [
    "snils_df = df_person[['ФИО','СНИЛС']]"
   ]
  },
  {
   "cell_type": "code",
   "execution_count": 416,
   "id": "8b1b4418",
   "metadata": {},
   "outputs": [],
   "source": [
    "snils_df = snils_df.drop_duplicates(subset='ФИО') # убираем дубликаты"
   ]
  },
  {
   "cell_type": "code",
   "execution_count": 417,
   "id": "a63ecbdf",
   "metadata": {},
   "outputs": [
    {
     "data": {
      "text/html": [
       "<div>\n",
       "<style scoped>\n",
       "    .dataframe tbody tr th:only-of-type {\n",
       "        vertical-align: middle;\n",
       "    }\n",
       "\n",
       "    .dataframe tbody tr th {\n",
       "        vertical-align: top;\n",
       "    }\n",
       "\n",
       "    .dataframe thead th {\n",
       "        text-align: right;\n",
       "    }\n",
       "</style>\n",
       "<table border=\"1\" class=\"dataframe\">\n",
       "  <thead>\n",
       "    <tr style=\"text-align: right;\">\n",
       "      <th></th>\n",
       "      <th>ФИО</th>\n",
       "      <th>СНИЛС</th>\n",
       "    </tr>\n",
       "  </thead>\n",
       "  <tbody>\n",
       "    <tr>\n",
       "      <th>0</th>\n",
       "      <td>Абросова Анастасия Витальевна</td>\n",
       "      <td>147-022-734-38</td>\n",
       "    </tr>\n",
       "    <tr>\n",
       "      <th>1</th>\n",
       "      <td>Авдеев Сергей Александрович</td>\n",
       "      <td>155-320-704-36</td>\n",
       "    </tr>\n",
       "  </tbody>\n",
       "</table>\n",
       "</div>"
      ],
      "text/plain": [
       "                             ФИО           СНИЛС\n",
       "0  Абросова Анастасия Витальевна  147-022-734-38\n",
       "1    Авдеев Сергей Александрович  155-320-704-36"
      ]
     },
     "execution_count": 417,
     "metadata": {},
     "output_type": "execute_result"
    }
   ],
   "source": [
    "snils_df.head(2)"
   ]
  },
  {
   "cell_type": "code",
   "execution_count": 418,
   "id": "19c52b1b",
   "metadata": {},
   "outputs": [],
   "source": [
    "union_df = snils_df.merge(reit_df,how='outer',left_on='СНИЛС',right_on=1,indicator=True) # объединяем датафреймы"
   ]
  },
  {
   "cell_type": "code",
   "execution_count": 419,
   "id": "d2578763",
   "metadata": {},
   "outputs": [
    {
     "data": {
      "text/html": [
       "<div>\n",
       "<style scoped>\n",
       "    .dataframe tbody tr th:only-of-type {\n",
       "        vertical-align: middle;\n",
       "    }\n",
       "\n",
       "    .dataframe tbody tr th {\n",
       "        vertical-align: top;\n",
       "    }\n",
       "\n",
       "    .dataframe thead th {\n",
       "        text-align: right;\n",
       "    }\n",
       "</style>\n",
       "<table border=\"1\" class=\"dataframe\">\n",
       "  <thead>\n",
       "    <tr style=\"text-align: right;\">\n",
       "      <th></th>\n",
       "      <th>ФИО</th>\n",
       "      <th>СНИЛС</th>\n",
       "      <th>0</th>\n",
       "      <th>1</th>\n",
       "      <th>2</th>\n",
       "      <th>3</th>\n",
       "      <th>4</th>\n",
       "      <th>5</th>\n",
       "      <th>6</th>\n",
       "      <th>7</th>\n",
       "      <th>8</th>\n",
       "      <th>9</th>\n",
       "      <th>_merge</th>\n",
       "    </tr>\n",
       "  </thead>\n",
       "  <tbody>\n",
       "    <tr>\n",
       "      <th>0</th>\n",
       "      <td>Абросова Анастасия Витальевна</td>\n",
       "      <td>147-022-734-38</td>\n",
       "      <td>NaN</td>\n",
       "      <td>NaN</td>\n",
       "      <td>NaN</td>\n",
       "      <td>NaN</td>\n",
       "      <td>NaN</td>\n",
       "      <td>NaN</td>\n",
       "      <td>NaN</td>\n",
       "      <td>NaN</td>\n",
       "      <td>NaN</td>\n",
       "      <td>NaN</td>\n",
       "      <td>left_only</td>\n",
       "    </tr>\n",
       "    <tr>\n",
       "      <th>1</th>\n",
       "      <td>Авдеев Сергей Александрович</td>\n",
       "      <td>155-320-704-36</td>\n",
       "      <td>NaN</td>\n",
       "      <td>NaN</td>\n",
       "      <td>NaN</td>\n",
       "      <td>NaN</td>\n",
       "      <td>NaN</td>\n",
       "      <td>NaN</td>\n",
       "      <td>NaN</td>\n",
       "      <td>NaN</td>\n",
       "      <td>NaN</td>\n",
       "      <td>NaN</td>\n",
       "      <td>left_only</td>\n",
       "    </tr>\n",
       "  </tbody>\n",
       "</table>\n",
       "</div>"
      ],
      "text/plain": [
       "                             ФИО           СНИЛС   0    1   2   3   4   5   6  \\\n",
       "0  Абросова Анастасия Витальевна  147-022-734-38 NaN  NaN NaN NaN NaN NaN NaN   \n",
       "1    Авдеев Сергей Александрович  155-320-704-36 NaN  NaN NaN NaN NaN NaN NaN   \n",
       "\n",
       "    7   8    9     _merge  \n",
       "0 NaN NaN  NaN  left_only  \n",
       "1 NaN NaN  NaN  left_only  "
      ]
     },
     "execution_count": 419,
     "metadata": {},
     "output_type": "execute_result"
    }
   ],
   "source": [
    "union_df.head(2)"
   ]
  },
  {
   "cell_type": "code",
   "execution_count": 420,
   "id": "7a2772a3",
   "metadata": {},
   "outputs": [
    {
     "data": {
      "text/html": [
       "<div>\n",
       "<style scoped>\n",
       "    .dataframe tbody tr th:only-of-type {\n",
       "        vertical-align: middle;\n",
       "    }\n",
       "\n",
       "    .dataframe tbody tr th {\n",
       "        vertical-align: top;\n",
       "    }\n",
       "\n",
       "    .dataframe thead th {\n",
       "        text-align: right;\n",
       "    }\n",
       "</style>\n",
       "<table border=\"1\" class=\"dataframe\">\n",
       "  <thead>\n",
       "    <tr style=\"text-align: right;\">\n",
       "      <th></th>\n",
       "      <th>ФИО</th>\n",
       "      <th>СНИЛС</th>\n",
       "      <th>0</th>\n",
       "      <th>1</th>\n",
       "      <th>2</th>\n",
       "      <th>3</th>\n",
       "      <th>4</th>\n",
       "      <th>5</th>\n",
       "      <th>6</th>\n",
       "      <th>7</th>\n",
       "      <th>8</th>\n",
       "      <th>9</th>\n",
       "      <th>_merge</th>\n",
       "    </tr>\n",
       "  </thead>\n",
       "  <tbody>\n",
       "    <tr>\n",
       "      <th>567</th>\n",
       "      <td>NaN</td>\n",
       "      <td>2300564</td>\n",
       "      <td>79.0</td>\n",
       "      <td>2300564</td>\n",
       "      <td>1.0</td>\n",
       "      <td>3.57</td>\n",
       "      <td>0.0</td>\n",
       "      <td>3.571</td>\n",
       "      <td>0.0</td>\n",
       "      <td>NaN</td>\n",
       "      <td>0.0</td>\n",
       "      <td>да</td>\n",
       "      <td>right_only</td>\n",
       "    </tr>\n",
       "  </tbody>\n",
       "</table>\n",
       "</div>"
      ],
      "text/plain": [
       "     ФИО    СНИЛС     0        1    2     3    4      5    6   7    8   9  \\\n",
       "567  NaN  2300564  79.0  2300564  1.0  3.57  0.0  3.571  0.0 NaN  0.0  да   \n",
       "\n",
       "         _merge  \n",
       "567  right_only  "
      ]
     },
     "execution_count": 420,
     "metadata": {},
     "output_type": "execute_result"
    }
   ],
   "source": [
    "union_df[union_df['_merge'] == 'right_only']"
   ]
  },
  {
   "cell_type": "code",
   "execution_count": 421,
   "id": "ca00e3cf",
   "metadata": {},
   "outputs": [],
   "source": [
    "# сохраняем тех  у кого нет снилс\n",
    "not_snils = union_df[union_df['_merge'] == 'right_only'] # сохраяем тех у кого нет снилса\n",
    "not_snils.rename(columns={1:'Личный номер'},inplace=True)\n",
    "not_snils=not_snils[['Личный номер']]"
   ]
  },
  {
   "cell_type": "code",
   "execution_count": 422,
   "id": "b9326e31",
   "metadata": {},
   "outputs": [],
   "source": [
    "clean_reit = union_df[union_df['_merge'] =='both'] # отбираем тех кто есть в обоих датафреймах"
   ]
  },
  {
   "cell_type": "code",
   "execution_count": 423,
   "id": "dbe4f27f",
   "metadata": {},
   "outputs": [],
   "source": [
    "clean_reit= clean_reit[['ФИО','СНИЛС',2,5]]\n"
   ]
  },
  {
   "cell_type": "code",
   "execution_count": 424,
   "id": "842c7342",
   "metadata": {},
   "outputs": [
    {
     "data": {
      "text/html": [
       "<div>\n",
       "<style scoped>\n",
       "    .dataframe tbody tr th:only-of-type {\n",
       "        vertical-align: middle;\n",
       "    }\n",
       "\n",
       "    .dataframe tbody tr th {\n",
       "        vertical-align: top;\n",
       "    }\n",
       "\n",
       "    .dataframe thead th {\n",
       "        text-align: right;\n",
       "    }\n",
       "</style>\n",
       "<table border=\"1\" class=\"dataframe\">\n",
       "  <thead>\n",
       "    <tr style=\"text-align: right;\">\n",
       "      <th></th>\n",
       "      <th>ФИО</th>\n",
       "      <th>СНИЛС</th>\n",
       "      <th>2</th>\n",
       "      <th>5</th>\n",
       "    </tr>\n",
       "  </thead>\n",
       "  <tbody>\n",
       "    <tr>\n",
       "      <th>2</th>\n",
       "      <td>Агафонов Семен Владимирович</td>\n",
       "      <td>172-941-745-90</td>\n",
       "      <td>1.0</td>\n",
       "      <td>3.632</td>\n",
       "    </tr>\n",
       "    <tr>\n",
       "      <th>4</th>\n",
       "      <td>Айхлер Павел Владимирович</td>\n",
       "      <td>150-435-730-34</td>\n",
       "      <td>1.0</td>\n",
       "      <td>3.476</td>\n",
       "    </tr>\n",
       "  </tbody>\n",
       "</table>\n",
       "</div>"
      ],
      "text/plain": [
       "                           ФИО           СНИЛС    2      5\n",
       "2  Агафонов Семен Владимирович  172-941-745-90  1.0  3.632\n",
       "4    Айхлер Павел Владимирович  150-435-730-34  1.0  3.476"
      ]
     },
     "execution_count": 424,
     "metadata": {},
     "output_type": "execute_result"
    }
   ],
   "source": [
    "clean_reit.head(2)"
   ]
  },
  {
   "cell_type": "code",
   "execution_count": 425,
   "id": "ade72c28",
   "metadata": {},
   "outputs": [
    {
     "data": {
      "text/plain": [
       "(147, 4)"
      ]
     },
     "execution_count": 425,
     "metadata": {},
     "output_type": "execute_result"
    }
   ],
   "source": [
    "clean_reit.shape"
   ]
  },
  {
   "cell_type": "code",
   "execution_count": 426,
   "id": "89f823a5",
   "metadata": {},
   "outputs": [],
   "source": [
    "# Ищем тех кого нет в файле приемки\n",
    "missing_priemka = clean_reit.merge(temp_df,how='outer',left_on='ФИО',right_on='ФИО общее',indicator=True)"
   ]
  },
  {
   "cell_type": "code",
   "execution_count": 427,
   "id": "e72be60b",
   "metadata": {},
   "outputs": [],
   "source": [
    "# файл где содержатся ФИО тех кто есть в рейтинге но кого нет в файле приемки\n",
    "not_in_priemka =missing_priemka[missing_priemka['_merge'] =='left_only']\n",
    "not_in_priemka.drop(columns=['ФИО общее','_merge'],inplace=True)\n",
    "not_in_priemka.rename(columns={2:'Приоритет',5:'Средний балл'},inplace=True)"
   ]
  },
  {
   "cell_type": "code",
   "execution_count": null,
   "id": "b86b252a",
   "metadata": {},
   "outputs": [],
   "source": []
  },
  {
   "cell_type": "code",
   "execution_count": null,
   "id": "6c78842e",
   "metadata": {},
   "outputs": [],
   "source": []
  },
  {
   "cell_type": "code",
   "execution_count": 428,
   "id": "73703d49",
   "metadata": {},
   "outputs": [
    {
     "data": {
      "text/html": [
       "<div>\n",
       "<style scoped>\n",
       "    .dataframe tbody tr th:only-of-type {\n",
       "        vertical-align: middle;\n",
       "    }\n",
       "\n",
       "    .dataframe tbody tr th {\n",
       "        vertical-align: top;\n",
       "    }\n",
       "\n",
       "    .dataframe thead th {\n",
       "        text-align: right;\n",
       "    }\n",
       "</style>\n",
       "<table border=\"1\" class=\"dataframe\">\n",
       "  <thead>\n",
       "    <tr style=\"text-align: right;\">\n",
       "      <th></th>\n",
       "      <th>тепловоз</th>\n",
       "      <th>атт.1</th>\n",
       "      <th>мед справка.1</th>\n",
       "    </tr>\n",
       "  </thead>\n",
       "  <tbody>\n",
       "    <tr>\n",
       "      <th>0</th>\n",
       "      <td>Колоколов Александр Витальевич</td>\n",
       "      <td>да</td>\n",
       "      <td>нет</td>\n",
       "    </tr>\n",
       "    <tr>\n",
       "      <th>1</th>\n",
       "      <td>Воронов Максим Алексеевич</td>\n",
       "      <td>да</td>\n",
       "      <td>нет</td>\n",
       "    </tr>\n",
       "  </tbody>\n",
       "</table>\n",
       "</div>"
      ],
      "text/plain": [
       "                         тепловоз атт.1 мед справка.1\n",
       "0  Колоколов Александр Витальевич    да           нет\n",
       "1       Воронов Максим Алексеевич    да           нет"
      ]
     },
     "execution_count": 428,
     "metadata": {},
     "output_type": "execute_result"
    }
   ],
   "source": [
    "teplo_df.head(2)"
   ]
  },
  {
   "cell_type": "code",
   "execution_count": 429,
   "id": "67e5a39b",
   "metadata": {},
   "outputs": [
    {
     "data": {
      "text/html": [
       "<div>\n",
       "<style scoped>\n",
       "    .dataframe tbody tr th:only-of-type {\n",
       "        vertical-align: middle;\n",
       "    }\n",
       "\n",
       "    .dataframe tbody tr th {\n",
       "        vertical-align: top;\n",
       "    }\n",
       "\n",
       "    .dataframe thead th {\n",
       "        text-align: right;\n",
       "    }\n",
       "</style>\n",
       "<table border=\"1\" class=\"dataframe\">\n",
       "  <thead>\n",
       "    <tr style=\"text-align: right;\">\n",
       "      <th></th>\n",
       "      <th>электровоз</th>\n",
       "      <th>атт</th>\n",
       "      <th>мед справка</th>\n",
       "    </tr>\n",
       "  </thead>\n",
       "  <tbody>\n",
       "    <tr>\n",
       "      <th>0</th>\n",
       "      <td>Арьяев Денис Александрович</td>\n",
       "      <td>да</td>\n",
       "      <td>да</td>\n",
       "    </tr>\n",
       "    <tr>\n",
       "      <th>1</th>\n",
       "      <td>Данзанов Баян-Мунхэ Жаргалович</td>\n",
       "      <td>да</td>\n",
       "      <td>да</td>\n",
       "    </tr>\n",
       "  </tbody>\n",
       "</table>\n",
       "</div>"
      ],
      "text/plain": [
       "                       электровоз атт мед справка\n",
       "0      Арьяев Денис Александрович  да          да\n",
       "1  Данзанов Баян-Мунхэ Жаргалович  да          да"
      ]
     },
     "execution_count": 429,
     "metadata": {},
     "output_type": "execute_result"
    }
   ],
   "source": [
    "elect_df.head(2)"
   ]
  },
  {
   "cell_type": "code",
   "execution_count": 430,
   "id": "0d3026f7",
   "metadata": {},
   "outputs": [],
   "source": [
    "raw_teplo_df =clean_reit.merge(teplo_df,how='outer',left_on='ФИО',right_on='тепловоз',indicator=True)"
   ]
  },
  {
   "cell_type": "code",
   "execution_count": 431,
   "id": "87e9e7d7",
   "metadata": {},
   "outputs": [
    {
     "data": {
      "text/html": [
       "<div>\n",
       "<style scoped>\n",
       "    .dataframe tbody tr th:only-of-type {\n",
       "        vertical-align: middle;\n",
       "    }\n",
       "\n",
       "    .dataframe tbody tr th {\n",
       "        vertical-align: top;\n",
       "    }\n",
       "\n",
       "    .dataframe thead th {\n",
       "        text-align: right;\n",
       "    }\n",
       "</style>\n",
       "<table border=\"1\" class=\"dataframe\">\n",
       "  <thead>\n",
       "    <tr style=\"text-align: right;\">\n",
       "      <th></th>\n",
       "      <th>тепловоз</th>\n",
       "      <th>атт.1</th>\n",
       "      <th>мед справка.1</th>\n",
       "    </tr>\n",
       "  </thead>\n",
       "  <tbody>\n",
       "    <tr>\n",
       "      <th>147</th>\n",
       "      <td>Колодин Иван Александрович</td>\n",
       "      <td>да</td>\n",
       "      <td>нет</td>\n",
       "    </tr>\n",
       "    <tr>\n",
       "      <th>148</th>\n",
       "      <td>Раднаев Галсан Вячеславович</td>\n",
       "      <td>да</td>\n",
       "      <td>нет</td>\n",
       "    </tr>\n",
       "    <tr>\n",
       "      <th>149</th>\n",
       "      <td>Галсандоржиев Доржи Баторович</td>\n",
       "      <td>да</td>\n",
       "      <td>нет</td>\n",
       "    </tr>\n",
       "    <tr>\n",
       "      <th>150</th>\n",
       "      <td>Бальжиев Ринчин Дондокович</td>\n",
       "      <td>да</td>\n",
       "      <td>нет</td>\n",
       "    </tr>\n",
       "    <tr>\n",
       "      <th>151</th>\n",
       "      <td>Подшивалов Василий Олегович</td>\n",
       "      <td>да</td>\n",
       "      <td>нет</td>\n",
       "    </tr>\n",
       "  </tbody>\n",
       "</table>\n",
       "</div>"
      ],
      "text/plain": [
       "                          тепловоз атт.1 мед справка.1\n",
       "147     Колодин Иван Александрович    да           нет\n",
       "148    Раднаев Галсан Вячеславович    да           нет\n",
       "149  Галсандоржиев Доржи Баторович    да           нет\n",
       "150     Бальжиев Ринчин Дондокович    да           нет\n",
       "151    Подшивалов Василий Олегович    да           нет"
      ]
     },
     "execution_count": 431,
     "metadata": {},
     "output_type": "execute_result"
    }
   ],
   "source": [
    "zabr_df_teplo=raw_teplo_df[raw_teplo_df['_merge'] == 'right_only'] # те кто забрал документы\n",
    "zabr_df_teplo.drop(columns=['ФИО','СНИЛС',2,5,'_merge'],inplace=True)\n",
    "zabr_df_teplo"
   ]
  },
  {
   "cell_type": "code",
   "execution_count": 432,
   "id": "01bc7e2a",
   "metadata": {},
   "outputs": [],
   "source": [
    "# электровозы\n",
    "raw_electo_df =clean_reit.merge(elect_df,how='outer',left_on='ФИО',right_on='электровоз',indicator=True)\n",
    "zabr_df_electo=raw_electo_df[raw_electo_df['_merge'] == 'right_only'] # те кто забрал документы\n",
    "zabr_df_electo.drop(columns=['ФИО','СНИЛС',2,5,'_merge'],inplace=True)"
   ]
  },
  {
   "cell_type": "code",
   "execution_count": 433,
   "id": "fc0719cf",
   "metadata": {},
   "outputs": [],
   "source": [
    "clean_teplo_df = raw_teplo_df[raw_teplo_df['_merge']=='both'] # готовим итоговыйй тепловозник\n",
    "clean_teplo_df.drop(columns=['тепловоз','_merge'],inplace=True)"
   ]
  },
  {
   "cell_type": "code",
   "execution_count": 434,
   "id": "cf31f1cc",
   "metadata": {},
   "outputs": [
    {
     "data": {
      "text/html": [
       "<div>\n",
       "<style scoped>\n",
       "    .dataframe tbody tr th:only-of-type {\n",
       "        vertical-align: middle;\n",
       "    }\n",
       "\n",
       "    .dataframe tbody tr th {\n",
       "        vertical-align: top;\n",
       "    }\n",
       "\n",
       "    .dataframe thead th {\n",
       "        text-align: right;\n",
       "    }\n",
       "</style>\n",
       "<table border=\"1\" class=\"dataframe\">\n",
       "  <thead>\n",
       "    <tr style=\"text-align: right;\">\n",
       "      <th></th>\n",
       "      <th>ФИО</th>\n",
       "      <th>СНИЛС</th>\n",
       "      <th>2</th>\n",
       "      <th>5</th>\n",
       "      <th>атт.1</th>\n",
       "      <th>мед справка.1</th>\n",
       "    </tr>\n",
       "  </thead>\n",
       "  <tbody>\n",
       "    <tr>\n",
       "      <th>0</th>\n",
       "      <td>Агафонов Семен Владимирович</td>\n",
       "      <td>172-941-745-90</td>\n",
       "      <td>1.0</td>\n",
       "      <td>3.632</td>\n",
       "      <td>да</td>\n",
       "      <td>нет</td>\n",
       "    </tr>\n",
       "  </tbody>\n",
       "</table>\n",
       "</div>"
      ],
      "text/plain": [
       "                           ФИО           СНИЛС    2      5 атт.1 мед справка.1\n",
       "0  Агафонов Семен Владимирович  172-941-745-90  1.0  3.632   да            нет"
      ]
     },
     "execution_count": 434,
     "metadata": {},
     "output_type": "execute_result"
    }
   ],
   "source": [
    "clean_teplo_df.head(1)"
   ]
  },
  {
   "cell_type": "code",
   "execution_count": 435,
   "id": "7ee072b1",
   "metadata": {},
   "outputs": [],
   "source": [
    "clean_teplo_df.columns = ['ФИО','СНИЛС','Приоритет','Средний балл','Сдан оригинал','Мед.справка']"
   ]
  },
  {
   "cell_type": "code",
   "execution_count": 436,
   "id": "cdfd10f3",
   "metadata": {},
   "outputs": [],
   "source": [
    "clean_teplo_df['Приоритет'] = clean_teplo_df['Приоритет'].astype(int)\n",
    "clean_teplo_df.sort_values(by='Средний балл',ascending=False,inplace=True) # сортируем по убыванию\n",
    "snils_teplo_df = clean_teplo_df.drop(columns='ФИО')"
   ]
  },
  {
   "cell_type": "code",
   "execution_count": 437,
   "id": "308b44e5",
   "metadata": {},
   "outputs": [
    {
     "data": {
      "text/html": [
       "<div>\n",
       "<style scoped>\n",
       "    .dataframe tbody tr th:only-of-type {\n",
       "        vertical-align: middle;\n",
       "    }\n",
       "\n",
       "    .dataframe tbody tr th {\n",
       "        vertical-align: top;\n",
       "    }\n",
       "\n",
       "    .dataframe thead th {\n",
       "        text-align: right;\n",
       "    }\n",
       "</style>\n",
       "<table border=\"1\" class=\"dataframe\">\n",
       "  <thead>\n",
       "    <tr style=\"text-align: right;\">\n",
       "      <th></th>\n",
       "      <th>ФИО</th>\n",
       "      <th>СНИЛС</th>\n",
       "      <th>Приоритет</th>\n",
       "      <th>Средний балл</th>\n",
       "      <th>Сдан оригинал</th>\n",
       "      <th>Мед.справка</th>\n",
       "    </tr>\n",
       "  </thead>\n",
       "  <tbody>\n",
       "    <tr>\n",
       "      <th>111</th>\n",
       "      <td>Селиванов Максим Дмитриевич</td>\n",
       "      <td>173-248-343-69</td>\n",
       "      <td>1</td>\n",
       "      <td>4.316</td>\n",
       "      <td>да</td>\n",
       "      <td>да</td>\n",
       "    </tr>\n",
       "    <tr>\n",
       "      <th>122</th>\n",
       "      <td>Тиунов Вячеслав Романович</td>\n",
       "      <td>149-109-028-57</td>\n",
       "      <td>1</td>\n",
       "      <td>4.167</td>\n",
       "      <td>да</td>\n",
       "      <td>да</td>\n",
       "    </tr>\n",
       "    <tr>\n",
       "      <th>124</th>\n",
       "      <td>Толстиков Даниил Константинович</td>\n",
       "      <td>153-684-128-76</td>\n",
       "      <td>1</td>\n",
       "      <td>4.000</td>\n",
       "      <td>да</td>\n",
       "      <td>да</td>\n",
       "    </tr>\n",
       "    <tr>\n",
       "      <th>91</th>\n",
       "      <td>Михайлов Агван Станиславович</td>\n",
       "      <td>146-383-727-84</td>\n",
       "      <td>1</td>\n",
       "      <td>3.905</td>\n",
       "      <td>да</td>\n",
       "      <td>да</td>\n",
       "    </tr>\n",
       "    <tr>\n",
       "      <th>54</th>\n",
       "      <td>Загузин Александр Павлович</td>\n",
       "      <td>164-465-018-68</td>\n",
       "      <td>1</td>\n",
       "      <td>3.850</td>\n",
       "      <td>да</td>\n",
       "      <td>да</td>\n",
       "    </tr>\n",
       "  </tbody>\n",
       "</table>\n",
       "</div>"
      ],
      "text/plain": [
       "                                 ФИО           СНИЛС  Приоритет  Средний балл  \\\n",
       "111      Селиванов Максим Дмитриевич  173-248-343-69          1         4.316   \n",
       "122        Тиунов Вячеслав Романович  149-109-028-57          1         4.167   \n",
       "124  Толстиков Даниил Константинович  153-684-128-76          1         4.000   \n",
       "91      Михайлов Агван Станиславович  146-383-727-84          1         3.905   \n",
       "54        Загузин Александр Павлович  164-465-018-68          1         3.850   \n",
       "\n",
       "    Сдан оригинал Мед.справка  \n",
       "111            да          да  \n",
       "122            да          да  \n",
       "124            да          да  \n",
       "91             да          да  \n",
       "54             да          да  "
      ]
     },
     "execution_count": 437,
     "metadata": {},
     "output_type": "execute_result"
    }
   ],
   "source": [
    "clean_teplo_df.head()"
   ]
  },
  {
   "cell_type": "code",
   "execution_count": 438,
   "id": "8f39996c",
   "metadata": {},
   "outputs": [],
   "source": [
    "# готовим итоговый электровозник\n",
    "clean_electo_df = raw_electo_df[raw_electo_df['_merge']=='both'] # готовим итоговыйй тепловозник\n",
    "clean_electo_df.drop(columns=['электровоз','_merge'],inplace=True)\n"
   ]
  },
  {
   "cell_type": "code",
   "execution_count": 439,
   "id": "f50c6dd5",
   "metadata": {},
   "outputs": [
    {
     "data": {
      "text/html": [
       "<div>\n",
       "<style scoped>\n",
       "    .dataframe tbody tr th:only-of-type {\n",
       "        vertical-align: middle;\n",
       "    }\n",
       "\n",
       "    .dataframe tbody tr th {\n",
       "        vertical-align: top;\n",
       "    }\n",
       "\n",
       "    .dataframe thead th {\n",
       "        text-align: right;\n",
       "    }\n",
       "</style>\n",
       "<table border=\"1\" class=\"dataframe\">\n",
       "  <thead>\n",
       "    <tr style=\"text-align: right;\">\n",
       "      <th></th>\n",
       "      <th>СНИЛС</th>\n",
       "      <th>Приоритет</th>\n",
       "      <th>Средний балл</th>\n",
       "      <th>Сдан оригинал</th>\n",
       "      <th>Мед.справка</th>\n",
       "    </tr>\n",
       "  </thead>\n",
       "  <tbody>\n",
       "    <tr>\n",
       "      <th>101</th>\n",
       "      <td>191-409-787-91</td>\n",
       "      <td>1</td>\n",
       "      <td>4.389</td>\n",
       "      <td>да</td>\n",
       "      <td>да</td>\n",
       "    </tr>\n",
       "    <tr>\n",
       "      <th>114</th>\n",
       "      <td>146-115-095-36</td>\n",
       "      <td>1</td>\n",
       "      <td>4.333</td>\n",
       "      <td>да</td>\n",
       "      <td>да</td>\n",
       "    </tr>\n",
       "    <tr>\n",
       "      <th>86</th>\n",
       "      <td>195-583-275-21</td>\n",
       "      <td>1</td>\n",
       "      <td>4.250</td>\n",
       "      <td>нет</td>\n",
       "      <td>нет</td>\n",
       "    </tr>\n",
       "    <tr>\n",
       "      <th>77</th>\n",
       "      <td>146-457-910-88</td>\n",
       "      <td>1</td>\n",
       "      <td>4.158</td>\n",
       "      <td>да</td>\n",
       "      <td>да</td>\n",
       "    </tr>\n",
       "    <tr>\n",
       "      <th>76</th>\n",
       "      <td>165-118-759-74</td>\n",
       "      <td>1</td>\n",
       "      <td>4.150</td>\n",
       "      <td>да</td>\n",
       "      <td>нет</td>\n",
       "    </tr>\n",
       "    <tr>\n",
       "      <th>...</th>\n",
       "      <td>...</td>\n",
       "      <td>...</td>\n",
       "      <td>...</td>\n",
       "      <td>...</td>\n",
       "      <td>...</td>\n",
       "    </tr>\n",
       "    <tr>\n",
       "      <th>120</th>\n",
       "      <td>152-294-436-59</td>\n",
       "      <td>1</td>\n",
       "      <td>3.250</td>\n",
       "      <td>да</td>\n",
       "      <td>да</td>\n",
       "    </tr>\n",
       "    <tr>\n",
       "      <th>92</th>\n",
       "      <td>150-684-641-67</td>\n",
       "      <td>1</td>\n",
       "      <td>3.250</td>\n",
       "      <td>да</td>\n",
       "      <td>нет</td>\n",
       "    </tr>\n",
       "    <tr>\n",
       "      <th>97</th>\n",
       "      <td>154-848-453-00</td>\n",
       "      <td>1</td>\n",
       "      <td>3.150</td>\n",
       "      <td>да</td>\n",
       "      <td>нет</td>\n",
       "    </tr>\n",
       "    <tr>\n",
       "      <th>125</th>\n",
       "      <td>155-457-744-93</td>\n",
       "      <td>1</td>\n",
       "      <td>3.143</td>\n",
       "      <td>да</td>\n",
       "      <td>нет</td>\n",
       "    </tr>\n",
       "    <tr>\n",
       "      <th>69</th>\n",
       "      <td>148-544-368-91</td>\n",
       "      <td>1</td>\n",
       "      <td>3.143</td>\n",
       "      <td>да</td>\n",
       "      <td>нет</td>\n",
       "    </tr>\n",
       "  </tbody>\n",
       "</table>\n",
       "<p>75 rows × 5 columns</p>\n",
       "</div>"
      ],
      "text/plain": [
       "              СНИЛС  Приоритет  Средний балл Сдан оригинал Мед.справка\n",
       "101  191-409-787-91          1         4.389            да          да\n",
       "114  146-115-095-36          1         4.333            да          да\n",
       "86   195-583-275-21          1         4.250           нет         нет\n",
       "77   146-457-910-88          1         4.158            да          да\n",
       "76   165-118-759-74          1         4.150            да         нет\n",
       "..              ...        ...           ...           ...         ...\n",
       "120  152-294-436-59          1         3.250            да          да\n",
       "92   150-684-641-67          1         3.250            да         нет\n",
       "97   154-848-453-00          1         3.150            да         нет\n",
       "125  155-457-744-93          1         3.143            да         нет\n",
       "69   148-544-368-91          1         3.143            да         нет\n",
       "\n",
       "[75 rows x 5 columns]"
      ]
     },
     "execution_count": 439,
     "metadata": {},
     "output_type": "execute_result"
    }
   ],
   "source": [
    "snils_electo_df"
   ]
  },
  {
   "cell_type": "code",
   "execution_count": 440,
   "id": "94edcba4",
   "metadata": {},
   "outputs": [],
   "source": [
    "clean_electo_df.columns = ['ФИО','СНИЛС','Приоритет','Средний балл','Сдан оригинал','Мед.справка']\n",
    "\n",
    "clean_electo_df['Приоритет'] = clean_electo_df['Приоритет'].astype(int)\n",
    "clean_electo_df.sort_values(by='Средний балл',ascending=False,inplace=True) # сортируем по убыванию\n",
    "snils_electo_df = clean_electo_df.drop(columns='ФИО')\n",
    "\n"
   ]
  },
  {
   "cell_type": "code",
   "execution_count": 441,
   "id": "66de79a8",
   "metadata": {},
   "outputs": [
    {
     "data": {
      "text/html": [
       "<div>\n",
       "<style scoped>\n",
       "    .dataframe tbody tr th:only-of-type {\n",
       "        vertical-align: middle;\n",
       "    }\n",
       "\n",
       "    .dataframe tbody tr th {\n",
       "        vertical-align: top;\n",
       "    }\n",
       "\n",
       "    .dataframe thead th {\n",
       "        text-align: right;\n",
       "    }\n",
       "</style>\n",
       "<table border=\"1\" class=\"dataframe\">\n",
       "  <thead>\n",
       "    <tr style=\"text-align: right;\">\n",
       "      <th></th>\n",
       "      <th>ФИО</th>\n",
       "      <th>СНИЛС</th>\n",
       "      <th>Приоритет</th>\n",
       "      <th>Средний балл</th>\n",
       "      <th>Сдан оригинал</th>\n",
       "      <th>Мед.справка</th>\n",
       "    </tr>\n",
       "  </thead>\n",
       "  <tbody>\n",
       "    <tr>\n",
       "      <th>101</th>\n",
       "      <td>Попов Богдан Сергеевич</td>\n",
       "      <td>191-409-787-91</td>\n",
       "      <td>1</td>\n",
       "      <td>4.389</td>\n",
       "      <td>да</td>\n",
       "      <td>да</td>\n",
       "    </tr>\n",
       "    <tr>\n",
       "      <th>114</th>\n",
       "      <td>Скуратов Егор Викторович</td>\n",
       "      <td>146-115-095-36</td>\n",
       "      <td>1</td>\n",
       "      <td>4.333</td>\n",
       "      <td>да</td>\n",
       "      <td>да</td>\n",
       "    </tr>\n",
       "    <tr>\n",
       "      <th>86</th>\n",
       "      <td>Маслов Илья Леонидович</td>\n",
       "      <td>195-583-275-21</td>\n",
       "      <td>1</td>\n",
       "      <td>4.250</td>\n",
       "      <td>нет</td>\n",
       "      <td>нет</td>\n",
       "    </tr>\n",
       "    <tr>\n",
       "      <th>77</th>\n",
       "      <td>Лемешев Артем Олегович</td>\n",
       "      <td>146-457-910-88</td>\n",
       "      <td>1</td>\n",
       "      <td>4.158</td>\n",
       "      <td>да</td>\n",
       "      <td>да</td>\n",
       "    </tr>\n",
       "    <tr>\n",
       "      <th>76</th>\n",
       "      <td>Латкин Максим Николаевич</td>\n",
       "      <td>165-118-759-74</td>\n",
       "      <td>1</td>\n",
       "      <td>4.150</td>\n",
       "      <td>да</td>\n",
       "      <td>нет</td>\n",
       "    </tr>\n",
       "  </tbody>\n",
       "</table>\n",
       "</div>"
      ],
      "text/plain": [
       "                          ФИО           СНИЛС  Приоритет  Средний балл  \\\n",
       "101    Попов Богдан Сергеевич  191-409-787-91          1         4.389   \n",
       "114  Скуратов Егор Викторович  146-115-095-36          1         4.333   \n",
       "86     Маслов Илья Леонидович  195-583-275-21          1         4.250   \n",
       "77     Лемешев Артем Олегович  146-457-910-88          1         4.158   \n",
       "76   Латкин Максим Николаевич  165-118-759-74          1         4.150   \n",
       "\n",
       "    Сдан оригинал Мед.справка  \n",
       "101            да          да  \n",
       "114            да          да  \n",
       "86            нет         нет  \n",
       "77             да          да  \n",
       "76             да         нет  "
      ]
     },
     "execution_count": 441,
     "metadata": {},
     "output_type": "execute_result"
    }
   ],
   "source": [
    "clean_electo_df.head()"
   ]
  },
  {
   "cell_type": "code",
   "execution_count": null,
   "id": "d55c28e3",
   "metadata": {},
   "outputs": [],
   "source": []
  },
  {
   "cell_type": "code",
   "execution_count": 442,
   "id": "5c47ceab",
   "metadata": {},
   "outputs": [],
   "source": [
    "with pd.ExcelWriter(f'{path_to_end_folder}/Проверка {current_time}.xlsx') as writer:\n",
    "    not_snils.to_excel(writer,sheet_name='Нет СНИЛС',index=False)\n",
    "    not_in_priemka.to_excel(writer,sheet_name='Нет в вашем файле',index=False)\n",
    "    zabr_df_teplo.to_excel(writer,sheet_name= 'Тепловоз,нет в рейтинге',index=False)\n",
    "    zabr_df_electo.to_excel(writer,sheet_name= 'Электровоз,нет в рейтинге',index=False)"
   ]
  },
  {
   "cell_type": "code",
   "execution_count": null,
   "id": "ad78d7b6",
   "metadata": {},
   "outputs": [],
   "source": []
  },
  {
   "cell_type": "code",
   "execution_count": 443,
   "id": "4f3a7cec",
   "metadata": {},
   "outputs": [],
   "source": [
    "with pd.ExcelWriter(f'{path_to_end_folder}/Рейтинговые списки Электровоз {current_time}.xlsx') as writer:\n",
    "    snils_electo_df.to_excel(writer,sheet_name='СНИЛС',index=False)\n",
    "    clean_electo_df.to_excel(writer,sheet_name='ФИО',index=False)\n"
   ]
  },
  {
   "cell_type": "code",
   "execution_count": 444,
   "id": "8d8ccced",
   "metadata": {},
   "outputs": [],
   "source": [
    "with pd.ExcelWriter(f'{path_to_end_folder}/Рейтинговые списки Тепловоз {current_time}.xlsx') as writer:\n",
    "    snils_teplo_df.to_excel(writer,sheet_name='СНИЛС',index=False)\n",
    "    clean_teplo_df.to_excel(writer,sheet_name='ФИО',index=False)"
   ]
  },
  {
   "cell_type": "code",
   "execution_count": null,
   "id": "90deefff",
   "metadata": {},
   "outputs": [],
   "source": []
  },
  {
   "cell_type": "code",
   "execution_count": null,
   "id": "cab6d9fd",
   "metadata": {},
   "outputs": [],
   "source": []
  }
 ],
 "metadata": {
  "kernelspec": {
   "display_name": "Python 3 (ipykernel)",
   "language": "python",
   "name": "python3"
  },
  "language_info": {
   "codemirror_mode": {
    "name": "ipython",
    "version": 3
   },
   "file_extension": ".py",
   "mimetype": "text/x-python",
   "name": "python",
   "nbconvert_exporter": "python",
   "pygments_lexer": "ipython3",
   "version": "3.9.7"
  }
 },
 "nbformat": 4,
 "nbformat_minor": 5
}
