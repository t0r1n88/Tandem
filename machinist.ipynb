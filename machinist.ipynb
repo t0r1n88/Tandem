{
 "cells": [
  {
   "cell_type": "code",
   "execution_count": 89,
   "id": "e37cbc44",
   "metadata": {},
   "outputs": [
    {
     "data": {
      "text/plain": [
       "'\\nскрипт для разбиения по тепловозниками и электровозникам\\n'"
      ]
     },
     "execution_count": 89,
     "metadata": {},
     "output_type": "execute_result"
    }
   ],
   "source": [
    "\"\"\"\n",
    "скрипт для разбиения по тепловозниками и электровозникам\n",
    "\"\"\""
   ]
  },
  {
   "cell_type": "code",
   "execution_count": 90,
   "id": "2fae11f2",
   "metadata": {},
   "outputs": [],
   "source": [
    "import pandas as pd\n",
    "import warnings\n",
    "warnings.filterwarnings('ignore', category=UserWarning, module='openpyxl')\n",
    "pd.options.mode.chained_assignment = None  # default='warn'"
   ]
  },
  {
   "cell_type": "code",
   "execution_count": 91,
   "id": "353b53c6",
   "metadata": {},
   "outputs": [],
   "source": [
    "path_to_machine = 'data/Машинисты.xlsx'\n",
    "path_to_reit = 'data/Рейтинг машинисты.xlsx'\n",
    "path_to_person = 'data/Абитуриенты.xlsx'\n",
    "path_to_end_folder ='data'"
   ]
  },
  {
   "cell_type": "code",
   "execution_count": 92,
   "id": "f4c11fd5",
   "metadata": {},
   "outputs": [],
   "source": [
    "machine_df = pd.read_excel(path_to_machine) # распредление по специальностям\n",
    "reit_df = pd.read_excel(path_to_reit,skiprows=4,header=None) # файл с таблицей из ворда\n",
    "df_person = pd.read_excel(path_to_person,sheet_name='Абитуриенты',skiprows=8) # данные абитуриентов"
   ]
  },
  {
   "cell_type": "code",
   "execution_count": 93,
   "id": "49a4a7be",
   "metadata": {},
   "outputs": [],
   "source": [
    "# создаем два датафрейма для электровозников и тепловозников\n",
    "teplo_df = machine_df[['тепловоз','атт.1','мед справка.1']]\n",
    "teplo_df.dropna(axis=0,inplace=True)\n",
    "\n",
    "elect_df = machine_df[['электровоз','атт','мед справка']]"
   ]
  },
  {
   "cell_type": "code",
   "execution_count": null,
   "id": "203f0240",
   "metadata": {},
   "outputs": [],
   "source": []
  },
  {
   "cell_type": "code",
   "execution_count": null,
   "id": "072f7639",
   "metadata": {},
   "outputs": [],
   "source": []
  },
  {
   "cell_type": "code",
   "execution_count": 94,
   "id": "7f4cf030",
   "metadata": {},
   "outputs": [
    {
     "data": {
      "text/html": [
       "<div>\n",
       "<style scoped>\n",
       "    .dataframe tbody tr th:only-of-type {\n",
       "        vertical-align: middle;\n",
       "    }\n",
       "\n",
       "    .dataframe tbody tr th {\n",
       "        vertical-align: top;\n",
       "    }\n",
       "\n",
       "    .dataframe thead th {\n",
       "        text-align: right;\n",
       "    }\n",
       "</style>\n",
       "<table border=\"1\" class=\"dataframe\">\n",
       "  <thead>\n",
       "    <tr style=\"text-align: right;\">\n",
       "      <th></th>\n",
       "      <th>0</th>\n",
       "      <th>1</th>\n",
       "      <th>2</th>\n",
       "      <th>3</th>\n",
       "      <th>4</th>\n",
       "      <th>5</th>\n",
       "      <th>6</th>\n",
       "      <th>7</th>\n",
       "      <th>8</th>\n",
       "      <th>9</th>\n",
       "    </tr>\n",
       "  </thead>\n",
       "  <tbody>\n",
       "    <tr>\n",
       "      <th>0</th>\n",
       "      <td>1</td>\n",
       "      <td>154-483-839-91</td>\n",
       "      <td>1</td>\n",
       "      <td>4.85</td>\n",
       "      <td>0</td>\n",
       "      <td>4.847</td>\n",
       "      <td>0</td>\n",
       "      <td>NaN</td>\n",
       "      <td>0</td>\n",
       "      <td>нет</td>\n",
       "    </tr>\n",
       "    <tr>\n",
       "      <th>1</th>\n",
       "      <td>2</td>\n",
       "      <td>191-409-787-91</td>\n",
       "      <td>1</td>\n",
       "      <td>4.39</td>\n",
       "      <td>0</td>\n",
       "      <td>4.389</td>\n",
       "      <td>0</td>\n",
       "      <td>NaN</td>\n",
       "      <td>0</td>\n",
       "      <td>да</td>\n",
       "    </tr>\n",
       "  </tbody>\n",
       "</table>\n",
       "</div>"
      ],
      "text/plain": [
       "   0               1  2     3  4      5  6   7  8    9\n",
       "0  1  154-483-839-91  1  4.85  0  4.847  0 NaN  0  нет\n",
       "1  2  191-409-787-91  1  4.39  0  4.389  0 NaN  0   да"
      ]
     },
     "execution_count": 94,
     "metadata": {},
     "output_type": "execute_result"
    }
   ],
   "source": [
    "reit_df.head(2)"
   ]
  },
  {
   "cell_type": "code",
   "execution_count": 95,
   "id": "d056744f",
   "metadata": {},
   "outputs": [
    {
     "data": {
      "text/plain": [
       "(148, 10)"
      ]
     },
     "execution_count": 95,
     "metadata": {},
     "output_type": "execute_result"
    }
   ],
   "source": [
    "reit_df.shape"
   ]
  },
  {
   "cell_type": "code",
   "execution_count": 96,
   "id": "3d73c758",
   "metadata": {},
   "outputs": [],
   "source": [
    "snils_df = df_person[['ФИО','СНИЛС']]"
   ]
  },
  {
   "cell_type": "code",
   "execution_count": 97,
   "id": "9f45da47",
   "metadata": {},
   "outputs": [],
   "source": [
    "snils_df = snils_df.drop_duplicates(subset='ФИО') # убираем дубликаты"
   ]
  },
  {
   "cell_type": "code",
   "execution_count": 98,
   "id": "8b829bea",
   "metadata": {},
   "outputs": [
    {
     "data": {
      "text/html": [
       "<div>\n",
       "<style scoped>\n",
       "    .dataframe tbody tr th:only-of-type {\n",
       "        vertical-align: middle;\n",
       "    }\n",
       "\n",
       "    .dataframe tbody tr th {\n",
       "        vertical-align: top;\n",
       "    }\n",
       "\n",
       "    .dataframe thead th {\n",
       "        text-align: right;\n",
       "    }\n",
       "</style>\n",
       "<table border=\"1\" class=\"dataframe\">\n",
       "  <thead>\n",
       "    <tr style=\"text-align: right;\">\n",
       "      <th></th>\n",
       "      <th>ФИО</th>\n",
       "      <th>СНИЛС</th>\n",
       "    </tr>\n",
       "  </thead>\n",
       "  <tbody>\n",
       "    <tr>\n",
       "      <th>0</th>\n",
       "      <td>Абросова Анастасия Витальевна</td>\n",
       "      <td>147-022-734-38</td>\n",
       "    </tr>\n",
       "    <tr>\n",
       "      <th>1</th>\n",
       "      <td>Авдеев Сергей Александрович</td>\n",
       "      <td>155-320-704-36</td>\n",
       "    </tr>\n",
       "  </tbody>\n",
       "</table>\n",
       "</div>"
      ],
      "text/plain": [
       "                             ФИО           СНИЛС\n",
       "0  Абросова Анастасия Витальевна  147-022-734-38\n",
       "1    Авдеев Сергей Александрович  155-320-704-36"
      ]
     },
     "execution_count": 98,
     "metadata": {},
     "output_type": "execute_result"
    }
   ],
   "source": [
    "snils_df.head(2)"
   ]
  },
  {
   "cell_type": "code",
   "execution_count": 99,
   "id": "4c3ec852",
   "metadata": {},
   "outputs": [],
   "source": [
    "union_df = snils_df.merge(reit_df,how='outer',left_on='СНИЛС',right_on=1,indicator=True) # объединяем датафреймы"
   ]
  },
  {
   "cell_type": "code",
   "execution_count": 100,
   "id": "7a484356",
   "metadata": {},
   "outputs": [
    {
     "data": {
      "text/html": [
       "<div>\n",
       "<style scoped>\n",
       "    .dataframe tbody tr th:only-of-type {\n",
       "        vertical-align: middle;\n",
       "    }\n",
       "\n",
       "    .dataframe tbody tr th {\n",
       "        vertical-align: top;\n",
       "    }\n",
       "\n",
       "    .dataframe thead th {\n",
       "        text-align: right;\n",
       "    }\n",
       "</style>\n",
       "<table border=\"1\" class=\"dataframe\">\n",
       "  <thead>\n",
       "    <tr style=\"text-align: right;\">\n",
       "      <th></th>\n",
       "      <th>ФИО</th>\n",
       "      <th>СНИЛС</th>\n",
       "      <th>0</th>\n",
       "      <th>1</th>\n",
       "      <th>2</th>\n",
       "      <th>3</th>\n",
       "      <th>4</th>\n",
       "      <th>5</th>\n",
       "      <th>6</th>\n",
       "      <th>7</th>\n",
       "      <th>8</th>\n",
       "      <th>9</th>\n",
       "      <th>_merge</th>\n",
       "    </tr>\n",
       "  </thead>\n",
       "  <tbody>\n",
       "    <tr>\n",
       "      <th>0</th>\n",
       "      <td>Абросова Анастасия Витальевна</td>\n",
       "      <td>147-022-734-38</td>\n",
       "      <td>NaN</td>\n",
       "      <td>NaN</td>\n",
       "      <td>NaN</td>\n",
       "      <td>NaN</td>\n",
       "      <td>NaN</td>\n",
       "      <td>NaN</td>\n",
       "      <td>NaN</td>\n",
       "      <td>NaN</td>\n",
       "      <td>NaN</td>\n",
       "      <td>NaN</td>\n",
       "      <td>left_only</td>\n",
       "    </tr>\n",
       "    <tr>\n",
       "      <th>1</th>\n",
       "      <td>Авдеев Сергей Александрович</td>\n",
       "      <td>155-320-704-36</td>\n",
       "      <td>NaN</td>\n",
       "      <td>NaN</td>\n",
       "      <td>NaN</td>\n",
       "      <td>NaN</td>\n",
       "      <td>NaN</td>\n",
       "      <td>NaN</td>\n",
       "      <td>NaN</td>\n",
       "      <td>NaN</td>\n",
       "      <td>NaN</td>\n",
       "      <td>NaN</td>\n",
       "      <td>left_only</td>\n",
       "    </tr>\n",
       "  </tbody>\n",
       "</table>\n",
       "</div>"
      ],
      "text/plain": [
       "                             ФИО           СНИЛС   0    1   2   3   4   5   6  \\\n",
       "0  Абросова Анастасия Витальевна  147-022-734-38 NaN  NaN NaN NaN NaN NaN NaN   \n",
       "1    Авдеев Сергей Александрович  155-320-704-36 NaN  NaN NaN NaN NaN NaN NaN   \n",
       "\n",
       "    7   8    9     _merge  \n",
       "0 NaN NaN  NaN  left_only  \n",
       "1 NaN NaN  NaN  left_only  "
      ]
     },
     "execution_count": 100,
     "metadata": {},
     "output_type": "execute_result"
    }
   ],
   "source": [
    "union_df.head(2)"
   ]
  },
  {
   "cell_type": "code",
   "execution_count": 101,
   "id": "2f1b4196",
   "metadata": {},
   "outputs": [],
   "source": [
    "union_df[union_df['_merge'] == 'right_only'].to_excel(f'{path_to_end_folder}/Отсутствует снилс.xlsx') # сохраяем тех у кого нет снилса"
   ]
  },
  {
   "cell_type": "code",
   "execution_count": 102,
   "id": "ce4b232e",
   "metadata": {},
   "outputs": [],
   "source": [
    "clean_reit = union_df[union_df['_merge'] =='both'] # отбираем тех кто есть в обоих датафреймах"
   ]
  },
  {
   "cell_type": "code",
   "execution_count": 103,
   "id": "86f827e1",
   "metadata": {},
   "outputs": [],
   "source": [
    "clean_reit= clean_reit[['ФИО','СНИЛС',2,5]]\n"
   ]
  },
  {
   "cell_type": "code",
   "execution_count": 104,
   "id": "69256ce4",
   "metadata": {},
   "outputs": [
    {
     "data": {
      "text/html": [
       "<div>\n",
       "<style scoped>\n",
       "    .dataframe tbody tr th:only-of-type {\n",
       "        vertical-align: middle;\n",
       "    }\n",
       "\n",
       "    .dataframe tbody tr th {\n",
       "        vertical-align: top;\n",
       "    }\n",
       "\n",
       "    .dataframe thead th {\n",
       "        text-align: right;\n",
       "    }\n",
       "</style>\n",
       "<table border=\"1\" class=\"dataframe\">\n",
       "  <thead>\n",
       "    <tr style=\"text-align: right;\">\n",
       "      <th></th>\n",
       "      <th>ФИО</th>\n",
       "      <th>СНИЛС</th>\n",
       "      <th>2</th>\n",
       "      <th>5</th>\n",
       "    </tr>\n",
       "  </thead>\n",
       "  <tbody>\n",
       "    <tr>\n",
       "      <th>2</th>\n",
       "      <td>Агафонов Семен Владимирович</td>\n",
       "      <td>172-941-745-90</td>\n",
       "      <td>1.0</td>\n",
       "      <td>3.632</td>\n",
       "    </tr>\n",
       "    <tr>\n",
       "      <th>4</th>\n",
       "      <td>Айхлер Павел Владимирович</td>\n",
       "      <td>150-435-730-34</td>\n",
       "      <td>1.0</td>\n",
       "      <td>3.476</td>\n",
       "    </tr>\n",
       "  </tbody>\n",
       "</table>\n",
       "</div>"
      ],
      "text/plain": [
       "                           ФИО           СНИЛС    2      5\n",
       "2  Агафонов Семен Владимирович  172-941-745-90  1.0  3.632\n",
       "4    Айхлер Павел Владимирович  150-435-730-34  1.0  3.476"
      ]
     },
     "execution_count": 104,
     "metadata": {},
     "output_type": "execute_result"
    }
   ],
   "source": [
    "clean_reit.head(2)"
   ]
  },
  {
   "cell_type": "code",
   "execution_count": 106,
   "id": "8014a6f0",
   "metadata": {},
   "outputs": [
    {
     "data": {
      "text/html": [
       "<div>\n",
       "<style scoped>\n",
       "    .dataframe tbody tr th:only-of-type {\n",
       "        vertical-align: middle;\n",
       "    }\n",
       "\n",
       "    .dataframe tbody tr th {\n",
       "        vertical-align: top;\n",
       "    }\n",
       "\n",
       "    .dataframe thead th {\n",
       "        text-align: right;\n",
       "    }\n",
       "</style>\n",
       "<table border=\"1\" class=\"dataframe\">\n",
       "  <thead>\n",
       "    <tr style=\"text-align: right;\">\n",
       "      <th></th>\n",
       "      <th>тепловоз</th>\n",
       "      <th>атт.1</th>\n",
       "      <th>мед справка.1</th>\n",
       "    </tr>\n",
       "  </thead>\n",
       "  <tbody>\n",
       "    <tr>\n",
       "      <th>0</th>\n",
       "      <td>Колоколов Александр Витальевич</td>\n",
       "      <td>да</td>\n",
       "      <td>нет</td>\n",
       "    </tr>\n",
       "    <tr>\n",
       "      <th>1</th>\n",
       "      <td>Воронов Максим Алексеевич</td>\n",
       "      <td>да</td>\n",
       "      <td>нет</td>\n",
       "    </tr>\n",
       "  </tbody>\n",
       "</table>\n",
       "</div>"
      ],
      "text/plain": [
       "                         тепловоз атт.1 мед справка.1\n",
       "0  Колоколов Александр Витальевич    да           нет\n",
       "1       Воронов Максим Алексеевич    да           нет"
      ]
     },
     "execution_count": 106,
     "metadata": {},
     "output_type": "execute_result"
    }
   ],
   "source": [
    "teplo_df.head(2)"
   ]
  },
  {
   "cell_type": "code",
   "execution_count": 107,
   "id": "341f4d90",
   "metadata": {},
   "outputs": [
    {
     "data": {
      "text/html": [
       "<div>\n",
       "<style scoped>\n",
       "    .dataframe tbody tr th:only-of-type {\n",
       "        vertical-align: middle;\n",
       "    }\n",
       "\n",
       "    .dataframe tbody tr th {\n",
       "        vertical-align: top;\n",
       "    }\n",
       "\n",
       "    .dataframe thead th {\n",
       "        text-align: right;\n",
       "    }\n",
       "</style>\n",
       "<table border=\"1\" class=\"dataframe\">\n",
       "  <thead>\n",
       "    <tr style=\"text-align: right;\">\n",
       "      <th></th>\n",
       "      <th>электровоз</th>\n",
       "      <th>атт</th>\n",
       "      <th>мед справка</th>\n",
       "    </tr>\n",
       "  </thead>\n",
       "  <tbody>\n",
       "    <tr>\n",
       "      <th>0</th>\n",
       "      <td>Арьяев Денис Александрович</td>\n",
       "      <td>да</td>\n",
       "      <td>да</td>\n",
       "    </tr>\n",
       "    <tr>\n",
       "      <th>1</th>\n",
       "      <td>Данзанов Баян-Мунхэ Жаргалович</td>\n",
       "      <td>да</td>\n",
       "      <td>да</td>\n",
       "    </tr>\n",
       "  </tbody>\n",
       "</table>\n",
       "</div>"
      ],
      "text/plain": [
       "                       электровоз атт мед справка\n",
       "0      Арьяев Денис Александрович  да          да\n",
       "1  Данзанов Баян-Мунхэ Жаргалович  да          да"
      ]
     },
     "execution_count": 107,
     "metadata": {},
     "output_type": "execute_result"
    }
   ],
   "source": [
    "elect_df.head(2)"
   ]
  },
  {
   "cell_type": "code",
   "execution_count": 108,
   "id": "22d0df5d",
   "metadata": {},
   "outputs": [],
   "source": [
    "raw_teplo_df =clean_reit.merge(teplo_df,how='outer',left_on='ФИО',right_on='тепловоз',indicator=True)"
   ]
  },
  {
   "cell_type": "code",
   "execution_count": 109,
   "id": "9d5c23d3",
   "metadata": {},
   "outputs": [],
   "source": [
    "zabr_df_teplo=raw_teplo_df[raw_teplo_df['_merge'] == 'right_only'] # те кто забрал документы"
   ]
  },
  {
   "cell_type": "code",
   "execution_count": 110,
   "id": "2b8170ed",
   "metadata": {},
   "outputs": [],
   "source": [
    "# электровозы\n",
    "raw_electo_df =clean_reit.merge(elect_df,how='outer',left_on='ФИО',right_on='электровоз',indicator=True)\n",
    "zabr_df_electo=raw_electo_df[raw_electo_df['_merge'] == 'right_only'] # те кто забрал документы"
   ]
  },
  {
   "cell_type": "code",
   "execution_count": 111,
   "id": "45683a33",
   "metadata": {},
   "outputs": [],
   "source": [
    "clean_teplo_df = raw_teplo_df[raw_teplo_df['_merge']=='both'] # готовим итоговыйй тепловозник\n",
    "clean_teplo_df.drop(columns=['тепловоз','_merge'],inplace=True)"
   ]
  },
  {
   "cell_type": "code",
   "execution_count": 112,
   "id": "06952447",
   "metadata": {},
   "outputs": [
    {
     "data": {
      "text/html": [
       "<div>\n",
       "<style scoped>\n",
       "    .dataframe tbody tr th:only-of-type {\n",
       "        vertical-align: middle;\n",
       "    }\n",
       "\n",
       "    .dataframe tbody tr th {\n",
       "        vertical-align: top;\n",
       "    }\n",
       "\n",
       "    .dataframe thead th {\n",
       "        text-align: right;\n",
       "    }\n",
       "</style>\n",
       "<table border=\"1\" class=\"dataframe\">\n",
       "  <thead>\n",
       "    <tr style=\"text-align: right;\">\n",
       "      <th></th>\n",
       "      <th>ФИО</th>\n",
       "      <th>СНИЛС</th>\n",
       "      <th>2</th>\n",
       "      <th>5</th>\n",
       "      <th>атт.1</th>\n",
       "      <th>мед справка.1</th>\n",
       "    </tr>\n",
       "  </thead>\n",
       "  <tbody>\n",
       "    <tr>\n",
       "      <th>0</th>\n",
       "      <td>Агафонов Семен Владимирович</td>\n",
       "      <td>172-941-745-90</td>\n",
       "      <td>1.0</td>\n",
       "      <td>3.632</td>\n",
       "      <td>да</td>\n",
       "      <td>нет</td>\n",
       "    </tr>\n",
       "  </tbody>\n",
       "</table>\n",
       "</div>"
      ],
      "text/plain": [
       "                           ФИО           СНИЛС    2      5 атт.1 мед справка.1\n",
       "0  Агафонов Семен Владимирович  172-941-745-90  1.0  3.632   да            нет"
      ]
     },
     "execution_count": 112,
     "metadata": {},
     "output_type": "execute_result"
    }
   ],
   "source": [
    "clean_teplo_df.head(1)"
   ]
  },
  {
   "cell_type": "code",
   "execution_count": 114,
   "id": "1a31109e",
   "metadata": {},
   "outputs": [],
   "source": [
    "clean_teplo_df.columns = ['ФИО','СНИЛС','Приоритет','Средний балл','Сдан оригинал','Мед.справка']"
   ]
  },
  {
   "cell_type": "code",
   "execution_count": 120,
   "id": "fda22ce4",
   "metadata": {},
   "outputs": [],
   "source": [
    "clean_teplo_df['Приоритет'] = clean_teplo_df['Приоритет'].astype(int)\n",
    "clean_teplo_df.sort_values(by='Средний балл',ascending=False,inplace=True) # сортируем по убыванию"
   ]
  },
  {
   "cell_type": "code",
   "execution_count": 121,
   "id": "d90480c7",
   "metadata": {},
   "outputs": [
    {
     "data": {
      "text/html": [
       "<div>\n",
       "<style scoped>\n",
       "    .dataframe tbody tr th:only-of-type {\n",
       "        vertical-align: middle;\n",
       "    }\n",
       "\n",
       "    .dataframe tbody tr th {\n",
       "        vertical-align: top;\n",
       "    }\n",
       "\n",
       "    .dataframe thead th {\n",
       "        text-align: right;\n",
       "    }\n",
       "</style>\n",
       "<table border=\"1\" class=\"dataframe\">\n",
       "  <thead>\n",
       "    <tr style=\"text-align: right;\">\n",
       "      <th></th>\n",
       "      <th>ФИО</th>\n",
       "      <th>СНИЛС</th>\n",
       "      <th>Приоритет</th>\n",
       "      <th>Средний балл</th>\n",
       "      <th>Сдан оригинал</th>\n",
       "      <th>Мед.справка</th>\n",
       "    </tr>\n",
       "  </thead>\n",
       "  <tbody>\n",
       "    <tr>\n",
       "      <th>111</th>\n",
       "      <td>Селиванов Максим Дмитриевич</td>\n",
       "      <td>173-248-343-69</td>\n",
       "      <td>1</td>\n",
       "      <td>4.316</td>\n",
       "      <td>да</td>\n",
       "      <td>да</td>\n",
       "    </tr>\n",
       "    <tr>\n",
       "      <th>122</th>\n",
       "      <td>Тиунов Вячеслав Романович</td>\n",
       "      <td>149-109-028-57</td>\n",
       "      <td>1</td>\n",
       "      <td>4.167</td>\n",
       "      <td>да</td>\n",
       "      <td>да</td>\n",
       "    </tr>\n",
       "    <tr>\n",
       "      <th>124</th>\n",
       "      <td>Толстиков Даниил Константинович</td>\n",
       "      <td>153-684-128-76</td>\n",
       "      <td>1</td>\n",
       "      <td>4.000</td>\n",
       "      <td>да</td>\n",
       "      <td>да</td>\n",
       "    </tr>\n",
       "    <tr>\n",
       "      <th>91</th>\n",
       "      <td>Михайлов Агван Станиславович</td>\n",
       "      <td>146-383-727-84</td>\n",
       "      <td>1</td>\n",
       "      <td>3.905</td>\n",
       "      <td>да</td>\n",
       "      <td>да</td>\n",
       "    </tr>\n",
       "    <tr>\n",
       "      <th>54</th>\n",
       "      <td>Загузин Александр Павлович</td>\n",
       "      <td>164-465-018-68</td>\n",
       "      <td>1</td>\n",
       "      <td>3.850</td>\n",
       "      <td>да</td>\n",
       "      <td>да</td>\n",
       "    </tr>\n",
       "  </tbody>\n",
       "</table>\n",
       "</div>"
      ],
      "text/plain": [
       "                                 ФИО           СНИЛС  Приоритет  Средний балл  \\\n",
       "111      Селиванов Максим Дмитриевич  173-248-343-69          1         4.316   \n",
       "122        Тиунов Вячеслав Романович  149-109-028-57          1         4.167   \n",
       "124  Толстиков Даниил Константинович  153-684-128-76          1         4.000   \n",
       "91      Михайлов Агван Станиславович  146-383-727-84          1         3.905   \n",
       "54        Загузин Александр Павлович  164-465-018-68          1         3.850   \n",
       "\n",
       "    Сдан оригинал Мед.справка  \n",
       "111            да          да  \n",
       "122            да          да  \n",
       "124            да          да  \n",
       "91             да          да  \n",
       "54             да          да  "
      ]
     },
     "execution_count": 121,
     "metadata": {},
     "output_type": "execute_result"
    }
   ],
   "source": [
    "clean_teplo_df.head()"
   ]
  },
  {
   "cell_type": "code",
   "execution_count": 122,
   "id": "f19ea54d",
   "metadata": {},
   "outputs": [],
   "source": [
    "# готовим итоговый электровозник\n",
    "clean_electo_df = raw_electo_df[raw_electo_df['_merge']=='both'] # готовим итоговыйй тепловозник\n",
    "clean_electo_df.drop(columns=['электровоз','_merge'],inplace=True)"
   ]
  },
  {
   "cell_type": "code",
   "execution_count": 123,
   "id": "8f864b37",
   "metadata": {},
   "outputs": [
    {
     "data": {
      "text/html": [
       "<div>\n",
       "<style scoped>\n",
       "    .dataframe tbody tr th:only-of-type {\n",
       "        vertical-align: middle;\n",
       "    }\n",
       "\n",
       "    .dataframe tbody tr th {\n",
       "        vertical-align: top;\n",
       "    }\n",
       "\n",
       "    .dataframe thead th {\n",
       "        text-align: right;\n",
       "    }\n",
       "</style>\n",
       "<table border=\"1\" class=\"dataframe\">\n",
       "  <thead>\n",
       "    <tr style=\"text-align: right;\">\n",
       "      <th></th>\n",
       "      <th>ФИО</th>\n",
       "      <th>СНИЛС</th>\n",
       "      <th>2</th>\n",
       "      <th>5</th>\n",
       "      <th>атт</th>\n",
       "      <th>мед справка</th>\n",
       "    </tr>\n",
       "  </thead>\n",
       "  <tbody>\n",
       "    <tr>\n",
       "      <th>4</th>\n",
       "      <td>Арьяев Денис Александрович</td>\n",
       "      <td>156-433-144-56</td>\n",
       "      <td>1.0</td>\n",
       "      <td>3.5</td>\n",
       "      <td>да</td>\n",
       "      <td>да</td>\n",
       "    </tr>\n",
       "  </tbody>\n",
       "</table>\n",
       "</div>"
      ],
      "text/plain": [
       "                          ФИО           СНИЛС    2    5 атт мед справка\n",
       "4  Арьяев Денис Александрович  156-433-144-56  1.0  3.5  да          да"
      ]
     },
     "execution_count": 123,
     "metadata": {},
     "output_type": "execute_result"
    }
   ],
   "source": [
    "clean_electo_df.head(1)"
   ]
  },
  {
   "cell_type": "code",
   "execution_count": 124,
   "id": "289ef8ef",
   "metadata": {},
   "outputs": [],
   "source": [
    "clean_electo_df.columns = ['ФИО','СНИЛС','Приоритет','Средний балл','Сдан оригинал','Мед.справка']\n",
    "\n",
    "clean_electo_df['Приоритет'] = clean_electo_df['Приоритет'].astype(int)\n",
    "clean_electo_df.sort_values(by='Средний балл',ascending=False,inplace=True) # сортируем по убыванию\n",
    "\n"
   ]
  },
  {
   "cell_type": "code",
   "execution_count": 125,
   "id": "9d8b6c94",
   "metadata": {},
   "outputs": [
    {
     "data": {
      "text/html": [
       "<div>\n",
       "<style scoped>\n",
       "    .dataframe tbody tr th:only-of-type {\n",
       "        vertical-align: middle;\n",
       "    }\n",
       "\n",
       "    .dataframe tbody tr th {\n",
       "        vertical-align: top;\n",
       "    }\n",
       "\n",
       "    .dataframe thead th {\n",
       "        text-align: right;\n",
       "    }\n",
       "</style>\n",
       "<table border=\"1\" class=\"dataframe\">\n",
       "  <thead>\n",
       "    <tr style=\"text-align: right;\">\n",
       "      <th></th>\n",
       "      <th>ФИО</th>\n",
       "      <th>СНИЛС</th>\n",
       "      <th>Приоритет</th>\n",
       "      <th>Средний балл</th>\n",
       "      <th>Сдан оригинал</th>\n",
       "      <th>Мед.справка</th>\n",
       "    </tr>\n",
       "  </thead>\n",
       "  <tbody>\n",
       "    <tr>\n",
       "      <th>101</th>\n",
       "      <td>Попов Богдан Сергеевич</td>\n",
       "      <td>191-409-787-91</td>\n",
       "      <td>1</td>\n",
       "      <td>4.389</td>\n",
       "      <td>да</td>\n",
       "      <td>да</td>\n",
       "    </tr>\n",
       "    <tr>\n",
       "      <th>114</th>\n",
       "      <td>Скуратов Егор Викторович</td>\n",
       "      <td>146-115-095-36</td>\n",
       "      <td>1</td>\n",
       "      <td>4.333</td>\n",
       "      <td>да</td>\n",
       "      <td>да</td>\n",
       "    </tr>\n",
       "    <tr>\n",
       "      <th>86</th>\n",
       "      <td>Маслов Илья Леонидович</td>\n",
       "      <td>195-583-275-21</td>\n",
       "      <td>1</td>\n",
       "      <td>4.250</td>\n",
       "      <td>нет</td>\n",
       "      <td>нет</td>\n",
       "    </tr>\n",
       "    <tr>\n",
       "      <th>77</th>\n",
       "      <td>Лемешев Артем Олегович</td>\n",
       "      <td>146-457-910-88</td>\n",
       "      <td>1</td>\n",
       "      <td>4.158</td>\n",
       "      <td>да</td>\n",
       "      <td>да</td>\n",
       "    </tr>\n",
       "    <tr>\n",
       "      <th>76</th>\n",
       "      <td>Латкин Максим Николаевич</td>\n",
       "      <td>165-118-759-74</td>\n",
       "      <td>1</td>\n",
       "      <td>4.150</td>\n",
       "      <td>да</td>\n",
       "      <td>нет</td>\n",
       "    </tr>\n",
       "  </tbody>\n",
       "</table>\n",
       "</div>"
      ],
      "text/plain": [
       "                          ФИО           СНИЛС  Приоритет  Средний балл  \\\n",
       "101    Попов Богдан Сергеевич  191-409-787-91          1         4.389   \n",
       "114  Скуратов Егор Викторович  146-115-095-36          1         4.333   \n",
       "86     Маслов Илья Леонидович  195-583-275-21          1         4.250   \n",
       "77     Лемешев Артем Олегович  146-457-910-88          1         4.158   \n",
       "76   Латкин Максим Николаевич  165-118-759-74          1         4.150   \n",
       "\n",
       "    Сдан оригинал Мед.справка  \n",
       "101            да          да  \n",
       "114            да          да  \n",
       "86            нет         нет  \n",
       "77             да          да  \n",
       "76             да         нет  "
      ]
     },
     "execution_count": 125,
     "metadata": {},
     "output_type": "execute_result"
    }
   ],
   "source": [
    "clean_electo_df.head()"
   ]
  },
  {
   "cell_type": "code",
   "execution_count": null,
   "id": "647b56ed",
   "metadata": {},
   "outputs": [],
   "source": []
  },
  {
   "cell_type": "code",
   "execution_count": null,
   "id": "73e4ce5d",
   "metadata": {},
   "outputs": [],
   "source": []
  },
  {
   "cell_type": "code",
   "execution_count": null,
   "id": "ff889055",
   "metadata": {},
   "outputs": [],
   "source": []
  }
 ],
 "metadata": {
  "kernelspec": {
   "display_name": "Python 3 (ipykernel)",
   "language": "python",
   "name": "python3"
  },
  "language_info": {
   "codemirror_mode": {
    "name": "ipython",
    "version": 3
   },
   "file_extension": ".py",
   "mimetype": "text/x-python",
   "name": "python",
   "nbconvert_exporter": "python",
   "pygments_lexer": "ipython3",
   "version": "3.9.13"
  }
 },
 "nbformat": 4,
 "nbformat_minor": 5
}
