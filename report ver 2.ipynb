{
 "cells": [
  {
   "cell_type": "code",
   "execution_count": 317,
   "id": "a1fbba30",
   "metadata": {},
   "outputs": [
    {
     "data": {
      "text/plain": [
       "'\\nНовая версия.\\n'"
      ]
     },
     "execution_count": 317,
     "metadata": {},
     "output_type": "execute_result"
    }
   ],
   "source": [
    "\"\"\"\n",
    "Новая версия.\n",
    "\"\"\""
   ]
  },
  {
   "cell_type": "code",
   "execution_count": 318,
   "id": "677699b2",
   "metadata": {},
   "outputs": [],
   "source": [
    "import tkinter\n",
    "import sys\n",
    "import pandas as pd\n",
    "import openpyxl\n",
    "import numpy as np\n",
    "from openpyxl.utils.dataframe import dataframe_to_rows\n",
    "from openpyxl.styles import Font\n",
    "from openpyxl.styles import Alignment\n",
    "import os\n",
    "from tkinter import *\n",
    "from tkinter import filedialog\n",
    "from tkinter import messagebox\n",
    "from tkinter import ttk\n",
    "import time\n",
    "import datetime\n",
    "# pd.options.mode.chained_assignment = None  # default='warn'\n",
    "import warnings\n",
    "warnings.filterwarnings('ignore', category=UserWarning, module='openpyxl')\n",
    "pd.options.mode.chained_assignment = None  # default='warn'\n"
   ]
  },
  {
   "cell_type": "code",
   "execution_count": 319,
   "id": "bf6e778d",
   "metadata": {},
   "outputs": [],
   "source": [
    "name_file_abiturs = 'data/abitur.xlsx'\n",
    "name_file_person = 'data/person.xlsx'\n",
    "path_to_end_folder_report = 'data'"
   ]
  },
  {
   "cell_type": "code",
   "execution_count": 320,
   "id": "171cfb77",
   "metadata": {},
   "outputs": [],
   "source": [
    "#создаем датафрейм со специальностями\n",
    "lst_code = ['23.01.09','43.01.06','23.02.06','43.02.06','15.01.05','15.01.35','15.01.33','23.01.10'\n",
    "    ,'08.01.31','23.01.17','08.02.09','23.02.07','13.02.07','35.01.27']\n",
    "\n",
    "lst_name_spec = ['Машинист локомотива','Проводник на железнодорожном транспорте','Техническая эксплуатация подвижного состава железных дорог',\n",
    "                 'Сервис на транспорте (по видам транспорта)','Сварщик (ручной и частично механизированной сварки (наплавки)',\n",
    "                 'Мастер слесарных работ','Токарь на станках с числовым программным управлением','Слесарь по обслуживанию и ремонту подвижного состава'\n",
    "    ,'Электромонтажник электрических сетей и электрооборудования','Мастер по ремонту и обслуживанию автомобилей',\n",
    "                 'Монтаж, наладка и эксплуатация электрооборудования промышленных и гражданских зданий',\n",
    "                 'Техническое обслуживание и ремонт двигателей, систем и агрегатов автомобилей','Электроснабжение (по отраслям)',\n",
    "                 'Мастер сельскохозяйственного производства']\n",
    "\n",
    "lst_plan = [100,25,25,25,50,25,25,50\n",
    "    ,25,25,25,25,25,25]\n",
    "base_df = pd.DataFrame(columns=['Код','Наименование'])\n",
    "base_df['Код'] = lst_code\n",
    "base_df['Наименование'] = lst_name_spec\n",
    "base_df['Направление подготовки'] = base_df['Код'] + ' ' + base_df['Наименование']\n",
    "base_df['База'] = '9 кл.'\n",
    "base_df['Количество мест'] = lst_plan"
   ]
  },
  {
   "cell_type": "code",
   "execution_count": 321,
   "id": "2afe8f3d",
   "metadata": {},
   "outputs": [],
   "source": [
    "df_abitur = pd.read_excel(name_file_abiturs, skiprows=3, usecols=['Абитуриент', 'Доп. статус','№ заявления'])\n",
    "df_person = pd.read_excel(name_file_person, sheet_name='Абитуриенты', skiprows=8,\n",
    "                          usecols=['ФИО', 'Нуждается в общежитии', 'Формирующее подр.',\n",
    "                                   'Направление подготовки', 'Сдан оригинал','Состояние выбран. конкурса','СНИЛС'])\n",
    "\n"
   ]
  },
  {
   "cell_type": "code",
   "execution_count": 322,
   "id": "aa5ac798",
   "metadata": {},
   "outputs": [],
   "source": [
    "df_person = df_person[~df_person['Направление подготовки'].isnull()]  # убираем тех у кого нет заявлений\n",
    "df_abitur = df_abitur[~df_abitur['№ заявления'].isnull()]\n",
    "\n"
   ]
  },
  {
   "cell_type": "code",
   "execution_count": 323,
   "id": "6c976f24",
   "metadata": {},
   "outputs": [
    {
     "data": {
      "text/plain": [
       "(169, 7)"
      ]
     },
     "execution_count": 323,
     "metadata": {},
     "output_type": "execute_result"
    }
   ],
   "source": [
    "ts =df_person[df_person['Направление подготовки'] =='23.01.09 Машинист локомотива']\n",
    "ts.shape"
   ]
  },
  {
   "cell_type": "code",
   "execution_count": 324,
   "id": "9dc85454",
   "metadata": {},
   "outputs": [],
   "source": [
    "df_dupl = df_person.drop_duplicates(subset=['ФИО'])  # создаем датафрейм без дубликатов"
   ]
  },
  {
   "cell_type": "code",
   "execution_count": 325,
   "id": "868d602e",
   "metadata": {},
   "outputs": [],
   "source": [
    "\n",
    "\n",
    "\n",
    "dupl_cross_df = df_dupl.merge(df_abitur, how='inner', left_on='ФИО', right_on='Абитуриент')\n"
   ]
  },
  {
   "cell_type": "code",
   "execution_count": 326,
   "id": "788646f3",
   "metadata": {},
   "outputs": [],
   "source": [
    "# Преобразовываем да-нет в 1 или 0 для подсчетов\n",
    "dupl_cross_df['Нуждается в общежитии'] = dupl_cross_df['Нуждается в общежитии'].apply(\n",
    "    lambda x: 0 if x == 'нет' else 1)\n",
    "dupl_cross_df['Сдан оригинал'] = dupl_cross_df['Сдан оригинал'].apply(lambda x: 0 if x == 'нет' else 1)\n",
    "# заменяем нан на пустые строки чтобы произвести поиск слова сирота;\n",
    "dupl_cross_df['Доп. статус'].fillna('', inplace=True)\n",
    "dupl_cross_df['Сироты'] = dupl_cross_df['Доп. статус'].apply(lambda x: 1 if 'Сирота;' in x else 0)\n",
    "dupl_cross_df['СВО'] = dupl_cross_df['Доп. статус'].apply(\n",
    "    lambda x: 1 if 'Дети военнослужащих, участвующих в спецоперации' in x else 0)\n",
    "dupl_cross_df['Целевой договор'] = dupl_cross_df['Доп. статус'].apply(lambda x: 1 if 'Целевой договор' in x else 0)\n",
    "\n",
    "dupl_cross_df['for_counting'] = 1\n",
    "\n",
    "dupl_cross_df.drop(columns=['Доп. статус'], inplace=True)"
   ]
  },
  {
   "cell_type": "code",
   "execution_count": 327,
   "id": "7ffd627b",
   "metadata": {},
   "outputs": [],
   "source": [
    "dupl_svod_df = pd.DataFrame.pivot_table(dupl_cross_df,\n",
    "                                        index=['Формирующее подр.', 'Направление подготовки'],\n",
    "                                        values=['Сдан оригинал', 'Сироты', 'СВО','Целевой договор',\n",
    "                                                'Нуждается в общежитии'],\n",
    "                                        aggfunc='sum')\n",
    "\n",
    "dupl_svod_df.columns = ['Нуждается в общежитии чел.', 'Дети СВО', 'Сдано оригиналов', 'Сирот чел.','Целевой договор']"
   ]
  },
  {
   "cell_type": "code",
   "execution_count": 328,
   "id": "624e868b",
   "metadata": {},
   "outputs": [],
   "source": [
    "# Меняем местами столбцы\n",
    "single_out_df = dupl_svod_df.reindex(\n",
    "    columns=['Сдано оригиналов',\n",
    "             'Нуждается в общежитии чел.',\n",
    "             'Сирот чел.', 'Дети СВО','Целевой договор'])"
   ]
  },
  {
   "cell_type": "code",
   "execution_count": 329,
   "id": "bc0f7d6b",
   "metadata": {},
   "outputs": [],
   "source": [
    "# Соединяем оба датафрейма\n",
    "\n",
    "cross_df = df_person.merge(df_abitur, how='inner', left_on='ФИО', right_on='Абитуриент')"
   ]
  },
  {
   "cell_type": "code",
   "execution_count": 330,
   "id": "53afc297",
   "metadata": {},
   "outputs": [
    {
     "data": {
      "text/html": [
       "<div>\n",
       "<style scoped>\n",
       "    .dataframe tbody tr th:only-of-type {\n",
       "        vertical-align: middle;\n",
       "    }\n",
       "\n",
       "    .dataframe tbody tr th {\n",
       "        vertical-align: top;\n",
       "    }\n",
       "\n",
       "    .dataframe thead th {\n",
       "        text-align: right;\n",
       "    }\n",
       "</style>\n",
       "<table border=\"1\" class=\"dataframe\">\n",
       "  <thead>\n",
       "    <tr style=\"text-align: right;\">\n",
       "      <th></th>\n",
       "      <th>ФИО</th>\n",
       "      <th>СНИЛС</th>\n",
       "      <th>Нуждается в общежитии</th>\n",
       "      <th>Формирующее подр.</th>\n",
       "      <th>Направление подготовки</th>\n",
       "      <th>Состояние выбран. конкурса</th>\n",
       "      <th>Сдан оригинал</th>\n",
       "    </tr>\n",
       "  </thead>\n",
       "  <tbody>\n",
       "    <tr>\n",
       "      <th>600</th>\n",
       "      <td>Ринчинов Зорикто Базарович</td>\n",
       "      <td>148-473-709-97</td>\n",
       "      <td>нет</td>\n",
       "      <td>Отделение железнодорожного транспорта</td>\n",
       "      <td>23.01.09 Машинист локомотива</td>\n",
       "      <td>Сданы ВИ</td>\n",
       "      <td>да</td>\n",
       "    </tr>\n",
       "    <tr>\n",
       "      <th>601</th>\n",
       "      <td>Ринчинов Зорикто Базарович</td>\n",
       "      <td>148-473-709-97</td>\n",
       "      <td>нет</td>\n",
       "      <td>Отделение железнодорожного транспорта</td>\n",
       "      <td>23.01.09 Машинист локомотива</td>\n",
       "      <td>Забрал документы</td>\n",
       "      <td>да</td>\n",
       "    </tr>\n",
       "  </tbody>\n",
       "</table>\n",
       "</div>"
      ],
      "text/plain": [
       "                            ФИО           СНИЛС Нуждается в общежитии  \\\n",
       "600  Ринчинов Зорикто Базарович  148-473-709-97                   нет   \n",
       "601  Ринчинов Зорикто Базарович  148-473-709-97                   нет   \n",
       "\n",
       "                         Формирующее подр.        Направление подготовки  \\\n",
       "600  Отделение железнодорожного транспорта  23.01.09 Машинист локомотива   \n",
       "601  Отделение железнодорожного транспорта  23.01.09 Машинист локомотива   \n",
       "\n",
       "    Состояние выбран. конкурса Сдан оригинал  \n",
       "600                   Сданы ВИ            да  \n",
       "601           Забрал документы            да  "
      ]
     },
     "execution_count": 330,
     "metadata": {},
     "output_type": "execute_result"
    }
   ],
   "source": [
    "ts[ts.duplicated(['ФИО'], keep=False)]"
   ]
  },
  {
   "cell_type": "code",
   "execution_count": 331,
   "id": "e8015574",
   "metadata": {},
   "outputs": [],
   "source": [
    "# Преобразовываем да-нет в 1 или 0 для подсчетов\n",
    "cross_df['Нуждается в общежитии'] = cross_df['Нуждается в общежитии'].apply(lambda x: 0 if x == 'нет' else 1)\n",
    "cross_df['Сдан оригинал'] = cross_df['Сдан оригинал'].apply(lambda x: 0 if x == 'нет' else 1)"
   ]
  },
  {
   "cell_type": "code",
   "execution_count": 332,
   "id": "11e4e8ee",
   "metadata": {},
   "outputs": [],
   "source": [
    "# заменяем нан на пустые строки чтобы произвести поиск слова сирота;\n",
    "cross_df['Доп. статус'].fillna('', inplace=True)\n",
    "cross_df['Сироты'] = cross_df['Доп. статус'].apply(lambda x: 1 if 'Сирота;' in x else 0)\n",
    "cross_df['СВО'] = cross_df['Доп. статус'].apply(\n",
    "    lambda x: 1 if 'Дети военнослужащих, участвующих в спецоперации' in x else 0)"
   ]
  },
  {
   "cell_type": "code",
   "execution_count": 333,
   "id": "487d7d96",
   "metadata": {},
   "outputs": [],
   "source": [
    "cross_df['for_counting'] = 1\n",
    "\n",
    "cross_df.drop(columns=['Доп. статус'], inplace=True)"
   ]
  },
  {
   "cell_type": "code",
   "execution_count": 334,
   "id": "0aad9123",
   "metadata": {},
   "outputs": [],
   "source": [
    "# Создаем сокращенный датафрейм чтобы добавить его в базовый\n",
    "small_df = cross_df[['Направление подготовки','Состояние выбран. конкурса','for_counting']]"
   ]
  },
  {
   "cell_type": "code",
   "execution_count": 335,
   "id": "c3192e9a",
   "metadata": {},
   "outputs": [],
   "source": [
    "# объединяем датафреймы\n",
    "union_df = base_df.merge(small_df,how='outer',left_on='Направление подготовки',right_on='Направление подготовки')\n",
    "union_df.fillna(0,inplace=True)"
   ]
  },
  {
   "cell_type": "code",
   "execution_count": 336,
   "id": "844ddb70",
   "metadata": {},
   "outputs": [],
   "source": [
    "# забранные заявления\n",
    "return_z = union_df[union_df['Состояние выбран. конкурса'] =='Забрал документы' ]"
   ]
  },
  {
   "cell_type": "code",
   "execution_count": null,
   "id": "6334aad5",
   "metadata": {},
   "outputs": [],
   "source": []
  },
  {
   "cell_type": "code",
   "execution_count": 337,
   "id": "d6445a71",
   "metadata": {},
   "outputs": [],
   "source": [
    "base_df_groupby = union_df.groupby(['Направление подготовки']).agg({'for_counting':sum})\n",
    "base_df_groupby['for_counting'] = base_df_groupby['for_counting'].apply(int)\n",
    "base_df_groupby = base_df_groupby.reset_index()\n",
    "base_df_groupby.rename(columns={'for_counting':'Подано заявлений'},inplace=True)"
   ]
  },
  {
   "cell_type": "code",
   "execution_count": 338,
   "id": "1f3e2b9f",
   "metadata": {},
   "outputs": [],
   "source": [
    "base_df = base_df.merge(base_df_groupby,how='inner',left_on='Направление подготовки',right_on='Направление подготовки')\n",
    "base_df.sort_values(by='Подано заявлений',ascending=False,inplace=True)"
   ]
  },
  {
   "cell_type": "code",
   "execution_count": 339,
   "id": "61021f67",
   "metadata": {},
   "outputs": [
    {
     "data": {
      "text/html": [
       "<div>\n",
       "<style scoped>\n",
       "    .dataframe tbody tr th:only-of-type {\n",
       "        vertical-align: middle;\n",
       "    }\n",
       "\n",
       "    .dataframe tbody tr th {\n",
       "        vertical-align: top;\n",
       "    }\n",
       "\n",
       "    .dataframe thead th {\n",
       "        text-align: right;\n",
       "    }\n",
       "</style>\n",
       "<table border=\"1\" class=\"dataframe\">\n",
       "  <thead>\n",
       "    <tr style=\"text-align: right;\">\n",
       "      <th></th>\n",
       "      <th>Код</th>\n",
       "      <th>Наименование</th>\n",
       "      <th>Направление подготовки</th>\n",
       "      <th>База</th>\n",
       "      <th>Количество мест</th>\n",
       "      <th>Подано заявлений</th>\n",
       "    </tr>\n",
       "  </thead>\n",
       "  <tbody>\n",
       "    <tr>\n",
       "      <th>0</th>\n",
       "      <td>23.01.09</td>\n",
       "      <td>Машинист локомотива</td>\n",
       "      <td>23.01.09 Машинист локомотива</td>\n",
       "      <td>9 кл.</td>\n",
       "      <td>100</td>\n",
       "      <td>170</td>\n",
       "    </tr>\n",
       "    <tr>\n",
       "      <th>4</th>\n",
       "      <td>15.01.05</td>\n",
       "      <td>Сварщик (ручной и частично механизированной св...</td>\n",
       "      <td>15.01.05 Сварщик (ручной и частично механизиро...</td>\n",
       "      <td>9 кл.</td>\n",
       "      <td>50</td>\n",
       "      <td>95</td>\n",
       "    </tr>\n",
       "    <tr>\n",
       "      <th>1</th>\n",
       "      <td>43.01.06</td>\n",
       "      <td>Проводник на железнодорожном транспорте</td>\n",
       "      <td>43.01.06 Проводник на железнодорожном транспорте</td>\n",
       "      <td>9 кл.</td>\n",
       "      <td>25</td>\n",
       "      <td>77</td>\n",
       "    </tr>\n",
       "    <tr>\n",
       "      <th>9</th>\n",
       "      <td>23.01.17</td>\n",
       "      <td>Мастер по ремонту и обслуживанию автомобилей</td>\n",
       "      <td>23.01.17 Мастер по ремонту и обслуживанию авто...</td>\n",
       "      <td>9 кл.</td>\n",
       "      <td>25</td>\n",
       "      <td>74</td>\n",
       "    </tr>\n",
       "    <tr>\n",
       "      <th>3</th>\n",
       "      <td>43.02.06</td>\n",
       "      <td>Сервис на транспорте (по видам транспорта)</td>\n",
       "      <td>43.02.06 Сервис на транспорте (по видам трансп...</td>\n",
       "      <td>9 кл.</td>\n",
       "      <td>25</td>\n",
       "      <td>69</td>\n",
       "    </tr>\n",
       "    <tr>\n",
       "      <th>7</th>\n",
       "      <td>23.01.10</td>\n",
       "      <td>Слесарь по обслуживанию и ремонту подвижного с...</td>\n",
       "      <td>23.01.10 Слесарь по обслуживанию и ремонту под...</td>\n",
       "      <td>9 кл.</td>\n",
       "      <td>50</td>\n",
       "      <td>65</td>\n",
       "    </tr>\n",
       "    <tr>\n",
       "      <th>6</th>\n",
       "      <td>15.01.33</td>\n",
       "      <td>Токарь на станках с числовым программным управ...</td>\n",
       "      <td>15.01.33 Токарь на станках с числовым программ...</td>\n",
       "      <td>9 кл.</td>\n",
       "      <td>25</td>\n",
       "      <td>58</td>\n",
       "    </tr>\n",
       "    <tr>\n",
       "      <th>12</th>\n",
       "      <td>13.02.07</td>\n",
       "      <td>Электроснабжение (по отраслям)</td>\n",
       "      <td>13.02.07 Электроснабжение (по отраслям)</td>\n",
       "      <td>9 кл.</td>\n",
       "      <td>25</td>\n",
       "      <td>39</td>\n",
       "    </tr>\n",
       "    <tr>\n",
       "      <th>8</th>\n",
       "      <td>08.01.31</td>\n",
       "      <td>Электромонтажник электрических сетей и электро...</td>\n",
       "      <td>08.01.31 Электромонтажник электрических сетей ...</td>\n",
       "      <td>9 кл.</td>\n",
       "      <td>25</td>\n",
       "      <td>34</td>\n",
       "    </tr>\n",
       "    <tr>\n",
       "      <th>10</th>\n",
       "      <td>08.02.09</td>\n",
       "      <td>Монтаж, наладка и эксплуатация электрооборудов...</td>\n",
       "      <td>08.02.09 Монтаж, наладка и эксплуатация электр...</td>\n",
       "      <td>9 кл.</td>\n",
       "      <td>25</td>\n",
       "      <td>33</td>\n",
       "    </tr>\n",
       "    <tr>\n",
       "      <th>11</th>\n",
       "      <td>23.02.07</td>\n",
       "      <td>Техническое обслуживание и ремонт двигателей, ...</td>\n",
       "      <td>23.02.07 Техническое обслуживание и ремонт дви...</td>\n",
       "      <td>9 кл.</td>\n",
       "      <td>25</td>\n",
       "      <td>33</td>\n",
       "    </tr>\n",
       "    <tr>\n",
       "      <th>5</th>\n",
       "      <td>15.01.35</td>\n",
       "      <td>Мастер слесарных работ</td>\n",
       "      <td>15.01.35 Мастер слесарных работ</td>\n",
       "      <td>9 кл.</td>\n",
       "      <td>25</td>\n",
       "      <td>32</td>\n",
       "    </tr>\n",
       "    <tr>\n",
       "      <th>2</th>\n",
       "      <td>23.02.06</td>\n",
       "      <td>Техническая эксплуатация подвижного состава же...</td>\n",
       "      <td>23.02.06 Техническая эксплуатация подвижного с...</td>\n",
       "      <td>9 кл.</td>\n",
       "      <td>25</td>\n",
       "      <td>27</td>\n",
       "    </tr>\n",
       "    <tr>\n",
       "      <th>13</th>\n",
       "      <td>35.01.27</td>\n",
       "      <td>Мастер сельскохозяйственного производства</td>\n",
       "      <td>35.01.27 Мастер сельскохозяйственного производ...</td>\n",
       "      <td>9 кл.</td>\n",
       "      <td>25</td>\n",
       "      <td>19</td>\n",
       "    </tr>\n",
       "  </tbody>\n",
       "</table>\n",
       "</div>"
      ],
      "text/plain": [
       "         Код                                       Наименование  \\\n",
       "0   23.01.09                                Машинист локомотива   \n",
       "4   15.01.05  Сварщик (ручной и частично механизированной св...   \n",
       "1   43.01.06            Проводник на железнодорожном транспорте   \n",
       "9   23.01.17       Мастер по ремонту и обслуживанию автомобилей   \n",
       "3   43.02.06         Сервис на транспорте (по видам транспорта)   \n",
       "7   23.01.10  Слесарь по обслуживанию и ремонту подвижного с...   \n",
       "6   15.01.33  Токарь на станках с числовым программным управ...   \n",
       "12  13.02.07                     Электроснабжение (по отраслям)   \n",
       "8   08.01.31  Электромонтажник электрических сетей и электро...   \n",
       "10  08.02.09  Монтаж, наладка и эксплуатация электрооборудов...   \n",
       "11  23.02.07  Техническое обслуживание и ремонт двигателей, ...   \n",
       "5   15.01.35                             Мастер слесарных работ   \n",
       "2   23.02.06  Техническая эксплуатация подвижного состава же...   \n",
       "13  35.01.27          Мастер сельскохозяйственного производства   \n",
       "\n",
       "                               Направление подготовки   База  Количество мест  \\\n",
       "0                        23.01.09 Машинист локомотива  9 кл.              100   \n",
       "4   15.01.05 Сварщик (ручной и частично механизиро...  9 кл.               50   \n",
       "1    43.01.06 Проводник на железнодорожном транспорте  9 кл.               25   \n",
       "9   23.01.17 Мастер по ремонту и обслуживанию авто...  9 кл.               25   \n",
       "3   43.02.06 Сервис на транспорте (по видам трансп...  9 кл.               25   \n",
       "7   23.01.10 Слесарь по обслуживанию и ремонту под...  9 кл.               50   \n",
       "6   15.01.33 Токарь на станках с числовым программ...  9 кл.               25   \n",
       "12            13.02.07 Электроснабжение (по отраслям)  9 кл.               25   \n",
       "8   08.01.31 Электромонтажник электрических сетей ...  9 кл.               25   \n",
       "10  08.02.09 Монтаж, наладка и эксплуатация электр...  9 кл.               25   \n",
       "11  23.02.07 Техническое обслуживание и ремонт дви...  9 кл.               25   \n",
       "5                     15.01.35 Мастер слесарных работ  9 кл.               25   \n",
       "2   23.02.06 Техническая эксплуатация подвижного с...  9 кл.               25   \n",
       "13  35.01.27 Мастер сельскохозяйственного производ...  9 кл.               25   \n",
       "\n",
       "    Подано заявлений  \n",
       "0                170  \n",
       "4                 95  \n",
       "1                 77  \n",
       "9                 74  \n",
       "3                 69  \n",
       "7                 65  \n",
       "6                 58  \n",
       "12                39  \n",
       "8                 34  \n",
       "10                33  \n",
       "11                33  \n",
       "5                 32  \n",
       "2                 27  \n",
       "13                19  "
      ]
     },
     "execution_count": 339,
     "metadata": {},
     "output_type": "execute_result"
    }
   ],
   "source": [
    "base_df"
   ]
  },
  {
   "cell_type": "code",
   "execution_count": 340,
   "id": "3dbad317",
   "metadata": {},
   "outputs": [],
   "source": [
    "base_df.rename(columns={'Наименование':'Наименование образовательной программы'})\n",
    "base_df.drop(columns='Направление подготовки',inplace=True)"
   ]
  },
  {
   "cell_type": "code",
   "execution_count": 341,
   "id": "28e957bd",
   "metadata": {},
   "outputs": [],
   "source": [
    "# считаем количество тех кто забрал документы\n",
    "cross_df['Забрали заявления'] = cross_df['Состояние выбран. конкурса'].apply(lambda x: 1 if x=='Забрал документы' else 0)\n",
    "cross_df['Заявления'] = cross_df['for_counting']"
   ]
  },
  {
   "cell_type": "code",
   "execution_count": null,
   "id": "21590616",
   "metadata": {},
   "outputs": [],
   "source": []
  },
  {
   "cell_type": "code",
   "execution_count": 342,
   "id": "00b15d16",
   "metadata": {},
   "outputs": [],
   "source": [
    "svod_df = pd.DataFrame.pivot_table(cross_df,\n",
    "                                           index=['Формирующее подр.', 'Направление подготовки'],\n",
    "                                           values=['Заявления', 'Забрали заявления',],\n",
    "                                           aggfunc='sum')"
   ]
  },
  {
   "cell_type": "code",
   "execution_count": 343,
   "id": "0a8b90bd",
   "metadata": {},
   "outputs": [],
   "source": [
    "svod_df=svod_df.reindex(columns=['Заявления','Забрали заявления'])"
   ]
  },
  {
   "cell_type": "code",
   "execution_count": 344,
   "id": "98ee49b1",
   "metadata": {},
   "outputs": [],
   "source": [
    "svod_df['Итого заявлений'] = svod_df['Заявления'] - svod_df['Забрали заявления']"
   ]
  },
  {
   "cell_type": "code",
   "execution_count": 345,
   "id": "71270dd1",
   "metadata": {},
   "outputs": [],
   "source": [
    "out_df = svod_df.reset_index()"
   ]
  },
  {
   "cell_type": "code",
   "execution_count": 346,
   "id": "49c806db",
   "metadata": {},
   "outputs": [],
   "source": [
    "single_out_df = single_out_df.reset_index()"
   ]
  },
  {
   "cell_type": "code",
   "execution_count": 347,
   "id": "a78863b0",
   "metadata": {},
   "outputs": [],
   "source": [
    "finish_df = pd.merge(out_df, single_out_df, how='outer')  # объединяем"
   ]
  },
  {
   "cell_type": "code",
   "execution_count": 348,
   "id": "228fe0f6",
   "metadata": {},
   "outputs": [],
   "source": [
    "wb = openpyxl.Workbook()\n",
    "# Переименовываем лист\n",
    "sheet = wb['Sheet']\n",
    "sheet.title = 'Отчет'\n",
    "\n",
    "sum_row = finish_df.sum(axis=0).to_frame().transpose()\n",
    "\n",
    "sum_row['Формирующее подр.'] = 'Всего'\n",
    "sum_row['Направление подготовки'] = ''\n",
    "\n",
    "# объединяем датафреймы\n",
    "\n",
    "all_finish_df = pd.concat([finish_df, sum_row], axis=0)\n",
    "\n",
    "for r in dataframe_to_rows(all_finish_df, index=False, header=True):\n",
    "    if len(r) != 1:\n",
    "        wb['Отчет'].append(r)\n",
    "\n",
    "# # Настраиваем выходной файл\n",
    "wb['Отчет'].column_dimensions['A'].width = 30\n",
    "wb['Отчет'].column_dimensions['B'].width = 50\n",
    "wb['Отчет']['B2'].alignment = Alignment(wrap_text=True)\n",
    "wb['Отчет'].column_dimensions['C'].width = 20\n",
    "wb['Отчет'].column_dimensions['D'].width = 20\n",
    "wb['Отчет'].column_dimensions['F'].width = 20\n",
    "wb['Отчет'].column_dimensions['G'].width = 20\n",
    "wb['Отчет'].column_dimensions['H'].width = 30\n",
    "wb['Отчет']['H1'].alignment = Alignment(wrap_text=True)\n",
    "\n",
    "# Получаем текущее время для того чтобы использовать в названии\n",
    "t = time.localtime()\n",
    "current_time = time.strftime('%H_%M_%d_%m', t)\n",
    "# Сохраняем итоговый файл\n",
    "base_df.to_excel(f'{path_to_end_folder_report}/Количество поданых заявлений {current_time}.xlsx',index=False)\n",
    "wb.save(f'{path_to_end_folder_report}/Ежедневный отчет приемной комиссии ГБПОУ БРИТ {current_time}.xlsx')"
   ]
  },
  {
   "cell_type": "code",
   "execution_count": 349,
   "id": "41d230a2",
   "metadata": {},
   "outputs": [],
   "source": [
    "# ищем полных тезок\n",
    "temp_dupl_df = df_person.drop_duplicates(subset=['ФИО','СНИЛС'])"
   ]
  },
  {
   "cell_type": "code",
   "execution_count": 351,
   "id": "bdea6c10",
   "metadata": {},
   "outputs": [],
   "source": [
    "tezki_df = temp_dupl_df[temp_dupl_df.duplicated(subset='ФИО',keep=False)]"
   ]
  },
  {
   "cell_type": "code",
   "execution_count": 352,
   "id": "dd5983c1",
   "metadata": {},
   "outputs": [],
   "source": [
    "tezki_df.to_excel(f'{path_to_end_folder_report}/Полные тезки {current_time}.xlsx',index=False)"
   ]
  },
  {
   "cell_type": "code",
   "execution_count": null,
   "id": "e6a13aba",
   "metadata": {},
   "outputs": [],
   "source": []
  }
 ],
 "metadata": {
  "kernelspec": {
   "display_name": "Python 3 (ipykernel)",
   "language": "python",
   "name": "python3"
  },
  "language_info": {
   "codemirror_mode": {
    "name": "ipython",
    "version": 3
   },
   "file_extension": ".py",
   "mimetype": "text/x-python",
   "name": "python",
   "nbconvert_exporter": "python",
   "pygments_lexer": "ipython3",
   "version": "3.9.13"
  }
 },
 "nbformat": 4,
 "nbformat_minor": 5
}
