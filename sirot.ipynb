{
 "cells": [
  {
   "cell_type": "code",
   "execution_count": 75,
   "id": "c653fc1c",
   "metadata": {},
   "outputs": [
    {
     "data": {
      "text/plain": [
       "'\\nскрипт для подсчета сирот и детей СВО\\n'"
      ]
     },
     "execution_count": 75,
     "metadata": {},
     "output_type": "execute_result"
    }
   ],
   "source": [
    "\"\"\"\n",
    "скрипт для подсчета сирот и детей СВО\n",
    "\"\"\""
   ]
  },
  {
   "cell_type": "code",
   "execution_count": 76,
   "id": "217be6f5",
   "metadata": {},
   "outputs": [],
   "source": [
    "import pandas as pd\n",
    "import openpyxl\n",
    "import time\n",
    "from openpyxl.utils.dataframe import dataframe_to_rows"
   ]
  },
  {
   "cell_type": "code",
   "execution_count": 98,
   "id": "65409dab",
   "metadata": {},
   "outputs": [],
   "source": [
    "ab_df = pd.read_excel('data/Абитуриенты.xlsx',sheet_name='Абитуриенты',skiprows=8,dtype={'ИНН':str,'Серия УЛ':str,'Номер УЛ':str})\n",
    "dop_df = pd.read_excel('data/доп статусы.xlsx',skiprows=3)"
   ]
  },
  {
   "cell_type": "code",
   "execution_count": 99,
   "id": "1c062df4",
   "metadata": {},
   "outputs": [],
   "source": [
    "ab_df = ab_df[ab_df['Состояние выбран. конкурса'] == 'Зачислен'] # оставялем только зачисленных\n",
    "\n",
    "\n",
    "replace_dct = {'Отделение железнодорожного транспорта':'ЖД','Отделение металлообработки':'МО',\n",
    "               'Отделение энергоснабжения':'ЭО','Хоринский филиал':'ХФ',}\n",
    "\n",
    "ab_df['Формирующее подр.'] = ab_df['Формирующее подр.'].replace(replace_dct)\n",
    "\n",
    "unit_lst = ab_df['Формирующее подр.'].unique()\n",
    "\n",
    "dct_unit = {key:None for key in unit_lst}\n",
    "\n",
    "\n",
    "\n"
   ]
  },
  {
   "cell_type": "code",
   "execution_count": null,
   "id": "bd9d3c85",
   "metadata": {},
   "outputs": [],
   "source": [
    "ab_df = ab_df[ab_df['Нуждается в общежитии'] == 'да'] # оставляем т"
   ]
  },
  {
   "cell_type": "code",
   "execution_count": 79,
   "id": "440ee755",
   "metadata": {},
   "outputs": [],
   "source": [
    "ab_df = ab_df[['ФИО','Контактный телефон','Мобильный телефон','Адрес регистрации','Формирующее подр.']]"
   ]
  },
  {
   "cell_type": "code",
   "execution_count": 80,
   "id": "472b1143",
   "metadata": {},
   "outputs": [
    {
     "data": {
      "text/plain": [
       "(496, 5)"
      ]
     },
     "execution_count": 80,
     "metadata": {},
     "output_type": "execute_result"
    }
   ],
   "source": [
    "ab_df.shape"
   ]
  },
  {
   "cell_type": "code",
   "execution_count": 81,
   "id": "1128b1a3",
   "metadata": {},
   "outputs": [
    {
     "data": {
      "text/html": [
       "<div>\n",
       "<style scoped>\n",
       "    .dataframe tbody tr th:only-of-type {\n",
       "        vertical-align: middle;\n",
       "    }\n",
       "\n",
       "    .dataframe tbody tr th {\n",
       "        vertical-align: top;\n",
       "    }\n",
       "\n",
       "    .dataframe thead th {\n",
       "        text-align: right;\n",
       "    }\n",
       "</style>\n",
       "<table border=\"1\" class=\"dataframe\">\n",
       "  <thead>\n",
       "    <tr style=\"text-align: right;\">\n",
       "      <th></th>\n",
       "      <th>ФИО</th>\n",
       "      <th>Контактный телефон</th>\n",
       "      <th>Мобильный телефон</th>\n",
       "      <th>Адрес регистрации</th>\n",
       "      <th>Формирующее подр.</th>\n",
       "    </tr>\n",
       "  </thead>\n",
       "  <tbody>\n",
       "    <tr>\n",
       "      <th>1</th>\n",
       "      <td>Абсаматов Вадим Чимид-Цыренович</td>\n",
       "      <td>89240183312</td>\n",
       "      <td>NaN</td>\n",
       "      <td>671710, Россия, пгт. Нижнеангарск (03), Респ. ...</td>\n",
       "      <td>ЖД</td>\n",
       "    </tr>\n",
       "    <tr>\n",
       "      <th>6</th>\n",
       "      <td>Авсеевич Радмила Станиславовна</td>\n",
       "      <td>89516315807</td>\n",
       "      <td>NaN</td>\n",
       "      <td>671178, Россия, с. Средний Убукун (03), Респ. ...</td>\n",
       "      <td>МО</td>\n",
       "    </tr>\n",
       "    <tr>\n",
       "      <th>9</th>\n",
       "      <td>Агафонов Семен Владимирович</td>\n",
       "      <td>89952847750</td>\n",
       "      <td>NaN</td>\n",
       "      <td>670050, Россия, г. Улан-Удэ (03), Респ. Буряти...</td>\n",
       "      <td>ЖД</td>\n",
       "    </tr>\n",
       "    <tr>\n",
       "      <th>10</th>\n",
       "      <td>Агеев Роман Алексеевич</td>\n",
       "      <td>89503889501</td>\n",
       "      <td>NaN</td>\n",
       "      <td>671404, Россия, п. Майла (03), Респ. Бурятия, ...</td>\n",
       "      <td>МО</td>\n",
       "    </tr>\n",
       "    <tr>\n",
       "      <th>11</th>\n",
       "      <td>Айхлер Павел Владимирович</td>\n",
       "      <td>89025383282</td>\n",
       "      <td>NaN</td>\n",
       "      <td>671820, Россия, пгт. Наушки (03), Респ. Буряти...</td>\n",
       "      <td>ЖД</td>\n",
       "    </tr>\n",
       "  </tbody>\n",
       "</table>\n",
       "</div>"
      ],
      "text/plain": [
       "                                ФИО Контактный телефон  Мобильный телефон  \\\n",
       "1   Абсаматов Вадим Чимид-Цыренович        89240183312                NaN   \n",
       "6    Авсеевич Радмила Станиславовна        89516315807                NaN   \n",
       "9       Агафонов Семен Владимирович        89952847750                NaN   \n",
       "10           Агеев Роман Алексеевич        89503889501                NaN   \n",
       "11        Айхлер Павел Владимирович        89025383282                NaN   \n",
       "\n",
       "                                    Адрес регистрации Формирующее подр.  \n",
       "1   671710, Россия, пгт. Нижнеангарск (03), Респ. ...                ЖД  \n",
       "6   671178, Россия, с. Средний Убукун (03), Респ. ...                МО  \n",
       "9   670050, Россия, г. Улан-Удэ (03), Респ. Буряти...                ЖД  \n",
       "10  671404, Россия, п. Майла (03), Респ. Бурятия, ...                МО  \n",
       "11  671820, Россия, пгт. Наушки (03), Респ. Буряти...                ЖД  "
      ]
     },
     "execution_count": 81,
     "metadata": {},
     "output_type": "execute_result"
    }
   ],
   "source": [
    "ab_df.head()"
   ]
  },
  {
   "cell_type": "code",
   "execution_count": 82,
   "id": "93f3dbfb",
   "metadata": {},
   "outputs": [
    {
     "data": {
      "text/plain": [
       "(753, 12)"
      ]
     },
     "execution_count": 82,
     "metadata": {},
     "output_type": "execute_result"
    }
   ],
   "source": [
    "dop_df.shape"
   ]
  },
  {
   "cell_type": "code",
   "execution_count": 83,
   "id": "3ef9720b",
   "metadata": {},
   "outputs": [
    {
     "data": {
      "text/html": [
       "<div>\n",
       "<style scoped>\n",
       "    .dataframe tbody tr th:only-of-type {\n",
       "        vertical-align: middle;\n",
       "    }\n",
       "\n",
       "    .dataframe tbody tr th {\n",
       "        vertical-align: top;\n",
       "    }\n",
       "\n",
       "    .dataframe thead th {\n",
       "        text-align: right;\n",
       "    }\n",
       "</style>\n",
       "<table border=\"1\" class=\"dataframe\">\n",
       "  <thead>\n",
       "    <tr style=\"text-align: right;\">\n",
       "      <th></th>\n",
       "      <th>Личный №</th>\n",
       "      <th>СНИЛС</th>\n",
       "      <th>№ заявления</th>\n",
       "      <th>Абитуриент</th>\n",
       "      <th>Доп. статус</th>\n",
       "      <th>Пол</th>\n",
       "      <th>Паспорт</th>\n",
       "      <th>Дата рождения</th>\n",
       "      <th>Состояние</th>\n",
       "      <th>Дата добавления</th>\n",
       "      <th>Место работы</th>\n",
       "      <th>Статус</th>\n",
       "    </tr>\n",
       "  </thead>\n",
       "  <tbody>\n",
       "    <tr>\n",
       "      <th>0</th>\n",
       "      <td>2300001</td>\n",
       "      <td>175-042-211-36</td>\n",
       "      <td>1</td>\n",
       "      <td>Болонев Никита Алексеевич</td>\n",
       "      <td>NaN</td>\n",
       "      <td>М</td>\n",
       "      <td>8120 890946</td>\n",
       "      <td>07.12.2006</td>\n",
       "      <td>Забрал документы</td>\n",
       "      <td>20.06.2023</td>\n",
       "      <td>NaN</td>\n",
       "      <td>Да</td>\n",
       "    </tr>\n",
       "    <tr>\n",
       "      <th>1</th>\n",
       "      <td>2300002</td>\n",
       "      <td>162-099-278-79</td>\n",
       "      <td>34</td>\n",
       "      <td>Аршинская Татьяна Алексеевна</td>\n",
       "      <td>NaN</td>\n",
       "      <td>Ж</td>\n",
       "      <td>7619 053216</td>\n",
       "      <td>09.04.2005</td>\n",
       "      <td>Зачислен</td>\n",
       "      <td>20.06.2023</td>\n",
       "      <td>NaN</td>\n",
       "      <td>Да</td>\n",
       "    </tr>\n",
       "    <tr>\n",
       "      <th>2</th>\n",
       "      <td>2300003</td>\n",
       "      <td>152-562-694-70</td>\n",
       "      <td>3</td>\n",
       "      <td>Цыренов Станислав Арьяевич</td>\n",
       "      <td>Спортивные достижения;</td>\n",
       "      <td>М</td>\n",
       "      <td>8119 866341</td>\n",
       "      <td>03.04.2006</td>\n",
       "      <td>Зачислен</td>\n",
       "      <td>20.06.2023</td>\n",
       "      <td>NaN</td>\n",
       "      <td>Да</td>\n",
       "    </tr>\n",
       "    <tr>\n",
       "      <th>3</th>\n",
       "      <td>2300004</td>\n",
       "      <td>153-385-323-63</td>\n",
       "      <td>225\\n226\\n4</td>\n",
       "      <td>Подшивалов Василий Олегович</td>\n",
       "      <td>Сирота; (c 10.05.2012)</td>\n",
       "      <td>М</td>\n",
       "      <td>8120 892675</td>\n",
       "      <td>16.10.2006</td>\n",
       "      <td>Зачислен</td>\n",
       "      <td>20.06.2023</td>\n",
       "      <td>NaN</td>\n",
       "      <td>Да</td>\n",
       "    </tr>\n",
       "    <tr>\n",
       "      <th>4</th>\n",
       "      <td>2300005</td>\n",
       "      <td>156-075-139-63</td>\n",
       "      <td>5\\n544</td>\n",
       "      <td>Аносова Кристина Евгеньевна</td>\n",
       "      <td>Дети военнослужащих, участвующих в спецопераци...</td>\n",
       "      <td>Ж</td>\n",
       "      <td>8120 901145</td>\n",
       "      <td>20.03.2007</td>\n",
       "      <td>Зачислен</td>\n",
       "      <td>20.06.2023</td>\n",
       "      <td>NaN</td>\n",
       "      <td>Да</td>\n",
       "    </tr>\n",
       "  </tbody>\n",
       "</table>\n",
       "</div>"
      ],
      "text/plain": [
       "   Личный №           СНИЛС  № заявления                    Абитуриент  \\\n",
       "0   2300001  175-042-211-36            1     Болонев Никита Алексеевич   \n",
       "1   2300002  162-099-278-79           34  Аршинская Татьяна Алексеевна   \n",
       "2   2300003  152-562-694-70            3    Цыренов Станислав Арьяевич   \n",
       "3   2300004  153-385-323-63  225\\n226\\n4   Подшивалов Василий Олегович   \n",
       "4   2300005  156-075-139-63       5\\n544   Аносова Кристина Евгеньевна   \n",
       "\n",
       "                                         Доп. статус Пол      Паспорт  \\\n",
       "0                                                NaN   М  8120 890946   \n",
       "1                                                NaN   Ж  7619 053216   \n",
       "2                             Спортивные достижения;   М  8119 866341   \n",
       "3                             Сирота; (c 10.05.2012)   М  8120 892675   \n",
       "4  Дети военнослужащих, участвующих в спецопераци...   Ж  8120 901145   \n",
       "\n",
       "  Дата рождения         Состояние Дата добавления  Место работы Статус  \n",
       "0    07.12.2006  Забрал документы      20.06.2023           NaN     Да  \n",
       "1    09.04.2005          Зачислен      20.06.2023           NaN     Да  \n",
       "2    03.04.2006          Зачислен      20.06.2023           NaN     Да  \n",
       "3    16.10.2006          Зачислен      20.06.2023           NaN     Да  \n",
       "4    20.03.2007          Зачислен      20.06.2023           NaN     Да  "
      ]
     },
     "execution_count": 83,
     "metadata": {},
     "output_type": "execute_result"
    }
   ],
   "source": [
    "dop_df.head()"
   ]
  },
  {
   "cell_type": "code",
   "execution_count": 84,
   "id": "87ad10ae",
   "metadata": {},
   "outputs": [],
   "source": [
    "dop_df = dop_df[['Абитуриент','Доп. статус']]"
   ]
  },
  {
   "cell_type": "code",
   "execution_count": 85,
   "id": "3651ec53",
   "metadata": {},
   "outputs": [],
   "source": [
    "merge_df = ab_df.merge(dop_df,left_on='ФИО',right_on='Абитуриент',how='inner')"
   ]
  },
  {
   "cell_type": "code",
   "execution_count": 86,
   "id": "7896b57c",
   "metadata": {},
   "outputs": [
    {
     "data": {
      "text/plain": [
       "(496, 7)"
      ]
     },
     "execution_count": 86,
     "metadata": {},
     "output_type": "execute_result"
    }
   ],
   "source": [
    "merge_df.shape"
   ]
  },
  {
   "cell_type": "code",
   "execution_count": 87,
   "id": "8128d877",
   "metadata": {},
   "outputs": [
    {
     "data": {
      "text/html": [
       "<div>\n",
       "<style scoped>\n",
       "    .dataframe tbody tr th:only-of-type {\n",
       "        vertical-align: middle;\n",
       "    }\n",
       "\n",
       "    .dataframe tbody tr th {\n",
       "        vertical-align: top;\n",
       "    }\n",
       "\n",
       "    .dataframe thead th {\n",
       "        text-align: right;\n",
       "    }\n",
       "</style>\n",
       "<table border=\"1\" class=\"dataframe\">\n",
       "  <thead>\n",
       "    <tr style=\"text-align: right;\">\n",
       "      <th></th>\n",
       "      <th>ФИО</th>\n",
       "      <th>Контактный телефон</th>\n",
       "      <th>Мобильный телефон</th>\n",
       "      <th>Адрес регистрации</th>\n",
       "      <th>Формирующее подр.</th>\n",
       "      <th>Абитуриент</th>\n",
       "      <th>Доп. статус</th>\n",
       "    </tr>\n",
       "  </thead>\n",
       "  <tbody>\n",
       "    <tr>\n",
       "      <th>0</th>\n",
       "      <td>Абсаматов Вадим Чимид-Цыренович</td>\n",
       "      <td>89240183312</td>\n",
       "      <td>NaN</td>\n",
       "      <td>671710, Россия, пгт. Нижнеангарск (03), Респ. ...</td>\n",
       "      <td>ЖД</td>\n",
       "      <td>Абсаматов Вадим Чимид-Цыренович</td>\n",
       "      <td>NaN</td>\n",
       "    </tr>\n",
       "    <tr>\n",
       "      <th>1</th>\n",
       "      <td>Авсеевич Радмила Станиславовна</td>\n",
       "      <td>89516315807</td>\n",
       "      <td>NaN</td>\n",
       "      <td>671178, Россия, с. Средний Убукун (03), Респ. ...</td>\n",
       "      <td>МО</td>\n",
       "      <td>Авсеевич Радмила Станиславовна</td>\n",
       "      <td>NaN</td>\n",
       "    </tr>\n",
       "    <tr>\n",
       "      <th>2</th>\n",
       "      <td>Агафонов Семен Владимирович</td>\n",
       "      <td>89952847750</td>\n",
       "      <td>NaN</td>\n",
       "      <td>670050, Россия, г. Улан-Удэ (03), Респ. Буряти...</td>\n",
       "      <td>ЖД</td>\n",
       "      <td>Агафонов Семен Владимирович</td>\n",
       "      <td>NaN</td>\n",
       "    </tr>\n",
       "    <tr>\n",
       "      <th>3</th>\n",
       "      <td>Агеев Роман Алексеевич</td>\n",
       "      <td>89503889501</td>\n",
       "      <td>NaN</td>\n",
       "      <td>671404, Россия, п. Майла (03), Респ. Бурятия, ...</td>\n",
       "      <td>МО</td>\n",
       "      <td>Агеев Роман Алексеевич</td>\n",
       "      <td>NaN</td>\n",
       "    </tr>\n",
       "    <tr>\n",
       "      <th>4</th>\n",
       "      <td>Айхлер Павел Владимирович</td>\n",
       "      <td>89025383282</td>\n",
       "      <td>NaN</td>\n",
       "      <td>671820, Россия, пгт. Наушки (03), Респ. Буряти...</td>\n",
       "      <td>ЖД</td>\n",
       "      <td>Айхлер Павел Владимирович</td>\n",
       "      <td>NaN</td>\n",
       "    </tr>\n",
       "  </tbody>\n",
       "</table>\n",
       "</div>"
      ],
      "text/plain": [
       "                               ФИО Контактный телефон  Мобильный телефон  \\\n",
       "0  Абсаматов Вадим Чимид-Цыренович        89240183312                NaN   \n",
       "1   Авсеевич Радмила Станиславовна        89516315807                NaN   \n",
       "2      Агафонов Семен Владимирович        89952847750                NaN   \n",
       "3           Агеев Роман Алексеевич        89503889501                NaN   \n",
       "4        Айхлер Павел Владимирович        89025383282                NaN   \n",
       "\n",
       "                                   Адрес регистрации Формирующее подр.  \\\n",
       "0  671710, Россия, пгт. Нижнеангарск (03), Респ. ...                ЖД   \n",
       "1  671178, Россия, с. Средний Убукун (03), Респ. ...                МО   \n",
       "2  670050, Россия, г. Улан-Удэ (03), Респ. Буряти...                ЖД   \n",
       "3  671404, Россия, п. Майла (03), Респ. Бурятия, ...                МО   \n",
       "4  671820, Россия, пгт. Наушки (03), Респ. Буряти...                ЖД   \n",
       "\n",
       "                        Абитуриент Доп. статус  \n",
       "0  Абсаматов Вадим Чимид-Цыренович         NaN  \n",
       "1   Авсеевич Радмила Станиславовна         NaN  \n",
       "2      Агафонов Семен Владимирович         NaN  \n",
       "3           Агеев Роман Алексеевич         NaN  \n",
       "4        Айхлер Павел Владимирович         NaN  "
      ]
     },
     "execution_count": 87,
     "metadata": {},
     "output_type": "execute_result"
    }
   ],
   "source": [
    "merge_df.head()"
   ]
  },
  {
   "cell_type": "code",
   "execution_count": 88,
   "id": "484e1852",
   "metadata": {},
   "outputs": [],
   "source": [
    "merge_df['Доп. статус'] = merge_df['Доп. статус'].fillna('')"
   ]
  },
  {
   "cell_type": "code",
   "execution_count": 89,
   "id": "0fab4d62",
   "metadata": {},
   "outputs": [],
   "source": [
    "svo_df = merge_df[merge_df['Доп. статус'].str.contains('военнослужащих')]\n",
    "sirot_df = merge_df[merge_df['Доп. статус'].str.contains('Сирота')]"
   ]
  },
  {
   "cell_type": "code",
   "execution_count": 90,
   "id": "78aac9e4",
   "metadata": {},
   "outputs": [
    {
     "data": {
      "text/plain": [
       "(13, 7)"
      ]
     },
     "execution_count": 90,
     "metadata": {},
     "output_type": "execute_result"
    }
   ],
   "source": [
    "svo_df.shape"
   ]
  },
  {
   "cell_type": "code",
   "execution_count": 91,
   "id": "62a5245c",
   "metadata": {},
   "outputs": [
    {
     "name": "stderr",
     "output_type": "stream",
     "text": [
      "C:\\Users\\1\\AppData\\Local\\Temp\\ipykernel_19488\\2718884617.py:1: SettingWithCopyWarning: \n",
      "A value is trying to be set on a copy of a slice from a DataFrame\n",
      "\n",
      "See the caveats in the documentation: https://pandas.pydata.org/pandas-docs/stable/user_guide/indexing.html#returning-a-view-versus-a-copy\n",
      "  svo_df.drop(columns=['Абитуриент','Доп. статус'],inplace=True)\n"
     ]
    }
   ],
   "source": [
    "svo_df.drop(columns=['Абитуриент','Доп. статус'],inplace=True)"
   ]
  },
  {
   "cell_type": "code",
   "execution_count": 92,
   "id": "b88945ef",
   "metadata": {},
   "outputs": [
    {
     "name": "stderr",
     "output_type": "stream",
     "text": [
      "C:\\Users\\1\\AppData\\Local\\Temp\\ipykernel_19488\\625467679.py:1: SettingWithCopyWarning: \n",
      "A value is trying to be set on a copy of a slice from a DataFrame\n",
      "\n",
      "See the caveats in the documentation: https://pandas.pydata.org/pandas-docs/stable/user_guide/indexing.html#returning-a-view-versus-a-copy\n",
      "  sirot_df.drop(columns=['Абитуриент','Доп. статус'],inplace=True)\n"
     ]
    }
   ],
   "source": [
    "sirot_df.drop(columns=['Абитуриент','Доп. статус'],inplace=True)"
   ]
  },
  {
   "cell_type": "code",
   "execution_count": 93,
   "id": "028febfe",
   "metadata": {},
   "outputs": [
    {
     "data": {
      "text/plain": [
       "(34, 5)"
      ]
     },
     "execution_count": 93,
     "metadata": {},
     "output_type": "execute_result"
    }
   ],
   "source": [
    "sirot_df.shape"
   ]
  },
  {
   "cell_type": "code",
   "execution_count": 94,
   "id": "2dc8be67",
   "metadata": {},
   "outputs": [
    {
     "name": "stderr",
     "output_type": "stream",
     "text": [
      "C:\\Users\\1\\AppData\\Local\\Temp\\ipykernel_19488\\1309226404.py:3: SettingWithCopyWarning: \n",
      "A value is trying to be set on a copy of a slice from a DataFrame\n",
      "\n",
      "See the caveats in the documentation: https://pandas.pydata.org/pandas-docs/stable/user_guide/indexing.html#returning-a-view-versus-a-copy\n",
      "  temp_df.sort_values(by='ФИО',inplace=True)\n"
     ]
    }
   ],
   "source": [
    "for name in unit_lst:\n",
    "    temp_df = svo_df[svo_df['Формирующее подр.']== name]\n",
    "    temp_df.sort_values(by='ФИО',inplace=True)\n",
    "    dct_unit[name] = temp_df    "
   ]
  },
  {
   "cell_type": "code",
   "execution_count": 95,
   "id": "72cb13a6",
   "metadata": {},
   "outputs": [],
   "source": [
    "t = time.localtime()\n",
    "current_time = time.strftime('%H_%M_%S', t)\n",
    "\n",
    "wb = openpyxl.Workbook()\n",
    "# Переименовываем лист\n",
    "sheet = wb['Sheet']\n",
    "sheet.title = 'ЖД'\n",
    "wb.create_sheet('МО',index=1)\n",
    "wb.create_sheet('ЭО',index=2)\n",
    "wb.create_sheet('ХФ',index=3)\n",
    "\n",
    "for name,df in dct_unit.items():    \n",
    "    for r in dataframe_to_rows(df,index =False,header=True):\n",
    "        if len(r) != 1:\n",
    "            wb[name].append(r)\n",
    "\n",
    "for name in unit_lst:\n",
    "    wb[name].column_dimensions['A'].width =40\n",
    "    wb[name].column_dimensions['B'].width =10\n",
    "    wb[name].column_dimensions['C'].width =20\n",
    "    wb[name].column_dimensions['D'].width =90\n",
    "\n",
    "\n",
    "# Сохраняем итоговый файл\n",
    "wb.save(f'data/Дети СВО от {current_time}.xlsx')"
   ]
  },
  {
   "cell_type": "code",
   "execution_count": null,
   "id": "c2a98a6d",
   "metadata": {},
   "outputs": [],
   "source": []
  },
  {
   "cell_type": "code",
   "execution_count": 96,
   "id": "a0d01512",
   "metadata": {},
   "outputs": [],
   "source": [
    "# создаем список сирот"
   ]
  },
  {
   "cell_type": "code",
   "execution_count": 97,
   "id": "9a0e9728",
   "metadata": {},
   "outputs": [
    {
     "name": "stderr",
     "output_type": "stream",
     "text": [
      "C:\\Users\\1\\AppData\\Local\\Temp\\ipykernel_19488\\68532904.py:3: SettingWithCopyWarning: \n",
      "A value is trying to be set on a copy of a slice from a DataFrame\n",
      "\n",
      "See the caveats in the documentation: https://pandas.pydata.org/pandas-docs/stable/user_guide/indexing.html#returning-a-view-versus-a-copy\n",
      "  temp_df.sort_values(by='ФИО',inplace=True)\n"
     ]
    }
   ],
   "source": [
    "for name in unit_lst:\n",
    "    temp_df = sirot_df[sirot_df['Формирующее подр.']== name]\n",
    "    temp_df.sort_values(by='ФИО',inplace=True)\n",
    "    dct_unit[name] = temp_df    \n",
    "\n",
    "t = time.localtime()\n",
    "current_time = time.strftime('%H_%M_%S', t)\n",
    "\n",
    "wb = openpyxl.Workbook()\n",
    "# Переименовываем лист\n",
    "sheet = wb['Sheet']\n",
    "sheet.title = 'ЖД'\n",
    "wb.create_sheet('МО',index=1)\n",
    "wb.create_sheet('ЭО',index=2)\n",
    "wb.create_sheet('ХФ',index=3)\n",
    "\n",
    "for name,df in dct_unit.items():    \n",
    "    for r in dataframe_to_rows(df,index =False,header=True):\n",
    "        if len(r) != 1:\n",
    "            wb[name].append(r)\n",
    "\n",
    "for name in unit_lst:\n",
    "    wb[name].column_dimensions['A'].width =40\n",
    "    wb[name].column_dimensions['B'].width =10\n",
    "    wb[name].column_dimensions['C'].width =20\n",
    "    wb[name].column_dimensions['D'].width =90\n",
    "\n",
    "\n",
    "# Сохраняем итоговый файл\n",
    "wb.save(f'data/Сироты от {current_time}.xlsx')"
   ]
  },
  {
   "cell_type": "code",
   "execution_count": null,
   "id": "f5c49bde",
   "metadata": {},
   "outputs": [],
   "source": []
  },
  {
   "cell_type": "code",
   "execution_count": null,
   "id": "515c978d",
   "metadata": {},
   "outputs": [],
   "source": []
  },
  {
   "cell_type": "code",
   "execution_count": null,
   "id": "b1fa1f50",
   "metadata": {},
   "outputs": [],
   "source": []
  },
  {
   "cell_type": "code",
   "execution_count": null,
   "id": "239a103a",
   "metadata": {},
   "outputs": [],
   "source": []
  },
  {
   "cell_type": "code",
   "execution_count": null,
   "id": "be1e3a83",
   "metadata": {},
   "outputs": [],
   "source": []
  }
 ],
 "metadata": {
  "kernelspec": {
   "display_name": "Python 3 (ipykernel)",
   "language": "python",
   "name": "python3"
  },
  "language_info": {
   "codemirror_mode": {
    "name": "ipython",
    "version": 3
   },
   "file_extension": ".py",
   "mimetype": "text/x-python",
   "name": "python",
   "nbconvert_exporter": "python",
   "pygments_lexer": "ipython3",
   "version": "3.9.13"
  }
 },
 "nbformat": 4,
 "nbformat_minor": 5
}
