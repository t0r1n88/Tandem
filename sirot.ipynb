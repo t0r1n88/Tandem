{
 "cells": [
  {
   "cell_type": "code",
   "execution_count": 124,
   "id": "c653fc1c",
   "metadata": {},
   "outputs": [
    {
     "data": {
      "text/plain": [
       "'\\nскрипт для подсчета сирот и детей СВО\\n'"
      ]
     },
     "execution_count": 124,
     "metadata": {},
     "output_type": "execute_result"
    }
   ],
   "source": [
    "\"\"\"\n",
    "скрипт для подсчета сирот и детей СВО\n",
    "\"\"\""
   ]
  },
  {
   "cell_type": "code",
   "execution_count": 125,
   "id": "217be6f5",
   "metadata": {},
   "outputs": [],
   "source": [
    "import pandas as pd\n",
    "import openpyxl\n",
    "import time\n",
    "from openpyxl.utils.dataframe import dataframe_to_rows"
   ]
  },
  {
   "cell_type": "code",
   "execution_count": 126,
   "id": "65409dab",
   "metadata": {},
   "outputs": [],
   "source": [
    "ab_df = pd.read_excel('data/Абитуриенты.xlsx',sheet_name='Абитуриенты',skiprows=8,dtype={'ИНН':str,'Серия УЛ':str,'Номер УЛ':str})\n",
    "dop_df = pd.read_excel('data/доп статусы.xlsx',skiprows=3)"
   ]
  },
  {
   "cell_type": "code",
   "execution_count": 127,
   "id": "1c062df4",
   "metadata": {},
   "outputs": [],
   "source": [
    "ab_df = ab_df[ab_df['Состояние выбран. конкурса'] == 'Зачислен'] # оставялем только зачисленных\n",
    "ab_df = ab_df[ab_df['Вид возмещения затрат'] == 'бюджет'] #отбираем только бюджетников\n",
    "\n",
    "\n",
    "replace_dct = {'Отделение железнодорожного транспорта':'ЖД','Отделение металлообработки':'МО',\n",
    "               'Отделение энергоснабжения':'ЭО','Хоринский филиал':'ХФ',}\n",
    "\n",
    "ab_df['Формирующее подр.'] = ab_df['Формирующее подр.'].replace(replace_dct)\n",
    "\n",
    "unit_lst = ab_df['Формирующее подр.'].unique()\n",
    "\n",
    "dct_unit = {key:None for key in unit_lst}\n",
    "\n",
    "\n",
    "\n"
   ]
  },
  {
   "cell_type": "code",
   "execution_count": 128,
   "id": "bd9d3c85",
   "metadata": {},
   "outputs": [],
   "source": [
    "ab_df = ab_df[ab_df['Нуждается в общежитии'] == 'да'] # оставляем т"
   ]
  },
  {
   "cell_type": "code",
   "execution_count": 129,
   "id": "440ee755",
   "metadata": {},
   "outputs": [],
   "source": [
    "ab_df = ab_df[['ФИО','Контактный телефон','Мобильный телефон','Адрес регистрации','Формирующее подр.']]"
   ]
  },
  {
   "cell_type": "code",
   "execution_count": 130,
   "id": "472b1143",
   "metadata": {},
   "outputs": [
    {
     "data": {
      "text/plain": [
       "(215, 5)"
      ]
     },
     "execution_count": 130,
     "metadata": {},
     "output_type": "execute_result"
    }
   ],
   "source": [
    "ab_df.shape"
   ]
  },
  {
   "cell_type": "code",
   "execution_count": 131,
   "id": "1128b1a3",
   "metadata": {},
   "outputs": [
    {
     "data": {
      "text/html": [
       "<div>\n",
       "<style scoped>\n",
       "    .dataframe tbody tr th:only-of-type {\n",
       "        vertical-align: middle;\n",
       "    }\n",
       "\n",
       "    .dataframe tbody tr th {\n",
       "        vertical-align: top;\n",
       "    }\n",
       "\n",
       "    .dataframe thead th {\n",
       "        text-align: right;\n",
       "    }\n",
       "</style>\n",
       "<table border=\"1\" class=\"dataframe\">\n",
       "  <thead>\n",
       "    <tr style=\"text-align: right;\">\n",
       "      <th></th>\n",
       "      <th>ФИО</th>\n",
       "      <th>Контактный телефон</th>\n",
       "      <th>Мобильный телефон</th>\n",
       "      <th>Адрес регистрации</th>\n",
       "      <th>Формирующее подр.</th>\n",
       "    </tr>\n",
       "  </thead>\n",
       "  <tbody>\n",
       "    <tr>\n",
       "      <th>5</th>\n",
       "      <td>Авсеевич Радмила Станиславовна</td>\n",
       "      <td>89516315807</td>\n",
       "      <td>NaN</td>\n",
       "      <td>671178, Россия, с. Средний Убукун (03), Респ. ...</td>\n",
       "      <td>МО</td>\n",
       "    </tr>\n",
       "    <tr>\n",
       "      <th>10</th>\n",
       "      <td>Агеев Роман Алексеевич</td>\n",
       "      <td>89503889501</td>\n",
       "      <td>NaN</td>\n",
       "      <td>671404, Россия, п. Майла (03), Респ. Бурятия, ...</td>\n",
       "      <td>МО</td>\n",
       "    </tr>\n",
       "    <tr>\n",
       "      <th>16</th>\n",
       "      <td>Алексеев Александр Викторович</td>\n",
       "      <td>89146324991</td>\n",
       "      <td>NaN</td>\n",
       "      <td>671820, Россия, пгт. Наушки (03), Респ. Буряти...</td>\n",
       "      <td>ЖД</td>\n",
       "    </tr>\n",
       "    <tr>\n",
       "      <th>19</th>\n",
       "      <td>Алексеенко Григорий Эдуардович</td>\n",
       "      <td>89834233431</td>\n",
       "      <td>NaN</td>\n",
       "      <td>671336, Россия, пгт. Онохой (03), Респ. Буряти...</td>\n",
       "      <td>МО</td>\n",
       "    </tr>\n",
       "    <tr>\n",
       "      <th>21</th>\n",
       "      <td>Алиева Дарья Борисовна</td>\n",
       "      <td>NaN</td>\n",
       "      <td>8.951631e+10</td>\n",
       "      <td>671220, Россия, рп. Танхой (03), Респ. Бурятия...</td>\n",
       "      <td>ЭО</td>\n",
       "    </tr>\n",
       "  </tbody>\n",
       "</table>\n",
       "</div>"
      ],
      "text/plain": [
       "                               ФИО Контактный телефон  Мобильный телефон  \\\n",
       "5   Авсеевич Радмила Станиславовна        89516315807                NaN   \n",
       "10          Агеев Роман Алексеевич        89503889501                NaN   \n",
       "16   Алексеев Александр Викторович        89146324991                NaN   \n",
       "19  Алексеенко Григорий Эдуардович        89834233431                NaN   \n",
       "21          Алиева Дарья Борисовна                NaN       8.951631e+10   \n",
       "\n",
       "                                    Адрес регистрации Формирующее подр.  \n",
       "5   671178, Россия, с. Средний Убукун (03), Респ. ...                МО  \n",
       "10  671404, Россия, п. Майла (03), Респ. Бурятия, ...                МО  \n",
       "16  671820, Россия, пгт. Наушки (03), Респ. Буряти...                ЖД  \n",
       "19  671336, Россия, пгт. Онохой (03), Респ. Буряти...                МО  \n",
       "21  671220, Россия, рп. Танхой (03), Респ. Бурятия...                ЭО  "
      ]
     },
     "execution_count": 131,
     "metadata": {},
     "output_type": "execute_result"
    }
   ],
   "source": [
    "ab_df.head()"
   ]
  },
  {
   "cell_type": "code",
   "execution_count": 132,
   "id": "93f3dbfb",
   "metadata": {},
   "outputs": [
    {
     "data": {
      "text/plain": [
       "(758, 12)"
      ]
     },
     "execution_count": 132,
     "metadata": {},
     "output_type": "execute_result"
    }
   ],
   "source": [
    "dop_df.shape"
   ]
  },
  {
   "cell_type": "code",
   "execution_count": 133,
   "id": "3ef9720b",
   "metadata": {},
   "outputs": [
    {
     "data": {
      "text/html": [
       "<div>\n",
       "<style scoped>\n",
       "    .dataframe tbody tr th:only-of-type {\n",
       "        vertical-align: middle;\n",
       "    }\n",
       "\n",
       "    .dataframe tbody tr th {\n",
       "        vertical-align: top;\n",
       "    }\n",
       "\n",
       "    .dataframe thead th {\n",
       "        text-align: right;\n",
       "    }\n",
       "</style>\n",
       "<table border=\"1\" class=\"dataframe\">\n",
       "  <thead>\n",
       "    <tr style=\"text-align: right;\">\n",
       "      <th></th>\n",
       "      <th>Личный №</th>\n",
       "      <th>СНИЛС</th>\n",
       "      <th>№ заявления</th>\n",
       "      <th>Абитуриент</th>\n",
       "      <th>Доп. статус</th>\n",
       "      <th>Пол</th>\n",
       "      <th>Паспорт</th>\n",
       "      <th>Дата рождения</th>\n",
       "      <th>Состояние</th>\n",
       "      <th>Дата добавления</th>\n",
       "      <th>Место работы</th>\n",
       "      <th>Статус</th>\n",
       "    </tr>\n",
       "  </thead>\n",
       "  <tbody>\n",
       "    <tr>\n",
       "      <th>0</th>\n",
       "      <td>2300001</td>\n",
       "      <td>175-042-211-36</td>\n",
       "      <td>1</td>\n",
       "      <td>Болонев Никита Алексеевич</td>\n",
       "      <td>NaN</td>\n",
       "      <td>М</td>\n",
       "      <td>8120 890946</td>\n",
       "      <td>07.12.2006</td>\n",
       "      <td>Забрал документы</td>\n",
       "      <td>20.06.2023</td>\n",
       "      <td>NaN</td>\n",
       "      <td>Да</td>\n",
       "    </tr>\n",
       "    <tr>\n",
       "      <th>1</th>\n",
       "      <td>2300002</td>\n",
       "      <td>162-099-278-79</td>\n",
       "      <td>34</td>\n",
       "      <td>Аршинская Татьяна Алексеевна</td>\n",
       "      <td>NaN</td>\n",
       "      <td>Ж</td>\n",
       "      <td>7619 053216</td>\n",
       "      <td>09.04.2005</td>\n",
       "      <td>Зачислен</td>\n",
       "      <td>20.06.2023</td>\n",
       "      <td>NaN</td>\n",
       "      <td>Да</td>\n",
       "    </tr>\n",
       "    <tr>\n",
       "      <th>2</th>\n",
       "      <td>2300003</td>\n",
       "      <td>152-562-694-70</td>\n",
       "      <td>3</td>\n",
       "      <td>Цыренов Станислав Арьяевич</td>\n",
       "      <td>Спортивные достижения;</td>\n",
       "      <td>М</td>\n",
       "      <td>8119 866341</td>\n",
       "      <td>03.04.2006</td>\n",
       "      <td>Зачислен</td>\n",
       "      <td>20.06.2023</td>\n",
       "      <td>NaN</td>\n",
       "      <td>Да</td>\n",
       "    </tr>\n",
       "    <tr>\n",
       "      <th>3</th>\n",
       "      <td>2300004</td>\n",
       "      <td>153-385-323-63</td>\n",
       "      <td>225\\n226\\n4</td>\n",
       "      <td>Подшивалов Василий Олегович</td>\n",
       "      <td>Сирота; (c 10.05.2012)</td>\n",
       "      <td>М</td>\n",
       "      <td>8120 892675</td>\n",
       "      <td>16.10.2006</td>\n",
       "      <td>Зачислен</td>\n",
       "      <td>20.06.2023</td>\n",
       "      <td>NaN</td>\n",
       "      <td>Да</td>\n",
       "    </tr>\n",
       "    <tr>\n",
       "      <th>4</th>\n",
       "      <td>2300005</td>\n",
       "      <td>156-075-139-63</td>\n",
       "      <td>5\\n544</td>\n",
       "      <td>Аносова Кристина Евгеньевна</td>\n",
       "      <td>Дети военнослужащих, участвующих в спецопераци...</td>\n",
       "      <td>Ж</td>\n",
       "      <td>8120 901145</td>\n",
       "      <td>20.03.2007</td>\n",
       "      <td>Зачислен</td>\n",
       "      <td>20.06.2023</td>\n",
       "      <td>NaN</td>\n",
       "      <td>Да</td>\n",
       "    </tr>\n",
       "  </tbody>\n",
       "</table>\n",
       "</div>"
      ],
      "text/plain": [
       "   Личный №           СНИЛС  № заявления                    Абитуриент  \\\n",
       "0   2300001  175-042-211-36            1     Болонев Никита Алексеевич   \n",
       "1   2300002  162-099-278-79           34  Аршинская Татьяна Алексеевна   \n",
       "2   2300003  152-562-694-70            3    Цыренов Станислав Арьяевич   \n",
       "3   2300004  153-385-323-63  225\\n226\\n4   Подшивалов Василий Олегович   \n",
       "4   2300005  156-075-139-63       5\\n544   Аносова Кристина Евгеньевна   \n",
       "\n",
       "                                         Доп. статус Пол      Паспорт  \\\n",
       "0                                                NaN   М  8120 890946   \n",
       "1                                                NaN   Ж  7619 053216   \n",
       "2                             Спортивные достижения;   М  8119 866341   \n",
       "3                             Сирота; (c 10.05.2012)   М  8120 892675   \n",
       "4  Дети военнослужащих, участвующих в спецопераци...   Ж  8120 901145   \n",
       "\n",
       "  Дата рождения         Состояние Дата добавления  Место работы Статус  \n",
       "0    07.12.2006  Забрал документы      20.06.2023           NaN     Да  \n",
       "1    09.04.2005          Зачислен      20.06.2023           NaN     Да  \n",
       "2    03.04.2006          Зачислен      20.06.2023           NaN     Да  \n",
       "3    16.10.2006          Зачислен      20.06.2023           NaN     Да  \n",
       "4    20.03.2007          Зачислен      20.06.2023           NaN     Да  "
      ]
     },
     "execution_count": 133,
     "metadata": {},
     "output_type": "execute_result"
    }
   ],
   "source": [
    "dop_df.head()"
   ]
  },
  {
   "cell_type": "code",
   "execution_count": 134,
   "id": "87ad10ae",
   "metadata": {},
   "outputs": [],
   "source": [
    "dop_df = dop_df[['Абитуриент','Доп. статус']]"
   ]
  },
  {
   "cell_type": "code",
   "execution_count": 135,
   "id": "3651ec53",
   "metadata": {},
   "outputs": [],
   "source": [
    "merge_df = ab_df.merge(dop_df,left_on='ФИО',right_on='Абитуриент',how='inner')"
   ]
  },
  {
   "cell_type": "code",
   "execution_count": 136,
   "id": "7896b57c",
   "metadata": {},
   "outputs": [
    {
     "data": {
      "text/plain": [
       "(215, 7)"
      ]
     },
     "execution_count": 136,
     "metadata": {},
     "output_type": "execute_result"
    }
   ],
   "source": [
    "merge_df.shape"
   ]
  },
  {
   "cell_type": "code",
   "execution_count": 137,
   "id": "8128d877",
   "metadata": {},
   "outputs": [
    {
     "data": {
      "text/html": [
       "<div>\n",
       "<style scoped>\n",
       "    .dataframe tbody tr th:only-of-type {\n",
       "        vertical-align: middle;\n",
       "    }\n",
       "\n",
       "    .dataframe tbody tr th {\n",
       "        vertical-align: top;\n",
       "    }\n",
       "\n",
       "    .dataframe thead th {\n",
       "        text-align: right;\n",
       "    }\n",
       "</style>\n",
       "<table border=\"1\" class=\"dataframe\">\n",
       "  <thead>\n",
       "    <tr style=\"text-align: right;\">\n",
       "      <th></th>\n",
       "      <th>ФИО</th>\n",
       "      <th>Контактный телефон</th>\n",
       "      <th>Мобильный телефон</th>\n",
       "      <th>Адрес регистрации</th>\n",
       "      <th>Формирующее подр.</th>\n",
       "      <th>Абитуриент</th>\n",
       "      <th>Доп. статус</th>\n",
       "    </tr>\n",
       "  </thead>\n",
       "  <tbody>\n",
       "    <tr>\n",
       "      <th>0</th>\n",
       "      <td>Авсеевич Радмила Станиславовна</td>\n",
       "      <td>89516315807</td>\n",
       "      <td>NaN</td>\n",
       "      <td>671178, Россия, с. Средний Убукун (03), Респ. ...</td>\n",
       "      <td>МО</td>\n",
       "      <td>Авсеевич Радмила Станиславовна</td>\n",
       "      <td>NaN</td>\n",
       "    </tr>\n",
       "    <tr>\n",
       "      <th>1</th>\n",
       "      <td>Агеев Роман Алексеевич</td>\n",
       "      <td>89503889501</td>\n",
       "      <td>NaN</td>\n",
       "      <td>671404, Россия, п. Майла (03), Респ. Бурятия, ...</td>\n",
       "      <td>МО</td>\n",
       "      <td>Агеев Роман Алексеевич</td>\n",
       "      <td>NaN</td>\n",
       "    </tr>\n",
       "    <tr>\n",
       "      <th>2</th>\n",
       "      <td>Алексеев Александр Викторович</td>\n",
       "      <td>89146324991</td>\n",
       "      <td>NaN</td>\n",
       "      <td>671820, Россия, пгт. Наушки (03), Респ. Буряти...</td>\n",
       "      <td>ЖД</td>\n",
       "      <td>Алексеев Александр Викторович</td>\n",
       "      <td>Дети военнослужащих, участвующих в спецопераци...</td>\n",
       "    </tr>\n",
       "    <tr>\n",
       "      <th>3</th>\n",
       "      <td>Алексеенко Григорий Эдуардович</td>\n",
       "      <td>89834233431</td>\n",
       "      <td>NaN</td>\n",
       "      <td>671336, Россия, пгт. Онохой (03), Респ. Буряти...</td>\n",
       "      <td>МО</td>\n",
       "      <td>Алексеенко Григорий Эдуардович</td>\n",
       "      <td>NaN</td>\n",
       "    </tr>\n",
       "    <tr>\n",
       "      <th>4</th>\n",
       "      <td>Алиева Дарья Борисовна</td>\n",
       "      <td>NaN</td>\n",
       "      <td>8.951631e+10</td>\n",
       "      <td>671220, Россия, рп. Танхой (03), Респ. Бурятия...</td>\n",
       "      <td>ЭО</td>\n",
       "      <td>Алиева Дарья Борисовна</td>\n",
       "      <td>NaN</td>\n",
       "    </tr>\n",
       "  </tbody>\n",
       "</table>\n",
       "</div>"
      ],
      "text/plain": [
       "                              ФИО Контактный телефон  Мобильный телефон  \\\n",
       "0  Авсеевич Радмила Станиславовна        89516315807                NaN   \n",
       "1          Агеев Роман Алексеевич        89503889501                NaN   \n",
       "2   Алексеев Александр Викторович        89146324991                NaN   \n",
       "3  Алексеенко Григорий Эдуардович        89834233431                NaN   \n",
       "4          Алиева Дарья Борисовна                NaN       8.951631e+10   \n",
       "\n",
       "                                   Адрес регистрации Формирующее подр.  \\\n",
       "0  671178, Россия, с. Средний Убукун (03), Респ. ...                МО   \n",
       "1  671404, Россия, п. Майла (03), Респ. Бурятия, ...                МО   \n",
       "2  671820, Россия, пгт. Наушки (03), Респ. Буряти...                ЖД   \n",
       "3  671336, Россия, пгт. Онохой (03), Респ. Буряти...                МО   \n",
       "4  671220, Россия, рп. Танхой (03), Респ. Бурятия...                ЭО   \n",
       "\n",
       "                       Абитуриент  \\\n",
       "0  Авсеевич Радмила Станиславовна   \n",
       "1          Агеев Роман Алексеевич   \n",
       "2   Алексеев Александр Викторович   \n",
       "3  Алексеенко Григорий Эдуардович   \n",
       "4          Алиева Дарья Борисовна   \n",
       "\n",
       "                                         Доп. статус  \n",
       "0                                                NaN  \n",
       "1                                                NaN  \n",
       "2  Дети военнослужащих, участвующих в спецопераци...  \n",
       "3                                                NaN  \n",
       "4                                                NaN  "
      ]
     },
     "execution_count": 137,
     "metadata": {},
     "output_type": "execute_result"
    }
   ],
   "source": [
    "merge_df.head()"
   ]
  },
  {
   "cell_type": "code",
   "execution_count": 138,
   "id": "484e1852",
   "metadata": {},
   "outputs": [],
   "source": [
    "merge_df['Доп. статус'] = merge_df['Доп. статус'].fillna('')"
   ]
  },
  {
   "cell_type": "code",
   "execution_count": 139,
   "id": "0fab4d62",
   "metadata": {},
   "outputs": [],
   "source": [
    "svo_df = merge_df[merge_df['Доп. статус'].str.contains('военнослужащих')]\n",
    "sirot_df = merge_df[merge_df['Доп. статус'].str.contains('Сирота')]"
   ]
  },
  {
   "cell_type": "code",
   "execution_count": 140,
   "id": "78aac9e4",
   "metadata": {},
   "outputs": [
    {
     "data": {
      "text/plain": [
       "(6, 7)"
      ]
     },
     "execution_count": 140,
     "metadata": {},
     "output_type": "execute_result"
    }
   ],
   "source": [
    "svo_df.shape"
   ]
  },
  {
   "cell_type": "code",
   "execution_count": 141,
   "id": "62a5245c",
   "metadata": {},
   "outputs": [
    {
     "name": "stderr",
     "output_type": "stream",
     "text": [
      "C:\\Users\\1\\AppData\\Local\\Temp\\ipykernel_19488\\2718884617.py:1: SettingWithCopyWarning: \n",
      "A value is trying to be set on a copy of a slice from a DataFrame\n",
      "\n",
      "See the caveats in the documentation: https://pandas.pydata.org/pandas-docs/stable/user_guide/indexing.html#returning-a-view-versus-a-copy\n",
      "  svo_df.drop(columns=['Абитуриент','Доп. статус'],inplace=True)\n"
     ]
    }
   ],
   "source": [
    "svo_df.drop(columns=['Абитуриент','Доп. статус'],inplace=True)"
   ]
  },
  {
   "cell_type": "code",
   "execution_count": 142,
   "id": "b88945ef",
   "metadata": {},
   "outputs": [
    {
     "name": "stderr",
     "output_type": "stream",
     "text": [
      "C:\\Users\\1\\AppData\\Local\\Temp\\ipykernel_19488\\625467679.py:1: SettingWithCopyWarning: \n",
      "A value is trying to be set on a copy of a slice from a DataFrame\n",
      "\n",
      "See the caveats in the documentation: https://pandas.pydata.org/pandas-docs/stable/user_guide/indexing.html#returning-a-view-versus-a-copy\n",
      "  sirot_df.drop(columns=['Абитуриент','Доп. статус'],inplace=True)\n"
     ]
    }
   ],
   "source": [
    "sirot_df.drop(columns=['Абитуриент','Доп. статус'],inplace=True)"
   ]
  },
  {
   "cell_type": "code",
   "execution_count": 143,
   "id": "028febfe",
   "metadata": {},
   "outputs": [
    {
     "data": {
      "text/plain": [
       "(14, 5)"
      ]
     },
     "execution_count": 143,
     "metadata": {},
     "output_type": "execute_result"
    }
   ],
   "source": [
    "sirot_df.shape"
   ]
  },
  {
   "cell_type": "code",
   "execution_count": 144,
   "id": "2dc8be67",
   "metadata": {},
   "outputs": [
    {
     "name": "stderr",
     "output_type": "stream",
     "text": [
      "C:\\Users\\1\\AppData\\Local\\Temp\\ipykernel_19488\\1309226404.py:3: SettingWithCopyWarning: \n",
      "A value is trying to be set on a copy of a slice from a DataFrame\n",
      "\n",
      "See the caveats in the documentation: https://pandas.pydata.org/pandas-docs/stable/user_guide/indexing.html#returning-a-view-versus-a-copy\n",
      "  temp_df.sort_values(by='ФИО',inplace=True)\n"
     ]
    }
   ],
   "source": [
    "for name in unit_lst:\n",
    "    temp_df = svo_df[svo_df['Формирующее подр.']== name]\n",
    "    temp_df.sort_values(by='ФИО',inplace=True)\n",
    "    dct_unit[name] = temp_df    "
   ]
  },
  {
   "cell_type": "code",
   "execution_count": 145,
   "id": "72cb13a6",
   "metadata": {},
   "outputs": [],
   "source": [
    "t = time.localtime()\n",
    "current_time = time.strftime('%H_%M_%S', t)\n",
    "\n",
    "wb = openpyxl.Workbook()\n",
    "# Переименовываем лист\n",
    "sheet = wb['Sheet']\n",
    "sheet.title = 'ЖД'\n",
    "wb.create_sheet('МО',index=1)\n",
    "wb.create_sheet('ЭО',index=2)\n",
    "wb.create_sheet('ХФ',index=3)\n",
    "\n",
    "for name,df in dct_unit.items():    \n",
    "    for r in dataframe_to_rows(df,index =False,header=True):\n",
    "        if len(r) != 1:\n",
    "            wb[name].append(r)\n",
    "\n",
    "for name in unit_lst:\n",
    "    wb[name].column_dimensions['A'].width =40\n",
    "    wb[name].column_dimensions['B'].width =10\n",
    "    wb[name].column_dimensions['C'].width =20\n",
    "    wb[name].column_dimensions['D'].width =90\n",
    "\n",
    "\n",
    "# Сохраняем итоговый файл\n",
    "wb.save(f'data/Дети СВО от {current_time}.xlsx')"
   ]
  },
  {
   "cell_type": "code",
   "execution_count": null,
   "id": "c2a98a6d",
   "metadata": {},
   "outputs": [],
   "source": []
  },
  {
   "cell_type": "code",
   "execution_count": 146,
   "id": "a0d01512",
   "metadata": {},
   "outputs": [],
   "source": [
    "# создаем список сирот"
   ]
  },
  {
   "cell_type": "code",
   "execution_count": 147,
   "id": "9a0e9728",
   "metadata": {},
   "outputs": [
    {
     "name": "stderr",
     "output_type": "stream",
     "text": [
      "C:\\Users\\1\\AppData\\Local\\Temp\\ipykernel_19488\\68532904.py:3: SettingWithCopyWarning: \n",
      "A value is trying to be set on a copy of a slice from a DataFrame\n",
      "\n",
      "See the caveats in the documentation: https://pandas.pydata.org/pandas-docs/stable/user_guide/indexing.html#returning-a-view-versus-a-copy\n",
      "  temp_df.sort_values(by='ФИО',inplace=True)\n"
     ]
    }
   ],
   "source": [
    "for name in unit_lst:\n",
    "    temp_df = sirot_df[sirot_df['Формирующее подр.']== name]\n",
    "    temp_df.sort_values(by='ФИО',inplace=True)\n",
    "    dct_unit[name] = temp_df    \n",
    "\n",
    "t = time.localtime()\n",
    "current_time = time.strftime('%H_%M_%S', t)\n",
    "\n",
    "wb = openpyxl.Workbook()\n",
    "# Переименовываем лист\n",
    "sheet = wb['Sheet']\n",
    "sheet.title = 'ЖД'\n",
    "wb.create_sheet('МО',index=1)\n",
    "wb.create_sheet('ЭО',index=2)\n",
    "wb.create_sheet('ХФ',index=3)\n",
    "\n",
    "for name,df in dct_unit.items():    \n",
    "    for r in dataframe_to_rows(df,index =False,header=True):\n",
    "        if len(r) != 1:\n",
    "            wb[name].append(r)\n",
    "\n",
    "for name in unit_lst:\n",
    "    wb[name].column_dimensions['A'].width =40\n",
    "    wb[name].column_dimensions['B'].width =10\n",
    "    wb[name].column_dimensions['C'].width =20\n",
    "    wb[name].column_dimensions['D'].width =90\n",
    "\n",
    "\n",
    "# Сохраняем итоговый файл\n",
    "wb.save(f'data/Сироты от {current_time}.xlsx')"
   ]
  },
  {
   "cell_type": "code",
   "execution_count": null,
   "id": "f5c49bde",
   "metadata": {},
   "outputs": [],
   "source": []
  },
  {
   "cell_type": "code",
   "execution_count": null,
   "id": "515c978d",
   "metadata": {},
   "outputs": [],
   "source": []
  },
  {
   "cell_type": "code",
   "execution_count": null,
   "id": "b1fa1f50",
   "metadata": {},
   "outputs": [],
   "source": []
  },
  {
   "cell_type": "code",
   "execution_count": null,
   "id": "239a103a",
   "metadata": {},
   "outputs": [],
   "source": []
  },
  {
   "cell_type": "code",
   "execution_count": null,
   "id": "be1e3a83",
   "metadata": {},
   "outputs": [],
   "source": []
  }
 ],
 "metadata": {
  "kernelspec": {
   "display_name": "Python 3 (ipykernel)",
   "language": "python",
   "name": "python3"
  },
  "language_info": {
   "codemirror_mode": {
    "name": "ipython",
    "version": 3
   },
   "file_extension": ".py",
   "mimetype": "text/x-python",
   "name": "python",
   "nbconvert_exporter": "python",
   "pygments_lexer": "ipython3",
   "version": "3.9.13"
  }
 },
 "nbformat": 4,
 "nbformat_minor": 5
}
