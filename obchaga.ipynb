{
 "cells": [
  {
   "cell_type": "code",
   "execution_count": 282,
   "id": "cf919a87",
   "metadata": {},
   "outputs": [
    {
     "data": {
      "text/plain": [
       "'\\nСкрипт для составления списка общежитий\\n'"
      ]
     },
     "execution_count": 282,
     "metadata": {},
     "output_type": "execute_result"
    }
   ],
   "source": [
    "\"\"\"\n",
    "Скрипт для составления списка общежитий\n",
    "\"\"\""
   ]
  },
  {
   "cell_type": "code",
   "execution_count": 283,
   "id": "560726db",
   "metadata": {},
   "outputs": [],
   "source": [
    "import pandas as pd\n",
    "import openpyxl\n",
    "import time\n",
    "from openpyxl.utils.dataframe import dataframe_to_rows"
   ]
  },
  {
   "cell_type": "code",
   "execution_count": 284,
   "id": "ccf700ff",
   "metadata": {},
   "outputs": [],
   "source": [
    "ab_df = pd.read_excel('data/Абитуриенты.xlsx',sheet_name='Абитуриенты',skiprows=8,dtype={'ИНН':str,'Серия УЛ':str,'Номер УЛ':str})\n",
    "dop_df = pd.read_excel('data/доп статусы.xlsx',skiprows=3)"
   ]
  },
  {
   "cell_type": "code",
   "execution_count": 285,
   "id": "6298bab0",
   "metadata": {},
   "outputs": [
    {
     "data": {
      "text/html": [
       "<div>\n",
       "<style scoped>\n",
       "    .dataframe tbody tr th:only-of-type {\n",
       "        vertical-align: middle;\n",
       "    }\n",
       "\n",
       "    .dataframe tbody tr th {\n",
       "        vertical-align: top;\n",
       "    }\n",
       "\n",
       "    .dataframe thead th {\n",
       "        text-align: right;\n",
       "    }\n",
       "</style>\n",
       "<table border=\"1\" class=\"dataframe\">\n",
       "  <thead>\n",
       "    <tr style=\"text-align: right;\">\n",
       "      <th></th>\n",
       "      <th>№</th>\n",
       "      <th>ФИО</th>\n",
       "      <th>Пол</th>\n",
       "      <th>Дата рождения</th>\n",
       "      <th>Тип УЛ</th>\n",
       "      <th>Серия УЛ</th>\n",
       "      <th>Номер УЛ</th>\n",
       "      <th>Дата выдачи УЛ</th>\n",
       "      <th>Кем выдано УЛ</th>\n",
       "      <th>ИНН</th>\n",
       "      <th>...</th>\n",
       "      <th>Статус результатов ЕГЭ</th>\n",
       "      <th>Баллы за индивидуальные достижения</th>\n",
       "      <th>Сумма баллов за индивидуальные достижения</th>\n",
       "      <th>Баллы за индивидуальные достижения, учитываемые как преимущество</th>\n",
       "      <th>Сумма баллов за индивидуальные достижения, учитываемые как преимущество</th>\n",
       "      <th>Организация-заказчик</th>\n",
       "      <th>Целевая контрактная подготовка</th>\n",
       "      <th>Uid ЕПГУ</th>\n",
       "      <th>Договор заключен</th>\n",
       "      <th>Договор оплачен</th>\n",
       "    </tr>\n",
       "  </thead>\n",
       "  <tbody>\n",
       "    <tr>\n",
       "      <th>0</th>\n",
       "      <td>1</td>\n",
       "      <td>Абросова Анастасия Витальевна</td>\n",
       "      <td>Ж</td>\n",
       "      <td>08.07.2007</td>\n",
       "      <td>Паспорт РФ</td>\n",
       "      <td>8112</td>\n",
       "      <td>927500</td>\n",
       "      <td>04.08.2021</td>\n",
       "      <td>МВД ПО РЕСПУБЛИКЕ БУРЯТИЯ</td>\n",
       "      <td>030620313718</td>\n",
       "      <td>...</td>\n",
       "      <td>NaN</td>\n",
       "      <td>NaN</td>\n",
       "      <td>0.0</td>\n",
       "      <td>NaN</td>\n",
       "      <td>0.0</td>\n",
       "      <td>NaN</td>\n",
       "      <td>нет</td>\n",
       "      <td>NaN</td>\n",
       "      <td>нет</td>\n",
       "      <td>нет</td>\n",
       "    </tr>\n",
       "    <tr>\n",
       "      <th>1</th>\n",
       "      <td>2</td>\n",
       "      <td>Абсаматов Вадим Чимид-Цыренович</td>\n",
       "      <td>М</td>\n",
       "      <td>14.12.2007</td>\n",
       "      <td>Паспорт РФ</td>\n",
       "      <td>8120</td>\n",
       "      <td>900692</td>\n",
       "      <td>23.12.2021</td>\n",
       "      <td>МВД ПО РЕСП. БУРЯТИЯ</td>\n",
       "      <td>NaN</td>\n",
       "      <td>...</td>\n",
       "      <td>NaN</td>\n",
       "      <td>NaN</td>\n",
       "      <td>0.0</td>\n",
       "      <td>NaN</td>\n",
       "      <td>0.0</td>\n",
       "      <td>NaN</td>\n",
       "      <td>нет</td>\n",
       "      <td>NaN</td>\n",
       "      <td>нет</td>\n",
       "      <td>нет</td>\n",
       "    </tr>\n",
       "    <tr>\n",
       "      <th>2</th>\n",
       "      <td>3</td>\n",
       "      <td>Авдеев Сергей Александрович</td>\n",
       "      <td>М</td>\n",
       "      <td>09.10.2006</td>\n",
       "      <td>Паспорт РФ</td>\n",
       "      <td>8120</td>\n",
       "      <td>896798</td>\n",
       "      <td>23.12.2020</td>\n",
       "      <td>МВД по РЕСПУБЛИКЕ БУРЯТИЯ</td>\n",
       "      <td>NaN</td>\n",
       "      <td>...</td>\n",
       "      <td>NaN</td>\n",
       "      <td>NaN</td>\n",
       "      <td>0.0</td>\n",
       "      <td>NaN</td>\n",
       "      <td>0.0</td>\n",
       "      <td>NaN</td>\n",
       "      <td>нет</td>\n",
       "      <td>NaN</td>\n",
       "      <td>нет</td>\n",
       "      <td>нет</td>\n",
       "    </tr>\n",
       "    <tr>\n",
       "      <th>3</th>\n",
       "      <td>4</td>\n",
       "      <td>Авдеев Сергей Александрович</td>\n",
       "      <td>М</td>\n",
       "      <td>09.10.2006</td>\n",
       "      <td>Паспорт РФ</td>\n",
       "      <td>8120</td>\n",
       "      <td>896798</td>\n",
       "      <td>23.12.2020</td>\n",
       "      <td>МВД по РЕСПУБЛИКЕ БУРЯТИЯ</td>\n",
       "      <td>NaN</td>\n",
       "      <td>...</td>\n",
       "      <td>NaN</td>\n",
       "      <td>NaN</td>\n",
       "      <td>0.0</td>\n",
       "      <td>NaN</td>\n",
       "      <td>0.0</td>\n",
       "      <td>NaN</td>\n",
       "      <td>нет</td>\n",
       "      <td>NaN</td>\n",
       "      <td>нет</td>\n",
       "      <td>нет</td>\n",
       "    </tr>\n",
       "    <tr>\n",
       "      <th>4</th>\n",
       "      <td>5</td>\n",
       "      <td>Аверина Вероника Евгеньевна</td>\n",
       "      <td>Ж</td>\n",
       "      <td>03.12.2007</td>\n",
       "      <td>Паспорт РФ</td>\n",
       "      <td>8121</td>\n",
       "      <td>951540</td>\n",
       "      <td>17.12.2021</td>\n",
       "      <td>МВД ПО РЕСП. БУРЯТИЯ</td>\n",
       "      <td>NaN</td>\n",
       "      <td>...</td>\n",
       "      <td>NaN</td>\n",
       "      <td>NaN</td>\n",
       "      <td>0.0</td>\n",
       "      <td>NaN</td>\n",
       "      <td>0.0</td>\n",
       "      <td>NaN</td>\n",
       "      <td>нет</td>\n",
       "      <td>NaN</td>\n",
       "      <td>нет</td>\n",
       "      <td>нет</td>\n",
       "    </tr>\n",
       "  </tbody>\n",
       "</table>\n",
       "<p>5 rows × 108 columns</p>\n",
       "</div>"
      ],
      "text/plain": [
       "   №                              ФИО Пол Дата рождения      Тип УЛ Серия УЛ  \\\n",
       "0  1    Абросова Анастасия Витальевна   Ж    08.07.2007  Паспорт РФ     8112   \n",
       "1  2  Абсаматов Вадим Чимид-Цыренович   М    14.12.2007  Паспорт РФ     8120   \n",
       "2  3      Авдеев Сергей Александрович   М    09.10.2006  Паспорт РФ     8120   \n",
       "3  4      Авдеев Сергей Александрович   М    09.10.2006  Паспорт РФ     8120   \n",
       "4  5      Аверина Вероника Евгеньевна   Ж    03.12.2007  Паспорт РФ     8121   \n",
       "\n",
       "  Номер УЛ Дата выдачи УЛ              Кем выдано УЛ           ИНН  ...  \\\n",
       "0   927500     04.08.2021  МВД ПО РЕСПУБЛИКЕ БУРЯТИЯ  030620313718  ...   \n",
       "1   900692     23.12.2021       МВД ПО РЕСП. БУРЯТИЯ           NaN  ...   \n",
       "2   896798     23.12.2020  МВД по РЕСПУБЛИКЕ БУРЯТИЯ           NaN  ...   \n",
       "3   896798     23.12.2020  МВД по РЕСПУБЛИКЕ БУРЯТИЯ           NaN  ...   \n",
       "4   951540     17.12.2021       МВД ПО РЕСП. БУРЯТИЯ           NaN  ...   \n",
       "\n",
       "  Статус результатов ЕГЭ Баллы за индивидуальные достижения  \\\n",
       "0                    NaN                                NaN   \n",
       "1                    NaN                                NaN   \n",
       "2                    NaN                                NaN   \n",
       "3                    NaN                                NaN   \n",
       "4                    NaN                                NaN   \n",
       "\n",
       "  Сумма баллов за индивидуальные достижения  \\\n",
       "0                                       0.0   \n",
       "1                                       0.0   \n",
       "2                                       0.0   \n",
       "3                                       0.0   \n",
       "4                                       0.0   \n",
       "\n",
       "   Баллы за индивидуальные достижения, учитываемые как преимущество  \\\n",
       "0                                                NaN                  \n",
       "1                                                NaN                  \n",
       "2                                                NaN                  \n",
       "3                                                NaN                  \n",
       "4                                                NaN                  \n",
       "\n",
       "  Сумма баллов за индивидуальные достижения, учитываемые как преимущество  \\\n",
       "0                                                0.0                        \n",
       "1                                                0.0                        \n",
       "2                                                0.0                        \n",
       "3                                                0.0                        \n",
       "4                                                0.0                        \n",
       "\n",
       "   Организация-заказчик Целевая контрактная подготовка  Uid ЕПГУ  \\\n",
       "0                   NaN                            нет       NaN   \n",
       "1                   NaN                            нет       NaN   \n",
       "2                   NaN                            нет       NaN   \n",
       "3                   NaN                            нет       NaN   \n",
       "4                   NaN                            нет       NaN   \n",
       "\n",
       "  Договор заключен  Договор оплачен  \n",
       "0              нет              нет  \n",
       "1              нет              нет  \n",
       "2              нет              нет  \n",
       "3              нет              нет  \n",
       "4              нет              нет  \n",
       "\n",
       "[5 rows x 108 columns]"
      ]
     },
     "execution_count": 285,
     "metadata": {},
     "output_type": "execute_result"
    }
   ],
   "source": [
    "ab_df.head()"
   ]
  },
  {
   "cell_type": "code",
   "execution_count": 286,
   "id": "a0278c42",
   "metadata": {},
   "outputs": [],
   "source": [
    "dop_df = dop_df[['Абитуриент','Доп. статус']]"
   ]
  },
  {
   "cell_type": "code",
   "execution_count": 287,
   "id": "9928d31e",
   "metadata": {},
   "outputs": [],
   "source": [
    "ab_df = ab_df[ab_df['Состояние выбран. конкурса'] == 'Зачислен'] # оставялем только зачисленных\n",
    "ab_df = ab_df[ab_df['Вид возмещения затрат'] == 'бюджет'] #отбираем только бюджетников"
   ]
  },
  {
   "cell_type": "code",
   "execution_count": 288,
   "id": "4c6b1fef",
   "metadata": {},
   "outputs": [],
   "source": [
    "replace_dct = {'Отделение железнодорожного транспорта':'ЖД','Отделение металлообработки':'МО',\n",
    "               'Отделение энергоснабжения':'ЭО','Хоринский филиал':'ХФ',}"
   ]
  },
  {
   "cell_type": "code",
   "execution_count": 289,
   "id": "bc440101",
   "metadata": {},
   "outputs": [],
   "source": [
    "ab_df['Формирующее подр.'] = ab_df['Формирующее подр.'].replace(replace_dct)"
   ]
  },
  {
   "cell_type": "code",
   "execution_count": 290,
   "id": "75385071",
   "metadata": {},
   "outputs": [],
   "source": [
    "unit_lst = ab_df['Формирующее подр.'].unique()"
   ]
  },
  {
   "cell_type": "code",
   "execution_count": 291,
   "id": "382b93e0",
   "metadata": {},
   "outputs": [],
   "source": [
    "dct_unit = {key:None for key in unit_lst}"
   ]
  },
  {
   "cell_type": "code",
   "execution_count": 292,
   "id": "1cbfa053",
   "metadata": {},
   "outputs": [
    {
     "data": {
      "text/plain": [
       "(496, 108)"
      ]
     },
     "execution_count": 292,
     "metadata": {},
     "output_type": "execute_result"
    }
   ],
   "source": [
    "ab_df.shape"
   ]
  },
  {
   "cell_type": "code",
   "execution_count": 293,
   "id": "fb10c0b1",
   "metadata": {},
   "outputs": [],
   "source": [
    "ab_df = ab_df[ab_df['Нуждается в общежитии']=='да']"
   ]
  },
  {
   "cell_type": "code",
   "execution_count": 294,
   "id": "9fef389f",
   "metadata": {},
   "outputs": [
    {
     "data": {
      "text/plain": [
       "(215, 108)"
      ]
     },
     "execution_count": 294,
     "metadata": {},
     "output_type": "execute_result"
    }
   ],
   "source": [
    "ab_df.shape"
   ]
  },
  {
   "cell_type": "code",
   "execution_count": null,
   "id": "d829e312",
   "metadata": {},
   "outputs": [],
   "source": []
  },
  {
   "cell_type": "code",
   "execution_count": 295,
   "id": "23233c63",
   "metadata": {},
   "outputs": [],
   "source": [
    "ab_df = ab_df[['ФИО','Контактный телефон','Мобильный телефон','Адрес регистрации','Формирующее подр.','Ср. балл док-та об образовании']]"
   ]
  },
  {
   "cell_type": "code",
   "execution_count": 296,
   "id": "81841c09",
   "metadata": {},
   "outputs": [
    {
     "data": {
      "text/html": [
       "<div>\n",
       "<style scoped>\n",
       "    .dataframe tbody tr th:only-of-type {\n",
       "        vertical-align: middle;\n",
       "    }\n",
       "\n",
       "    .dataframe tbody tr th {\n",
       "        vertical-align: top;\n",
       "    }\n",
       "\n",
       "    .dataframe thead th {\n",
       "        text-align: right;\n",
       "    }\n",
       "</style>\n",
       "<table border=\"1\" class=\"dataframe\">\n",
       "  <thead>\n",
       "    <tr style=\"text-align: right;\">\n",
       "      <th></th>\n",
       "      <th>ФИО</th>\n",
       "      <th>Контактный телефон</th>\n",
       "      <th>Мобильный телефон</th>\n",
       "      <th>Адрес регистрации</th>\n",
       "      <th>Формирующее подр.</th>\n",
       "      <th>Ср. балл док-та об образовании</th>\n",
       "    </tr>\n",
       "  </thead>\n",
       "  <tbody>\n",
       "    <tr>\n",
       "      <th>6</th>\n",
       "      <td>Авсеевич Радмила Станиславовна</td>\n",
       "      <td>89516315807</td>\n",
       "      <td>NaN</td>\n",
       "      <td>671178, Россия, с. Средний Убукун (03), Респ. ...</td>\n",
       "      <td>МО</td>\n",
       "      <td>3.350</td>\n",
       "    </tr>\n",
       "    <tr>\n",
       "      <th>10</th>\n",
       "      <td>Агеев Роман Алексеевич</td>\n",
       "      <td>89503889501</td>\n",
       "      <td>NaN</td>\n",
       "      <td>671404, Россия, п. Майла (03), Респ. Бурятия, ...</td>\n",
       "      <td>МО</td>\n",
       "      <td>3.583</td>\n",
       "    </tr>\n",
       "    <tr>\n",
       "      <th>16</th>\n",
       "      <td>Алексеев Александр Викторович</td>\n",
       "      <td>89146324991</td>\n",
       "      <td>NaN</td>\n",
       "      <td>671820, Россия, пгт. Наушки (03), Респ. Буряти...</td>\n",
       "      <td>ЖД</td>\n",
       "      <td>3.950</td>\n",
       "    </tr>\n",
       "    <tr>\n",
       "      <th>19</th>\n",
       "      <td>Алексеенко Григорий Эдуардович</td>\n",
       "      <td>89834233431</td>\n",
       "      <td>NaN</td>\n",
       "      <td>671336, Россия, пгт. Онохой (03), Респ. Буряти...</td>\n",
       "      <td>МО</td>\n",
       "      <td>3.316</td>\n",
       "    </tr>\n",
       "    <tr>\n",
       "      <th>21</th>\n",
       "      <td>Алиева Дарья Борисовна</td>\n",
       "      <td>NaN</td>\n",
       "      <td>8.951631e+10</td>\n",
       "      <td>671220, Россия, рп. Танхой (03), Респ. Бурятия...</td>\n",
       "      <td>ЭО</td>\n",
       "      <td>3.895</td>\n",
       "    </tr>\n",
       "    <tr>\n",
       "      <th>...</th>\n",
       "      <td>...</td>\n",
       "      <td>...</td>\n",
       "      <td>...</td>\n",
       "      <td>...</td>\n",
       "      <td>...</td>\n",
       "      <td>...</td>\n",
       "    </tr>\n",
       "    <tr>\n",
       "      <th>1208</th>\n",
       "      <td>Шангин Алексей Сергеевич</td>\n",
       "      <td>89025961998</td>\n",
       "      <td>NaN</td>\n",
       "      <td>673055, Россия, с. Усть-Урлук (75), край Забай...</td>\n",
       "      <td>ЭО</td>\n",
       "      <td>3.350</td>\n",
       "    </tr>\n",
       "    <tr>\n",
       "      <th>1210</th>\n",
       "      <td>Шардин Денис Владимирович</td>\n",
       "      <td>89834272167</td>\n",
       "      <td>NaN</td>\n",
       "      <td>671900, Россия, с. Джида (03), Респ. Бурятия, ...</td>\n",
       "      <td>МО</td>\n",
       "      <td>3.762</td>\n",
       "    </tr>\n",
       "    <tr>\n",
       "      <th>1213</th>\n",
       "      <td>Шимитов Баир Арсаланович</td>\n",
       "      <td>89369999332</td>\n",
       "      <td>NaN</td>\n",
       "      <td>687000, Россия, пгт. Агинское (75), край Забай...</td>\n",
       "      <td>ЖД</td>\n",
       "      <td>3.700</td>\n",
       "    </tr>\n",
       "    <tr>\n",
       "      <th>1217</th>\n",
       "      <td>Ширинкина Елена Андреевна</td>\n",
       "      <td>89503882862</td>\n",
       "      <td>NaN</td>\n",
       "      <td>671120, Россия, с. Нижний Саянтуй (03), Респ. ...</td>\n",
       "      <td>МО</td>\n",
       "      <td>3.750</td>\n",
       "    </tr>\n",
       "    <tr>\n",
       "      <th>1233</th>\n",
       "      <td>Юдаев Владимир Иванович</td>\n",
       "      <td>89085991926</td>\n",
       "      <td>NaN</td>\n",
       "      <td>671401, Россия, с. Георгиевское (03), Респ. Бу...</td>\n",
       "      <td>ЖД</td>\n",
       "      <td>4.450</td>\n",
       "    </tr>\n",
       "  </tbody>\n",
       "</table>\n",
       "<p>215 rows × 6 columns</p>\n",
       "</div>"
      ],
      "text/plain": [
       "                                 ФИО Контактный телефон  Мобильный телефон  \\\n",
       "6     Авсеевич Радмила Станиславовна        89516315807                NaN   \n",
       "10            Агеев Роман Алексеевич        89503889501                NaN   \n",
       "16     Алексеев Александр Викторович        89146324991                NaN   \n",
       "19    Алексеенко Григорий Эдуардович        89834233431                NaN   \n",
       "21            Алиева Дарья Борисовна                NaN       8.951631e+10   \n",
       "...                              ...                ...                ...   \n",
       "1208        Шангин Алексей Сергеевич        89025961998                NaN   \n",
       "1210       Шардин Денис Владимирович        89834272167                NaN   \n",
       "1213        Шимитов Баир Арсаланович        89369999332                NaN   \n",
       "1217       Ширинкина Елена Андреевна        89503882862                NaN   \n",
       "1233         Юдаев Владимир Иванович        89085991926                NaN   \n",
       "\n",
       "                                      Адрес регистрации Формирующее подр.  \\\n",
       "6     671178, Россия, с. Средний Убукун (03), Респ. ...                МО   \n",
       "10    671404, Россия, п. Майла (03), Респ. Бурятия, ...                МО   \n",
       "16    671820, Россия, пгт. Наушки (03), Респ. Буряти...                ЖД   \n",
       "19    671336, Россия, пгт. Онохой (03), Респ. Буряти...                МО   \n",
       "21    671220, Россия, рп. Танхой (03), Респ. Бурятия...                ЭО   \n",
       "...                                                 ...               ...   \n",
       "1208  673055, Россия, с. Усть-Урлук (75), край Забай...                ЭО   \n",
       "1210  671900, Россия, с. Джида (03), Респ. Бурятия, ...                МО   \n",
       "1213  687000, Россия, пгт. Агинское (75), край Забай...                ЖД   \n",
       "1217  671120, Россия, с. Нижний Саянтуй (03), Респ. ...                МО   \n",
       "1233  671401, Россия, с. Георгиевское (03), Респ. Бу...                ЖД   \n",
       "\n",
       "      Ср. балл док-та об образовании  \n",
       "6                              3.350  \n",
       "10                             3.583  \n",
       "16                             3.950  \n",
       "19                             3.316  \n",
       "21                             3.895  \n",
       "...                              ...  \n",
       "1208                           3.350  \n",
       "1210                           3.762  \n",
       "1213                           3.700  \n",
       "1217                           3.750  \n",
       "1233                           4.450  \n",
       "\n",
       "[215 rows x 6 columns]"
      ]
     },
     "execution_count": 296,
     "metadata": {},
     "output_type": "execute_result"
    }
   ],
   "source": [
    "ab_df"
   ]
  },
  {
   "cell_type": "code",
   "execution_count": 297,
   "id": "ca7f9ecb",
   "metadata": {},
   "outputs": [],
   "source": [
    "merge_df = ab_df.merge(dop_df,left_on='ФИО',right_on='Абитуриент',how='inner')"
   ]
  },
  {
   "cell_type": "code",
   "execution_count": 298,
   "id": "dc550310",
   "metadata": {},
   "outputs": [],
   "source": [
    "merge_df.drop(columns=['Абитуриент'],inplace=True)"
   ]
  },
  {
   "cell_type": "code",
   "execution_count": 299,
   "id": "dc4a35b8",
   "metadata": {},
   "outputs": [
    {
     "name": "stderr",
     "output_type": "stream",
     "text": [
      "C:\\Users\\1\\AppData\\Local\\Temp\\ipykernel_19544\\1813645810.py:3: SettingWithCopyWarning: \n",
      "A value is trying to be set on a copy of a slice from a DataFrame\n",
      "\n",
      "See the caveats in the documentation: https://pandas.pydata.org/pandas-docs/stable/user_guide/indexing.html#returning-a-view-versus-a-copy\n",
      "  temp_df.sort_values(by='ФИО',inplace=True)\n"
     ]
    }
   ],
   "source": [
    "for name in unit_lst:\n",
    "    temp_df = merge_df[merge_df['Формирующее подр.']== name]\n",
    "    temp_df.sort_values(by='ФИО',inplace=True)\n",
    "    dct_unit[name] = temp_df\n",
    "    \n",
    "    "
   ]
  },
  {
   "cell_type": "code",
   "execution_count": 300,
   "id": "94046e8a",
   "metadata": {},
   "outputs": [],
   "source": [
    "t = time.localtime()\n",
    "current_time = time.strftime('%H_%M_%S', t)"
   ]
  },
  {
   "cell_type": "code",
   "execution_count": 301,
   "id": "94ef2af1",
   "metadata": {},
   "outputs": [
    {
     "data": {
      "text/plain": [
       "<Worksheet \"ХФ\">"
      ]
     },
     "execution_count": 301,
     "metadata": {},
     "output_type": "execute_result"
    }
   ],
   "source": [
    "wb = openpyxl.Workbook()\n",
    "# Переименовываем лист\n",
    "sheet = wb['Sheet']\n",
    "sheet.title = 'ЖД'\n",
    "wb.create_sheet('МО',index=1)\n",
    "wb.create_sheet('ЭО',index=2)\n",
    "wb.create_sheet('ХФ',index=3)"
   ]
  },
  {
   "cell_type": "code",
   "execution_count": 302,
   "id": "ad67e934",
   "metadata": {},
   "outputs": [],
   "source": [
    "for name,df in dct_unit.items():    \n",
    "    for r in dataframe_to_rows(df,index =False,header=True):\n",
    "        if len(r) != 1:\n",
    "            wb[name].append(r)"
   ]
  },
  {
   "cell_type": "code",
   "execution_count": 303,
   "id": "d8050e59",
   "metadata": {},
   "outputs": [],
   "source": [
    "for name in unit_lst:\n",
    "    wb[name].column_dimensions['A'].width =40\n",
    "    wb[name].column_dimensions['B'].width =10\n",
    "    wb[name].column_dimensions['C'].width =20\n",
    "    wb[name].column_dimensions['D'].width =90\n"
   ]
  },
  {
   "cell_type": "code",
   "execution_count": 304,
   "id": "63c07623",
   "metadata": {},
   "outputs": [],
   "source": [
    "# Сохраняем итоговый файл\n",
    "wb.save(f'data/Список на заселение со статусами от {current_time}.xlsx')"
   ]
  },
  {
   "cell_type": "code",
   "execution_count": 305,
   "id": "f94d2742",
   "metadata": {},
   "outputs": [],
   "source": [
    "#pers_df = pers_df[['ФИО','Контактный телефон','Мобильный телефон','Адрес регистрации']] # получаем маленький датафрейм"
   ]
  },
  {
   "cell_type": "code",
   "execution_count": null,
   "id": "deedea01",
   "metadata": {},
   "outputs": [],
   "source": []
  },
  {
   "cell_type": "code",
   "execution_count": null,
   "id": "37aa4a42",
   "metadata": {},
   "outputs": [],
   "source": []
  },
  {
   "cell_type": "code",
   "execution_count": null,
   "id": "05aed2ed",
   "metadata": {},
   "outputs": [],
   "source": []
  },
  {
   "cell_type": "code",
   "execution_count": null,
   "id": "d2094a77",
   "metadata": {},
   "outputs": [],
   "source": []
  },
  {
   "cell_type": "code",
   "execution_count": null,
   "id": "fa304e6e",
   "metadata": {},
   "outputs": [],
   "source": []
  },
  {
   "cell_type": "code",
   "execution_count": null,
   "id": "947f1fae",
   "metadata": {},
   "outputs": [],
   "source": []
  },
  {
   "cell_type": "code",
   "execution_count": null,
   "id": "9e6657a3",
   "metadata": {},
   "outputs": [],
   "source": []
  }
 ],
 "metadata": {
  "kernelspec": {
   "display_name": "Python 3 (ipykernel)",
   "language": "python",
   "name": "python3"
  },
  "language_info": {
   "codemirror_mode": {
    "name": "ipython",
    "version": 3
   },
   "file_extension": ".py",
   "mimetype": "text/x-python",
   "name": "python",
   "nbconvert_exporter": "python",
   "pygments_lexer": "ipython3",
   "version": "3.9.13"
  }
 },
 "nbformat": 4,
 "nbformat_minor": 5
}
