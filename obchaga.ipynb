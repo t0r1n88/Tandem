{
 "cells": [
  {
   "cell_type": "code",
   "execution_count": 168,
   "id": "895be74c",
   "metadata": {},
   "outputs": [
    {
     "data": {
      "text/plain": [
       "'\\nСкрипт для составления списка общежитий\\n'"
      ]
     },
     "execution_count": 168,
     "metadata": {},
     "output_type": "execute_result"
    }
   ],
   "source": [
    "\"\"\"\n",
    "Скрипт для составления списка общежитий\n",
    "\"\"\""
   ]
  },
  {
   "cell_type": "code",
   "execution_count": 169,
   "id": "59071f86",
   "metadata": {},
   "outputs": [],
   "source": [
    "import pandas as pd\n",
    "import openpyxl\n",
    "import time\n",
    "from openpyxl.utils.dataframe import dataframe_to_rows"
   ]
  },
  {
   "cell_type": "code",
   "execution_count": 170,
   "id": "2daacc9e",
   "metadata": {},
   "outputs": [],
   "source": [
    "ab_df = pd.read_excel('data/Абитуриенты.xlsx',sheet_name='Абитуриенты',skiprows=8,dtype={'ИНН':str,'Серия УЛ':str,'Номер УЛ':str})\n",
    "#pers_df = pd.read_excel('data/Абитуриенты.xlsx',sheet_name='Персоны',skiprows=2,dtype={'ИНН':str,'Серия УЛ':str,'Номер УЛ':str})"
   ]
  },
  {
   "cell_type": "code",
   "execution_count": 171,
   "id": "7412ed9f",
   "metadata": {},
   "outputs": [
    {
     "data": {
      "text/html": [
       "<div>\n",
       "<style scoped>\n",
       "    .dataframe tbody tr th:only-of-type {\n",
       "        vertical-align: middle;\n",
       "    }\n",
       "\n",
       "    .dataframe tbody tr th {\n",
       "        vertical-align: top;\n",
       "    }\n",
       "\n",
       "    .dataframe thead th {\n",
       "        text-align: right;\n",
       "    }\n",
       "</style>\n",
       "<table border=\"1\" class=\"dataframe\">\n",
       "  <thead>\n",
       "    <tr style=\"text-align: right;\">\n",
       "      <th></th>\n",
       "      <th>№</th>\n",
       "      <th>ФИО</th>\n",
       "      <th>Пол</th>\n",
       "      <th>Дата рождения</th>\n",
       "      <th>Тип УЛ</th>\n",
       "      <th>Серия УЛ</th>\n",
       "      <th>Номер УЛ</th>\n",
       "      <th>Дата выдачи УЛ</th>\n",
       "      <th>Кем выдано УЛ</th>\n",
       "      <th>ИНН</th>\n",
       "      <th>...</th>\n",
       "      <th>Статус результатов ЕГЭ</th>\n",
       "      <th>Баллы за индивидуальные достижения</th>\n",
       "      <th>Сумма баллов за индивидуальные достижения</th>\n",
       "      <th>Баллы за индивидуальные достижения, учитываемые как преимущество</th>\n",
       "      <th>Сумма баллов за индивидуальные достижения, учитываемые как преимущество</th>\n",
       "      <th>Организация-заказчик</th>\n",
       "      <th>Целевая контрактная подготовка</th>\n",
       "      <th>Uid ЕПГУ</th>\n",
       "      <th>Договор заключен</th>\n",
       "      <th>Договор оплачен</th>\n",
       "    </tr>\n",
       "  </thead>\n",
       "  <tbody>\n",
       "    <tr>\n",
       "      <th>0</th>\n",
       "      <td>1</td>\n",
       "      <td>Абросова Анастасия Витальевна</td>\n",
       "      <td>Ж</td>\n",
       "      <td>08.07.2007</td>\n",
       "      <td>Паспорт РФ</td>\n",
       "      <td>8112</td>\n",
       "      <td>927500</td>\n",
       "      <td>04.08.2021</td>\n",
       "      <td>МВД ПО РЕСПУБЛИКЕ БУРЯТИЯ</td>\n",
       "      <td>030620313718</td>\n",
       "      <td>...</td>\n",
       "      <td>NaN</td>\n",
       "      <td>NaN</td>\n",
       "      <td>0.0</td>\n",
       "      <td>NaN</td>\n",
       "      <td>0.0</td>\n",
       "      <td>NaN</td>\n",
       "      <td>нет</td>\n",
       "      <td>NaN</td>\n",
       "      <td>нет</td>\n",
       "      <td>нет</td>\n",
       "    </tr>\n",
       "    <tr>\n",
       "      <th>1</th>\n",
       "      <td>2</td>\n",
       "      <td>Абсаматов Вадим Чимид-Цыренович</td>\n",
       "      <td>М</td>\n",
       "      <td>14.12.2007</td>\n",
       "      <td>Паспорт РФ</td>\n",
       "      <td>8120</td>\n",
       "      <td>900692</td>\n",
       "      <td>23.12.2021</td>\n",
       "      <td>МВД ПО РЕСП. БУРЯТИЯ</td>\n",
       "      <td>NaN</td>\n",
       "      <td>...</td>\n",
       "      <td>NaN</td>\n",
       "      <td>NaN</td>\n",
       "      <td>0.0</td>\n",
       "      <td>NaN</td>\n",
       "      <td>0.0</td>\n",
       "      <td>NaN</td>\n",
       "      <td>нет</td>\n",
       "      <td>NaN</td>\n",
       "      <td>нет</td>\n",
       "      <td>нет</td>\n",
       "    </tr>\n",
       "    <tr>\n",
       "      <th>2</th>\n",
       "      <td>3</td>\n",
       "      <td>Авдеев Сергей Александрович</td>\n",
       "      <td>М</td>\n",
       "      <td>09.10.2006</td>\n",
       "      <td>Паспорт РФ</td>\n",
       "      <td>8120</td>\n",
       "      <td>896798</td>\n",
       "      <td>23.12.2020</td>\n",
       "      <td>МВД по РЕСПУБЛИКЕ БУРЯТИЯ</td>\n",
       "      <td>NaN</td>\n",
       "      <td>...</td>\n",
       "      <td>NaN</td>\n",
       "      <td>NaN</td>\n",
       "      <td>0.0</td>\n",
       "      <td>NaN</td>\n",
       "      <td>0.0</td>\n",
       "      <td>NaN</td>\n",
       "      <td>нет</td>\n",
       "      <td>NaN</td>\n",
       "      <td>нет</td>\n",
       "      <td>нет</td>\n",
       "    </tr>\n",
       "    <tr>\n",
       "      <th>3</th>\n",
       "      <td>4</td>\n",
       "      <td>Авдеев Сергей Александрович</td>\n",
       "      <td>М</td>\n",
       "      <td>09.10.2006</td>\n",
       "      <td>Паспорт РФ</td>\n",
       "      <td>8120</td>\n",
       "      <td>896798</td>\n",
       "      <td>23.12.2020</td>\n",
       "      <td>МВД по РЕСПУБЛИКЕ БУРЯТИЯ</td>\n",
       "      <td>NaN</td>\n",
       "      <td>...</td>\n",
       "      <td>NaN</td>\n",
       "      <td>NaN</td>\n",
       "      <td>0.0</td>\n",
       "      <td>NaN</td>\n",
       "      <td>0.0</td>\n",
       "      <td>NaN</td>\n",
       "      <td>нет</td>\n",
       "      <td>NaN</td>\n",
       "      <td>нет</td>\n",
       "      <td>нет</td>\n",
       "    </tr>\n",
       "    <tr>\n",
       "      <th>4</th>\n",
       "      <td>5</td>\n",
       "      <td>Аверина Вероника Евгеньевна</td>\n",
       "      <td>Ж</td>\n",
       "      <td>03.12.2007</td>\n",
       "      <td>Паспорт РФ</td>\n",
       "      <td>8121</td>\n",
       "      <td>951540</td>\n",
       "      <td>17.12.2021</td>\n",
       "      <td>МВД ПО РЕСП. БУРЯТИЯ</td>\n",
       "      <td>NaN</td>\n",
       "      <td>...</td>\n",
       "      <td>NaN</td>\n",
       "      <td>NaN</td>\n",
       "      <td>0.0</td>\n",
       "      <td>NaN</td>\n",
       "      <td>0.0</td>\n",
       "      <td>NaN</td>\n",
       "      <td>нет</td>\n",
       "      <td>NaN</td>\n",
       "      <td>нет</td>\n",
       "      <td>нет</td>\n",
       "    </tr>\n",
       "  </tbody>\n",
       "</table>\n",
       "<p>5 rows × 108 columns</p>\n",
       "</div>"
      ],
      "text/plain": [
       "   №                              ФИО Пол Дата рождения      Тип УЛ Серия УЛ  \\\n",
       "0  1    Абросова Анастасия Витальевна   Ж    08.07.2007  Паспорт РФ     8112   \n",
       "1  2  Абсаматов Вадим Чимид-Цыренович   М    14.12.2007  Паспорт РФ     8120   \n",
       "2  3      Авдеев Сергей Александрович   М    09.10.2006  Паспорт РФ     8120   \n",
       "3  4      Авдеев Сергей Александрович   М    09.10.2006  Паспорт РФ     8120   \n",
       "4  5      Аверина Вероника Евгеньевна   Ж    03.12.2007  Паспорт РФ     8121   \n",
       "\n",
       "  Номер УЛ Дата выдачи УЛ              Кем выдано УЛ           ИНН  ...  \\\n",
       "0   927500     04.08.2021  МВД ПО РЕСПУБЛИКЕ БУРЯТИЯ  030620313718  ...   \n",
       "1   900692     23.12.2021       МВД ПО РЕСП. БУРЯТИЯ           NaN  ...   \n",
       "2   896798     23.12.2020  МВД по РЕСПУБЛИКЕ БУРЯТИЯ           NaN  ...   \n",
       "3   896798     23.12.2020  МВД по РЕСПУБЛИКЕ БУРЯТИЯ           NaN  ...   \n",
       "4   951540     17.12.2021       МВД ПО РЕСП. БУРЯТИЯ           NaN  ...   \n",
       "\n",
       "  Статус результатов ЕГЭ Баллы за индивидуальные достижения  \\\n",
       "0                    NaN                                NaN   \n",
       "1                    NaN                                NaN   \n",
       "2                    NaN                                NaN   \n",
       "3                    NaN                                NaN   \n",
       "4                    NaN                                NaN   \n",
       "\n",
       "  Сумма баллов за индивидуальные достижения  \\\n",
       "0                                       0.0   \n",
       "1                                       0.0   \n",
       "2                                       0.0   \n",
       "3                                       0.0   \n",
       "4                                       0.0   \n",
       "\n",
       "   Баллы за индивидуальные достижения, учитываемые как преимущество  \\\n",
       "0                                                NaN                  \n",
       "1                                                NaN                  \n",
       "2                                                NaN                  \n",
       "3                                                NaN                  \n",
       "4                                                NaN                  \n",
       "\n",
       "  Сумма баллов за индивидуальные достижения, учитываемые как преимущество  \\\n",
       "0                                                0.0                        \n",
       "1                                                0.0                        \n",
       "2                                                0.0                        \n",
       "3                                                0.0                        \n",
       "4                                                0.0                        \n",
       "\n",
       "   Организация-заказчик Целевая контрактная подготовка  Uid ЕПГУ  \\\n",
       "0                   NaN                            нет       NaN   \n",
       "1                   NaN                            нет       NaN   \n",
       "2                   NaN                            нет       NaN   \n",
       "3                   NaN                            нет       NaN   \n",
       "4                   NaN                            нет       NaN   \n",
       "\n",
       "  Договор заключен  Договор оплачен  \n",
       "0              нет              нет  \n",
       "1              нет              нет  \n",
       "2              нет              нет  \n",
       "3              нет              нет  \n",
       "4              нет              нет  \n",
       "\n",
       "[5 rows x 108 columns]"
      ]
     },
     "execution_count": 171,
     "metadata": {},
     "output_type": "execute_result"
    }
   ],
   "source": [
    "ab_df.head()"
   ]
  },
  {
   "cell_type": "code",
   "execution_count": 172,
   "id": "425fb005",
   "metadata": {},
   "outputs": [],
   "source": [
    "ab_df = ab_df[ab_df['Состояние выбран. конкурса'] == 'Зачислен'] # оставялем только зачисленных\n"
   ]
  },
  {
   "cell_type": "code",
   "execution_count": 173,
   "id": "115b214b",
   "metadata": {},
   "outputs": [],
   "source": [
    "replace_dct = {'Отделение железнодорожного транспорта':'ЖД','Отделение металлообработки':'МО',\n",
    "               'Отделение энергоснабжения':'ЭО','Хоринский филиал':'ХФ',}"
   ]
  },
  {
   "cell_type": "code",
   "execution_count": 174,
   "id": "1f84fda8",
   "metadata": {},
   "outputs": [],
   "source": [
    "ab_df['Формирующее подр.'] = ab_df['Формирующее подр.'].replace(replace_dct)"
   ]
  },
  {
   "cell_type": "code",
   "execution_count": 175,
   "id": "a9a39093",
   "metadata": {},
   "outputs": [],
   "source": [
    "unit_lst = ab_df['Формирующее подр.'].unique()"
   ]
  },
  {
   "cell_type": "code",
   "execution_count": 176,
   "id": "89ed4891",
   "metadata": {},
   "outputs": [
    {
     "data": {
      "text/plain": [
       "array(['ЖД', 'МО', 'ЭО', 'ХФ'], dtype=object)"
      ]
     },
     "execution_count": 176,
     "metadata": {},
     "output_type": "execute_result"
    }
   ],
   "source": [
    "unit_lst"
   ]
  },
  {
   "cell_type": "code",
   "execution_count": 177,
   "id": "5e5b9807",
   "metadata": {},
   "outputs": [],
   "source": [
    "dct_unit = {key:None for key in unit_lst}"
   ]
  },
  {
   "cell_type": "code",
   "execution_count": 178,
   "id": "2efab80d",
   "metadata": {},
   "outputs": [
    {
     "data": {
      "text/plain": [
       "{'ЖД': None, 'МО': None, 'ЭО': None, 'ХФ': None}"
      ]
     },
     "execution_count": 178,
     "metadata": {},
     "output_type": "execute_result"
    }
   ],
   "source": [
    "dct_unit"
   ]
  },
  {
   "cell_type": "code",
   "execution_count": 179,
   "id": "d34bbca7",
   "metadata": {},
   "outputs": [
    {
     "data": {
      "text/plain": [
       "(496, 108)"
      ]
     },
     "execution_count": 179,
     "metadata": {},
     "output_type": "execute_result"
    }
   ],
   "source": [
    "ab_df.shape"
   ]
  },
  {
   "cell_type": "code",
   "execution_count": 180,
   "id": "96757420",
   "metadata": {},
   "outputs": [],
   "source": [
    "ab_df = ab_df[ab_df['Нуждается в общежитии']=='да']"
   ]
  },
  {
   "cell_type": "code",
   "execution_count": 181,
   "id": "ce279ce2",
   "metadata": {},
   "outputs": [
    {
     "data": {
      "text/plain": [
       "(219, 108)"
      ]
     },
     "execution_count": 181,
     "metadata": {},
     "output_type": "execute_result"
    }
   ],
   "source": [
    "ab_df.shape"
   ]
  },
  {
   "cell_type": "code",
   "execution_count": 182,
   "id": "e46c3234",
   "metadata": {},
   "outputs": [],
   "source": [
    "ab_df = ab_df[['ФИО','Контактный телефон','Мобильный телефон','Адрес регистрации','Формирующее подр.']]"
   ]
  },
  {
   "cell_type": "code",
   "execution_count": null,
   "id": "63c119bc",
   "metadata": {},
   "outputs": [],
   "source": []
  },
  {
   "cell_type": "code",
   "execution_count": null,
   "id": "fd300575",
   "metadata": {},
   "outputs": [],
   "source": []
  },
  {
   "cell_type": "code",
   "execution_count": 183,
   "id": "befb0575",
   "metadata": {},
   "outputs": [
    {
     "name": "stderr",
     "output_type": "stream",
     "text": [
      "C:\\Users\\1\\AppData\\Local\\Temp\\ipykernel_19544\\3465281252.py:3: SettingWithCopyWarning: \n",
      "A value is trying to be set on a copy of a slice from a DataFrame\n",
      "\n",
      "See the caveats in the documentation: https://pandas.pydata.org/pandas-docs/stable/user_guide/indexing.html#returning-a-view-versus-a-copy\n",
      "  temp_df.sort_values(by='ФИО',inplace=True)\n"
     ]
    }
   ],
   "source": [
    "for name in unit_lst:\n",
    "    temp_df = ab_df[ab_df['Формирующее подр.']== name]\n",
    "    temp_df.sort_values(by='ФИО',inplace=True)\n",
    "    dct_unit[name] = temp_df\n",
    "    \n",
    "    "
   ]
  },
  {
   "cell_type": "code",
   "execution_count": 184,
   "id": "3183d0dd",
   "metadata": {},
   "outputs": [],
   "source": [
    "t = time.localtime()\n",
    "current_time = time.strftime('%H_%M_%S', t)"
   ]
  },
  {
   "cell_type": "code",
   "execution_count": 185,
   "id": "3a463365",
   "metadata": {},
   "outputs": [
    {
     "data": {
      "text/plain": [
       "<Worksheet \"ХФ\">"
      ]
     },
     "execution_count": 185,
     "metadata": {},
     "output_type": "execute_result"
    }
   ],
   "source": [
    "wb = openpyxl.Workbook()\n",
    "# Переименовываем лист\n",
    "sheet = wb['Sheet']\n",
    "sheet.title = 'ЖД'\n",
    "wb.create_sheet('МО',index=1)\n",
    "wb.create_sheet('ЭО',index=2)\n",
    "wb.create_sheet('ХФ',index=3)"
   ]
  },
  {
   "cell_type": "code",
   "execution_count": 186,
   "id": "db48d2d8",
   "metadata": {},
   "outputs": [
    {
     "data": {
      "text/plain": [
       "['ЖД', 'МО', 'ЭО', 'ХФ']"
      ]
     },
     "execution_count": 186,
     "metadata": {},
     "output_type": "execute_result"
    }
   ],
   "source": [
    "wb.sheetnames"
   ]
  },
  {
   "cell_type": "code",
   "execution_count": 187,
   "id": "5a160daf",
   "metadata": {},
   "outputs": [],
   "source": [
    "for name,df in dct_unit.items():    \n",
    "    for r in dataframe_to_rows(df,index =False,header=True):\n",
    "        if len(r) != 1:\n",
    "            wb[name].append(r)"
   ]
  },
  {
   "cell_type": "code",
   "execution_count": 188,
   "id": "7c1e3bfb",
   "metadata": {},
   "outputs": [],
   "source": [
    "for name in unit_lst:\n",
    "    wb[name].column_dimensions['A'].width =40\n",
    "    wb[name].column_dimensions['B'].width =10\n",
    "    wb[name].column_dimensions['C'].width =20\n",
    "    wb[name].column_dimensions['D'].width =90\n"
   ]
  },
  {
   "cell_type": "code",
   "execution_count": 189,
   "id": "85b8a577",
   "metadata": {},
   "outputs": [],
   "source": [
    "# Сохраняем итоговый файл\n",
    "wb.save(f'data/Список на заселение от {current_time}.xlsx')"
   ]
  },
  {
   "cell_type": "code",
   "execution_count": 190,
   "id": "a813e4f7",
   "metadata": {},
   "outputs": [],
   "source": [
    "#pers_df = pers_df[['ФИО','Контактный телефон','Мобильный телефон','Адрес регистрации']] # получаем маленький датафрейм"
   ]
  },
  {
   "cell_type": "code",
   "execution_count": null,
   "id": "2a20f9e4",
   "metadata": {},
   "outputs": [],
   "source": []
  },
  {
   "cell_type": "code",
   "execution_count": null,
   "id": "20204cb2",
   "metadata": {},
   "outputs": [],
   "source": []
  },
  {
   "cell_type": "code",
   "execution_count": null,
   "id": "735f51fa",
   "metadata": {},
   "outputs": [],
   "source": []
  },
  {
   "cell_type": "code",
   "execution_count": null,
   "id": "61276b08",
   "metadata": {},
   "outputs": [],
   "source": []
  },
  {
   "cell_type": "code",
   "execution_count": null,
   "id": "dd2cf099",
   "metadata": {},
   "outputs": [],
   "source": []
  },
  {
   "cell_type": "code",
   "execution_count": null,
   "id": "592ff685",
   "metadata": {},
   "outputs": [],
   "source": []
  },
  {
   "cell_type": "code",
   "execution_count": null,
   "id": "872a66bb",
   "metadata": {},
   "outputs": [],
   "source": []
  }
 ],
 "metadata": {
  "kernelspec": {
   "display_name": "Python 3 (ipykernel)",
   "language": "python",
   "name": "python3"
  },
  "language_info": {
   "codemirror_mode": {
    "name": "ipython",
    "version": 3
   },
   "file_extension": ".py",
   "mimetype": "text/x-python",
   "name": "python",
   "nbconvert_exporter": "python",
   "pygments_lexer": "ipython3",
   "version": "3.9.13"
  }
 },
 "nbformat": 4,
 "nbformat_minor": 5
}
