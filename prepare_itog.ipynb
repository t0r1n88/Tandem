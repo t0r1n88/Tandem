{
 "cells": [
  {
   "cell_type": "code",
   "execution_count": 11,
   "id": "2266d000",
   "metadata": {},
   "outputs": [],
   "source": [
    "import pandas as pd\n",
    "import openpyxl\n",
    "from openpyxl.utils.dataframe import dataframe_to_rows\n",
    "import time"
   ]
  },
  {
   "cell_type": "code",
   "execution_count": 12,
   "id": "41117545",
   "metadata": {},
   "outputs": [],
   "source": [
    "df = pd.read_excel('Список абитуриентов.xlsx',sheet_name='Абитуриенты',skiprows=9)"
   ]
  },
  {
   "cell_type": "code",
   "execution_count": 13,
   "id": "8f40a588",
   "metadata": {},
   "outputs": [
    {
     "data": {
      "text/html": [
       "<div>\n",
       "<style scoped>\n",
       "    .dataframe tbody tr th:only-of-type {\n",
       "        vertical-align: middle;\n",
       "    }\n",
       "\n",
       "    .dataframe tbody tr th {\n",
       "        vertical-align: top;\n",
       "    }\n",
       "\n",
       "    .dataframe thead th {\n",
       "        text-align: right;\n",
       "    }\n",
       "</style>\n",
       "<table border=\"1\" class=\"dataframe\">\n",
       "  <thead>\n",
       "    <tr style=\"text-align: right;\">\n",
       "      <th></th>\n",
       "      <th>№</th>\n",
       "      <th>ФИО</th>\n",
       "      <th>Пол</th>\n",
       "      <th>Дата рождения</th>\n",
       "      <th>Тип УЛ</th>\n",
       "      <th>Серия УЛ</th>\n",
       "      <th>Номер УЛ</th>\n",
       "      <th>Дата выдачи УЛ</th>\n",
       "      <th>Кем выдано УЛ</th>\n",
       "      <th>Срок действия УЛ</th>\n",
       "      <th>...</th>\n",
       "      <th>Статус результатов ЕГЭ</th>\n",
       "      <th>Баллы за индивидуальные достижения</th>\n",
       "      <th>Сумма баллов за индивидуальные достижения</th>\n",
       "      <th>Баллы за индивидуальные достижения, учитываемые как преимущество</th>\n",
       "      <th>Сумма баллов за индивидуальные достижения, учитываемые как преимущество</th>\n",
       "      <th>Организация-заказчик</th>\n",
       "      <th>Целевая контрактная подготовка</th>\n",
       "      <th>Uid ЕПГУ</th>\n",
       "      <th>Договор заключен</th>\n",
       "      <th>Договор оплачен</th>\n",
       "    </tr>\n",
       "  </thead>\n",
       "  <tbody>\n",
       "    <tr>\n",
       "      <th>0</th>\n",
       "      <td>1</td>\n",
       "      <td>Абралов Эрдэм Саянович</td>\n",
       "      <td>М</td>\n",
       "      <td>03.01.2006</td>\n",
       "      <td>Паспорт РФ</td>\n",
       "      <td>8119</td>\n",
       "      <td>855001</td>\n",
       "      <td>22.01.2020</td>\n",
       "      <td>МВД ПО РЕСПУБЛИКЕ БУРЯТИЯ</td>\n",
       "      <td>NaN</td>\n",
       "      <td>...</td>\n",
       "      <td>NaN</td>\n",
       "      <td>NaN</td>\n",
       "      <td>0.0</td>\n",
       "      <td>NaN</td>\n",
       "      <td>0.0</td>\n",
       "      <td>NaN</td>\n",
       "      <td>нет</td>\n",
       "      <td>NaN</td>\n",
       "      <td>нет</td>\n",
       "      <td>нет</td>\n",
       "    </tr>\n",
       "    <tr>\n",
       "      <th>1</th>\n",
       "      <td>2</td>\n",
       "      <td>Абрамов Павел Сергеевич</td>\n",
       "      <td>М</td>\n",
       "      <td>13.03.2006</td>\n",
       "      <td>Паспорт РФ</td>\n",
       "      <td>8119</td>\n",
       "      <td>865507</td>\n",
       "      <td>27.03.2020</td>\n",
       "      <td>МВД ПО РЕСПУБЛИКЕ БУРЯТИЯ</td>\n",
       "      <td>NaN</td>\n",
       "      <td>...</td>\n",
       "      <td>NaN</td>\n",
       "      <td>NaN</td>\n",
       "      <td>0.0</td>\n",
       "      <td>NaN</td>\n",
       "      <td>0.0</td>\n",
       "      <td>NaN</td>\n",
       "      <td>нет</td>\n",
       "      <td>NaN</td>\n",
       "      <td>нет</td>\n",
       "      <td>нет</td>\n",
       "    </tr>\n",
       "    <tr>\n",
       "      <th>2</th>\n",
       "      <td>3</td>\n",
       "      <td>Абрамович Александр Владимирович</td>\n",
       "      <td>М</td>\n",
       "      <td>24.09.2005</td>\n",
       "      <td>Паспорт РФ</td>\n",
       "      <td>8119</td>\n",
       "      <td>857441</td>\n",
       "      <td>18.02.2020</td>\n",
       "      <td>МВД ПО РЕСП. БУРЯТИЯ</td>\n",
       "      <td>NaN</td>\n",
       "      <td>...</td>\n",
       "      <td>NaN</td>\n",
       "      <td>NaN</td>\n",
       "      <td>0.0</td>\n",
       "      <td>NaN</td>\n",
       "      <td>0.0</td>\n",
       "      <td>NaN</td>\n",
       "      <td>нет</td>\n",
       "      <td>NaN</td>\n",
       "      <td>нет</td>\n",
       "      <td>нет</td>\n",
       "    </tr>\n",
       "    <tr>\n",
       "      <th>3</th>\n",
       "      <td>4</td>\n",
       "      <td>Авдеев Вадим Евгеньевич</td>\n",
       "      <td>М</td>\n",
       "      <td>05.03.2006</td>\n",
       "      <td>Паспорт РФ</td>\n",
       "      <td>8119</td>\n",
       "      <td>861200</td>\n",
       "      <td>25.03.2020</td>\n",
       "      <td>МВД ПО РЕСП. БУРЯТИЯ</td>\n",
       "      <td>NaN</td>\n",
       "      <td>...</td>\n",
       "      <td>NaN</td>\n",
       "      <td>NaN</td>\n",
       "      <td>0.0</td>\n",
       "      <td>NaN</td>\n",
       "      <td>0.0</td>\n",
       "      <td>NaN</td>\n",
       "      <td>нет</td>\n",
       "      <td>NaN</td>\n",
       "      <td>нет</td>\n",
       "      <td>нет</td>\n",
       "    </tr>\n",
       "    <tr>\n",
       "      <th>4</th>\n",
       "      <td>5</td>\n",
       "      <td>Агапитов Александр Александрович</td>\n",
       "      <td>М</td>\n",
       "      <td>02.01.2006</td>\n",
       "      <td>Паспорт РФ</td>\n",
       "      <td>8119</td>\n",
       "      <td>846298</td>\n",
       "      <td>14.01.2020</td>\n",
       "      <td>МВД ПО РЕСПУБЛИКЕ БУРЯТИЯ</td>\n",
       "      <td>NaN</td>\n",
       "      <td>...</td>\n",
       "      <td>NaN</td>\n",
       "      <td>NaN</td>\n",
       "      <td>0.0</td>\n",
       "      <td>NaN</td>\n",
       "      <td>0.0</td>\n",
       "      <td>NaN</td>\n",
       "      <td>нет</td>\n",
       "      <td>NaN</td>\n",
       "      <td>нет</td>\n",
       "      <td>нет</td>\n",
       "    </tr>\n",
       "  </tbody>\n",
       "</table>\n",
       "<p>5 rows × 106 columns</p>\n",
       "</div>"
      ],
      "text/plain": [
       "   №                               ФИО Пол Дата рождения      Тип УЛ Серия УЛ  \\\n",
       "0  1            Абралов Эрдэм Саянович   М    03.01.2006  Паспорт РФ     8119   \n",
       "1  2           Абрамов Павел Сергеевич   М    13.03.2006  Паспорт РФ     8119   \n",
       "2  3  Абрамович Александр Владимирович   М    24.09.2005  Паспорт РФ     8119   \n",
       "3  4           Авдеев Вадим Евгеньевич   М    05.03.2006  Паспорт РФ     8119   \n",
       "4  5  Агапитов Александр Александрович   М    02.01.2006  Паспорт РФ     8119   \n",
       "\n",
       "  Номер УЛ Дата выдачи УЛ              Кем выдано УЛ Срок действия УЛ  ...  \\\n",
       "0   855001     22.01.2020  МВД ПО РЕСПУБЛИКЕ БУРЯТИЯ              NaN  ...   \n",
       "1   865507     27.03.2020  МВД ПО РЕСПУБЛИКЕ БУРЯТИЯ              NaN  ...   \n",
       "2   857441     18.02.2020       МВД ПО РЕСП. БУРЯТИЯ              NaN  ...   \n",
       "3   861200     25.03.2020       МВД ПО РЕСП. БУРЯТИЯ              NaN  ...   \n",
       "4   846298     14.01.2020  МВД ПО РЕСПУБЛИКЕ БУРЯТИЯ              NaN  ...   \n",
       "\n",
       "  Статус результатов ЕГЭ Баллы за индивидуальные достижения  \\\n",
       "0                    NaN                                NaN   \n",
       "1                    NaN                                NaN   \n",
       "2                    NaN                                NaN   \n",
       "3                    NaN                                NaN   \n",
       "4                    NaN                                NaN   \n",
       "\n",
       "  Сумма баллов за индивидуальные достижения  \\\n",
       "0                                       0.0   \n",
       "1                                       0.0   \n",
       "2                                       0.0   \n",
       "3                                       0.0   \n",
       "4                                       0.0   \n",
       "\n",
       "  Баллы за индивидуальные достижения, учитываемые как преимущество  \\\n",
       "0                                                NaN                 \n",
       "1                                                NaN                 \n",
       "2                                                NaN                 \n",
       "3                                                NaN                 \n",
       "4                                                NaN                 \n",
       "\n",
       "  Сумма баллов за индивидуальные достижения, учитываемые как преимущество  \\\n",
       "0                                                0.0                        \n",
       "1                                                0.0                        \n",
       "2                                                0.0                        \n",
       "3                                                0.0                        \n",
       "4                                                0.0                        \n",
       "\n",
       "  Организация-заказчик Целевая контрактная подготовка Uid ЕПГУ  \\\n",
       "0                  NaN                            нет      NaN   \n",
       "1                  NaN                            нет      NaN   \n",
       "2                  NaN                            нет      NaN   \n",
       "3                  NaN                            нет      NaN   \n",
       "4                  NaN                            нет      NaN   \n",
       "\n",
       "  Договор заключен Договор оплачен  \n",
       "0              нет             нет  \n",
       "1              нет             нет  \n",
       "2              нет             нет  \n",
       "3              нет             нет  \n",
       "4              нет             нет  \n",
       "\n",
       "[5 rows x 106 columns]"
      ]
     },
     "execution_count": 13,
     "metadata": {},
     "output_type": "execute_result"
    }
   ],
   "source": [
    "df.head()"
   ]
  },
  {
   "cell_type": "code",
   "execution_count": 14,
   "id": "6166e096",
   "metadata": {},
   "outputs": [
    {
     "data": {
      "text/plain": [
       "(671, 106)"
      ]
     },
     "execution_count": 14,
     "metadata": {},
     "output_type": "execute_result"
    }
   ],
   "source": [
    "df.shape"
   ]
  },
  {
   "cell_type": "code",
   "execution_count": 15,
   "id": "1b593860",
   "metadata": {},
   "outputs": [],
   "source": [
    "# Удаляем лишние столбцы\n",
    "df.drop(columns=['Срок действия УЛ','Наличие фотографии','Льгота для поселения','Льготы','Спорт','Ученая степень','Ученое звание','Рабочий телефон','Домашний телефон','Иностранное гражданство','Приемная кампания'\n",
    "                 ,'Личный номер','Форма сдачи ВИ','Специальные условия для прохождения ВИ','Служба в армии','№ заявления','Дата подачи','Вид заявления','Пост. № 434','Вид возмещения затрат','Форма обучения','Вид приема',\n",
    "                 'Филиал','Набор ОП','Выбранные ОП','Целевой прием','Набор версий ОП для ЦП','Вид целевого приема','Организация ЦП',\n",
    "                 'Поступает на параллельное обучение','Особое право','Спец. квота','Сдан оригинал','Согласие на зачисление','Согласие с ЕПГУ','Дата согласия','Итоговое согласие','Экзам. группа',\n",
    "                 'Сумма баллов','Приоритет','Результаты вступ. испытаний','Примечание к направлению/специальности','Принял заявление','Примечание к заявлению','Заявление подано доверенным лицом','Способ подачи документов','Способ возврата документов',\n",
    "                 'Олимпиады','Результаты ЕГЭ','Ря','М','Ф','Х','Б','И','Г','Ая','Ня','Фя','О','Л','Ия','ИКТ','Кя','Статус результатов ЕГЭ','Баллы за индивидуальные достижения','Сумма баллов за индивидуальные достижения','Баллы за индивидуальные достижения, учитываемые как преимущество',\n",
    "                 'Сумма баллов за индивидуальные достижения, учитываемые как преимущество','Организация-заказчик','Целевая контрактная подготовка','Uid ЕПГУ','Договор заключен','Договор оплачен','№','Состояние выбран. конкурса'],inplace=True)"
   ]
  },
  {
   "cell_type": "code",
   "execution_count": 16,
   "id": "db1c118b",
   "metadata": {},
   "outputs": [
    {
     "data": {
      "text/plain": [
       "(671, 30)"
      ]
     },
     "execution_count": 16,
     "metadata": {},
     "output_type": "execute_result"
    }
   ],
   "source": [
    "df.shape"
   ]
  },
  {
   "cell_type": "code",
   "execution_count": 17,
   "id": "bda8b2a2",
   "metadata": {},
   "outputs": [],
   "source": [
    "# Убираем пустые\n",
    "df = df[df['ФИО'] !='...']"
   ]
  },
  {
   "cell_type": "code",
   "execution_count": 18,
   "id": "f98f8d91",
   "metadata": {},
   "outputs": [
    {
     "data": {
      "text/plain": [
       "(509, 30)"
      ]
     },
     "execution_count": 18,
     "metadata": {},
     "output_type": "execute_result"
    }
   ],
   "source": [
    "df.shape"
   ]
  },
  {
   "cell_type": "code",
   "execution_count": 19,
   "id": "88514284",
   "metadata": {},
   "outputs": [],
   "source": [
    "# Отбираем только зачисленных\n",
    "df = df[df['Общее состояние'] == 'Зачислен']"
   ]
  },
  {
   "cell_type": "code",
   "execution_count": 20,
   "id": "268f3e5a",
   "metadata": {},
   "outputs": [
    {
     "data": {
      "text/plain": [
       "(493, 30)"
      ]
     },
     "execution_count": 20,
     "metadata": {},
     "output_type": "execute_result"
    }
   ],
   "source": [
    "df.shape"
   ]
  },
  {
   "cell_type": "code",
   "execution_count": 21,
   "id": "c8c44b89",
   "metadata": {},
   "outputs": [
    {
     "data": {
      "text/plain": [
       "<Worksheet \"ЭО\">"
      ]
     },
     "execution_count": 21,
     "metadata": {},
     "output_type": "execute_result"
    }
   ],
   "source": [
    "# Создаем объект \n",
    "wb = openpyxl.Workbook()\n",
    "# Создаем листы\n",
    "wb.create_sheet(title='Общий список',index=0)\n",
    "wb.create_sheet(title='ЖД',index=1)\n",
    "wb.create_sheet(title='МО',index=2)\n",
    "wb.create_sheet(title='ЭО',index=3)"
   ]
  },
  {
   "cell_type": "code",
   "execution_count": 22,
   "id": "23768931",
   "metadata": {},
   "outputs": [],
   "source": [
    "# Отбираем колонки для общетия\n",
    "dor_df = df[['ФИО','Контактный телефон','Мобильный телефон','Место рождения','Адрес регистрации','Адрес фактический','Направление, специальность, профессия','Формирующее подр.','Нуждается в общежитии']]"
   ]
  },
  {
   "cell_type": "code",
   "execution_count": 23,
   "id": "4a00336f",
   "metadata": {},
   "outputs": [],
   "source": [
    "# Фильтруем датафреймы\n",
    "gd_df = dor_df[(dor_df['Формирующее подр.'] == 'Отделение железнодорожного транспорта') & (dor_df['Нуждается в общежитии'] =='да')]\n",
    "mo_df = dor_df[(dor_df['Формирующее подр.'] == 'Отделение металлообработки') & (dor_df['Нуждается в общежитии'] =='да')]\n",
    "eo_df = dor_df[(dor_df['Формирующее подр.'] == 'Отделение энергоснабжения') & (dor_df['Нуждается в общежитии'] =='да')]\n",
    "all_df = dor_df[dor_df['Нуждается в общежитии'] =='да']\n",
    "\n"
   ]
  },
  {
   "cell_type": "code",
   "execution_count": 24,
   "id": "d30b0d6c",
   "metadata": {},
   "outputs": [
    {
     "name": "stderr",
     "output_type": "stream",
     "text": [
      "C:\\Users\\1\\anaconda3\\lib\\site-packages\\pandas\\core\\frame.py:4906: SettingWithCopyWarning: \n",
      "A value is trying to be set on a copy of a slice from a DataFrame\n",
      "\n",
      "See the caveats in the documentation: https://pandas.pydata.org/pandas-docs/stable/user_guide/indexing.html#returning-a-view-versus-a-copy\n",
      "  return super().drop(\n"
     ]
    }
   ],
   "source": [
    "#Удаляем лишние колонки\n",
    "gd_df.drop(columns=['Формирующее подр.','Нуждается в общежитии'],inplace=True)\n",
    "mo_df.drop(columns=['Формирующее подр.','Нуждается в общежитии'],inplace=True)\n",
    "eo_df.drop(columns=['Формирующее подр.','Нуждается в общежитии'],inplace=True)\n",
    "all_df.drop(columns=['Формирующее подр.','Нуждается в общежитии'],inplace=True)\n",
    "\n",
    "\n"
   ]
  },
  {
   "cell_type": "code",
   "execution_count": 25,
   "id": "f7af6071",
   "metadata": {},
   "outputs": [],
   "source": [
    "# Записываем на листы\n",
    "for r in dataframe_to_rows(all_df, index=False, header=True):\n",
    "    if len(r) != 1:\n",
    "        wb['Общий список'].append(r)"
   ]
  },
  {
   "cell_type": "code",
   "execution_count": 26,
   "id": "9472d5a8",
   "metadata": {},
   "outputs": [],
   "source": [
    "wb['Общий список'].column_dimensions['A'].width = 40\n",
    "wb['Общий список'].column_dimensions['B'].width = 20\n",
    "wb['Общий список'].column_dimensions['C'].width = 20\n",
    "wb['Общий список'].column_dimensions['E'].width = 40\n"
   ]
  },
  {
   "cell_type": "code",
   "execution_count": 27,
   "id": "92b0e840",
   "metadata": {},
   "outputs": [],
   "source": [
    "for r in dataframe_to_rows(gd_df, index=False, header=True):\n",
    "    if len(r) != 1:\n",
    "        wb['ЖД'].append(r)"
   ]
  },
  {
   "cell_type": "code",
   "execution_count": 28,
   "id": "c0832606",
   "metadata": {},
   "outputs": [],
   "source": [
    "wb['ЖД'].column_dimensions['A'].width = 40\n",
    "wb['ЖД'].column_dimensions['B'].width = 20\n",
    "wb['ЖД'].column_dimensions['C'].width = 20\n",
    "wb['ЖД'].column_dimensions['E'].width = 40"
   ]
  },
  {
   "cell_type": "code",
   "execution_count": 29,
   "id": "3316c48c",
   "metadata": {},
   "outputs": [],
   "source": [
    "for r in dataframe_to_rows(mo_df, index=False, header=True):\n",
    "    if len(r) != 1:\n",
    "        wb['МО'].append(r)"
   ]
  },
  {
   "cell_type": "code",
   "execution_count": 30,
   "id": "5c91cee5",
   "metadata": {},
   "outputs": [],
   "source": [
    "wb['МО'].column_dimensions['A'].width = 40\n",
    "wb['МО'].column_dimensions['B'].width = 20\n",
    "wb['МО'].column_dimensions['C'].width = 20\n",
    "wb['МО'].column_dimensions['E'].width = 40"
   ]
  },
  {
   "cell_type": "code",
   "execution_count": 31,
   "id": "4734455f",
   "metadata": {},
   "outputs": [],
   "source": [
    "for r in dataframe_to_rows(eo_df, index=False, header=True):\n",
    "    if len(r) != 1:\n",
    "        wb['ЭО'].append(r)"
   ]
  },
  {
   "cell_type": "code",
   "execution_count": 32,
   "id": "243a9e68",
   "metadata": {},
   "outputs": [],
   "source": [
    "wb['ЭО'].column_dimensions['A'].width = 40\n",
    "wb['ЭО'].column_dimensions['B'].width = 20\n",
    "wb['ЭО'].column_dimensions['C'].width = 20\n",
    "wb['ЭО'].column_dimensions['E'].width = 40"
   ]
  },
  {
   "cell_type": "code",
   "execution_count": 33,
   "id": "65f979d9",
   "metadata": {},
   "outputs": [],
   "source": [
    "# Удаляем лист\n",
    "del wb['Sheet']"
   ]
  },
  {
   "cell_type": "code",
   "execution_count": 34,
   "id": "2501403f",
   "metadata": {},
   "outputs": [],
   "source": [
    " # Получаем текущее время для того чтобы использовать в названии\n",
    "t = time.localtime()\n",
    "current_time = time.strftime('%H_%M_%S', t)\n",
    "# Сохраняем итоговый файл\n",
    "wb.save(f'Список по общежитиям от  {current_time}.xlsx')"
   ]
  },
  {
   "cell_type": "code",
   "execution_count": null,
   "id": "86f798cd",
   "metadata": {},
   "outputs": [],
   "source": []
  },
  {
   "cell_type": "code",
   "execution_count": 35,
   "id": "17c7f070",
   "metadata": {},
   "outputs": [],
   "source": [
    "df.to_excel(f'Данные зачисленных от {current_time}.xlsx',index=False)"
   ]
  },
  {
   "cell_type": "code",
   "execution_count": null,
   "id": "92bd11d1",
   "metadata": {},
   "outputs": [],
   "source": []
  }
 ],
 "metadata": {
  "kernelspec": {
   "display_name": "Python 3 (ipykernel)",
   "language": "python",
   "name": "python3"
  },
  "language_info": {
   "codemirror_mode": {
    "name": "ipython",
    "version": 3
   },
   "file_extension": ".py",
   "mimetype": "text/x-python",
   "name": "python",
   "nbconvert_exporter": "python",
   "pygments_lexer": "ipython3",
   "version": "3.9.7"
  }
 },
 "nbformat": 4,
 "nbformat_minor": 5
}
