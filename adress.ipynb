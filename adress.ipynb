{
 "cells": [
  {
   "cell_type": "code",
   "execution_count": 50,
   "id": "5e7ac85b",
   "metadata": {},
   "outputs": [
    {
     "data": {
      "text/plain": [
       "'\\nскрипт для проверки вхождения адреса студента в определенный диапазон\\n'"
      ]
     },
     "execution_count": 50,
     "metadata": {},
     "output_type": "execute_result"
    }
   ],
   "source": [
    "\"\"\"\n",
    "скрипт для проверки вхождения адреса студента в определенный диапазон\n",
    "\"\"\""
   ]
  },
  {
   "cell_type": "code",
   "execution_count": 51,
   "id": "d25c156e",
   "metadata": {},
   "outputs": [],
   "source": [
    "import pandas as pd"
   ]
  },
  {
   "cell_type": "code",
   "execution_count": 52,
   "id": "ea1d6bfb",
   "metadata": {},
   "outputs": [],
   "source": [
    "street_df = pd.read_excel('data/улицы.xlsx')\n",
    "df = pd.read_excel('data/Студенты БРИТ 21_06_2023.xlsx',usecols=['Фамилия','Имя','Отчество','Дата рождения','Группа','Адрес регистрации'])"
   ]
  },
  {
   "cell_type": "code",
   "execution_count": 53,
   "id": "e29f063d",
   "metadata": {},
   "outputs": [
    {
     "data": {
      "text/html": [
       "<div>\n",
       "<style scoped>\n",
       "    .dataframe tbody tr th:only-of-type {\n",
       "        vertical-align: middle;\n",
       "    }\n",
       "\n",
       "    .dataframe tbody tr th {\n",
       "        vertical-align: top;\n",
       "    }\n",
       "\n",
       "    .dataframe thead th {\n",
       "        text-align: right;\n",
       "    }\n",
       "</style>\n",
       "<table border=\"1\" class=\"dataframe\">\n",
       "  <thead>\n",
       "    <tr style=\"text-align: right;\">\n",
       "      <th></th>\n",
       "      <th>Улица</th>\n",
       "    </tr>\n",
       "  </thead>\n",
       "  <tbody>\n",
       "    <tr>\n",
       "      <th>0</th>\n",
       "      <td>Блюхера</td>\n",
       "    </tr>\n",
       "    <tr>\n",
       "      <th>1</th>\n",
       "      <td>Грачевская</td>\n",
       "    </tr>\n",
       "    <tr>\n",
       "      <th>2</th>\n",
       "      <td>Джидинская</td>\n",
       "    </tr>\n",
       "    <tr>\n",
       "      <th>3</th>\n",
       "      <td>Житкевича</td>\n",
       "    </tr>\n",
       "    <tr>\n",
       "      <th>4</th>\n",
       "      <td>Заречная</td>\n",
       "    </tr>\n",
       "    <tr>\n",
       "      <th>...</th>\n",
       "      <td>...</td>\n",
       "    </tr>\n",
       "    <tr>\n",
       "      <th>322</th>\n",
       "      <td>Ботаника</td>\n",
       "    </tr>\n",
       "    <tr>\n",
       "      <th>323</th>\n",
       "      <td>Орбита</td>\n",
       "    </tr>\n",
       "    <tr>\n",
       "      <th>324</th>\n",
       "      <td>Субургаа</td>\n",
       "    </tr>\n",
       "    <tr>\n",
       "      <th>325</th>\n",
       "      <td>Урда-Улаа</td>\n",
       "    </tr>\n",
       "    <tr>\n",
       "      <th>326</th>\n",
       "      <td>Шамбала</td>\n",
       "    </tr>\n",
       "  </tbody>\n",
       "</table>\n",
       "<p>327 rows × 1 columns</p>\n",
       "</div>"
      ],
      "text/plain": [
       "          Улица\n",
       "0       Блюхера\n",
       "1    Грачевская\n",
       "2    Джидинская\n",
       "3     Житкевича\n",
       "4      Заречная\n",
       "..          ...\n",
       "322    Ботаника\n",
       "323      Орбита\n",
       "324    Субургаа\n",
       "325   Урда-Улаа\n",
       "326     Шамбала\n",
       "\n",
       "[327 rows x 1 columns]"
      ]
     },
     "execution_count": 53,
     "metadata": {},
     "output_type": "execute_result"
    }
   ],
   "source": [
    "street_df"
   ]
  },
  {
   "cell_type": "code",
   "execution_count": 54,
   "id": "7b29a7ba",
   "metadata": {},
   "outputs": [],
   "source": [
    "lst_street = street_df['Улица'].tolist() # превращаем в список"
   ]
  },
  {
   "cell_type": "code",
   "execution_count": 55,
   "id": "21ad4d81",
   "metadata": {},
   "outputs": [
    {
     "data": {
      "text/html": [
       "<div>\n",
       "<style scoped>\n",
       "    .dataframe tbody tr th:only-of-type {\n",
       "        vertical-align: middle;\n",
       "    }\n",
       "\n",
       "    .dataframe tbody tr th {\n",
       "        vertical-align: top;\n",
       "    }\n",
       "\n",
       "    .dataframe thead th {\n",
       "        text-align: right;\n",
       "    }\n",
       "</style>\n",
       "<table border=\"1\" class=\"dataframe\">\n",
       "  <thead>\n",
       "    <tr style=\"text-align: right;\">\n",
       "      <th></th>\n",
       "      <th>Фамилия</th>\n",
       "      <th>Имя</th>\n",
       "      <th>Отчество</th>\n",
       "      <th>Дата рождения</th>\n",
       "      <th>Группа</th>\n",
       "      <th>Адрес регистрации</th>\n",
       "    </tr>\n",
       "  </thead>\n",
       "  <tbody>\n",
       "    <tr>\n",
       "      <th>0</th>\n",
       "      <td>Ананьев</td>\n",
       "      <td>Вадим</td>\n",
       "      <td>Игоревич</td>\n",
       "      <td>03.09.2005</td>\n",
       "      <td>CВ-211</td>\n",
       "      <td>671950, Россия, г. Закаменск (03), Респ. Бурят...</td>\n",
       "    </tr>\n",
       "    <tr>\n",
       "      <th>1</th>\n",
       "      <td>Анкудинов</td>\n",
       "      <td>Виктор</td>\n",
       "      <td>Павлович</td>\n",
       "      <td>06.03.2004</td>\n",
       "      <td>CВ-211</td>\n",
       "      <td>г. Улан-Удэ, ул. Каландаришвили, д.17, кв.2/1</td>\n",
       "    </tr>\n",
       "    <tr>\n",
       "      <th>2</th>\n",
       "      <td>Бандеев</td>\n",
       "      <td>Эрдэни</td>\n",
       "      <td>Баирович</td>\n",
       "      <td>26.08.2005</td>\n",
       "      <td>CВ-211</td>\n",
       "      <td>671020, Россия, у. Охор-Шибирь (03), Респ. Бур...</td>\n",
       "    </tr>\n",
       "    <tr>\n",
       "      <th>3</th>\n",
       "      <td>Вампилов</td>\n",
       "      <td>Егор</td>\n",
       "      <td>Цыренович</td>\n",
       "      <td>16.06.2005</td>\n",
       "      <td>CВ-211</td>\n",
       "      <td>671928, Россия, у. Дэдэ-Ичетуй (03), Респ. Бур...</td>\n",
       "    </tr>\n",
       "    <tr>\n",
       "      <th>4</th>\n",
       "      <td>Гаськов</td>\n",
       "      <td>Кирилл</td>\n",
       "      <td>Романович</td>\n",
       "      <td>04.05.2005</td>\n",
       "      <td>CВ-211</td>\n",
       "      <td>670018, Россия, г. Улан-Удэ (03), Респ. Буряти...</td>\n",
       "    </tr>\n",
       "    <tr>\n",
       "      <th>...</th>\n",
       "      <td>...</td>\n",
       "      <td>...</td>\n",
       "      <td>...</td>\n",
       "      <td>...</td>\n",
       "      <td>...</td>\n",
       "      <td>...</td>\n",
       "    </tr>\n",
       "    <tr>\n",
       "      <th>1593</th>\n",
       "      <td>Анохин</td>\n",
       "      <td>Даниил</td>\n",
       "      <td>Евгеньевич</td>\n",
       "      <td>2006-02-12 00:00:00</td>\n",
       "      <td>ЧПУ-22</td>\n",
       "      <td>РБ, г. Улан-Удэ, ул. Яковлева, 13-62</td>\n",
       "    </tr>\n",
       "    <tr>\n",
       "      <th>1594</th>\n",
       "      <td>Балыков</td>\n",
       "      <td>Антон</td>\n",
       "      <td>Александрович</td>\n",
       "      <td>2006-05-02 00:00:00</td>\n",
       "      <td>ЧПУ-22</td>\n",
       "      <td>РБ, г. Улан-Удэ, ул. Яковлева, 13-62</td>\n",
       "    </tr>\n",
       "    <tr>\n",
       "      <th>1595</th>\n",
       "      <td>Дунаев</td>\n",
       "      <td>Сергей</td>\n",
       "      <td>Евгеньевич</td>\n",
       "      <td>NaN</td>\n",
       "      <td>СВ-201</td>\n",
       "      <td>NaN</td>\n",
       "    </tr>\n",
       "    <tr>\n",
       "      <th>1596</th>\n",
       "      <td>Бондарь</td>\n",
       "      <td>Александр</td>\n",
       "      <td>Сергеевич</td>\n",
       "      <td>2002-08-15 00:00:00</td>\n",
       "      <td>СПС-202</td>\n",
       "      <td>РБ, Мухоршибирский район, с. Подлопатки, ул. Г...</td>\n",
       "    </tr>\n",
       "    <tr>\n",
       "      <th>1597</th>\n",
       "      <td>Казаков</td>\n",
       "      <td>Павел</td>\n",
       "      <td>Николаевич</td>\n",
       "      <td>2001-11-19 00:00:00</td>\n",
       "      <td>ТУ-20</td>\n",
       "      <td>NaN</td>\n",
       "    </tr>\n",
       "  </tbody>\n",
       "</table>\n",
       "<p>1598 rows × 6 columns</p>\n",
       "</div>"
      ],
      "text/plain": [
       "        Фамилия         Имя        Отчество        Дата рождения   Группа  \\\n",
       "0       Ананьев       Вадим        Игоревич           03.09.2005   CВ-211   \n",
       "1     Анкудинов      Виктор        Павлович           06.03.2004   CВ-211   \n",
       "2       Бандеев      Эрдэни        Баирович           26.08.2005   CВ-211   \n",
       "3      Вампилов        Егор       Цыренович           16.06.2005   CВ-211   \n",
       "4       Гаськов      Кирилл       Романович           04.05.2005   CВ-211   \n",
       "...         ...         ...             ...                  ...      ...   \n",
       "1593    Анохин      Даниил       Евгеньевич  2006-02-12 00:00:00   ЧПУ-22   \n",
       "1594   Балыков        Антон  Александрович   2006-05-02 00:00:00   ЧПУ-22   \n",
       "1595    Дунаев      Сергей       Евгеньевич                  NaN   СВ-201   \n",
       "1596   Бондарь   Александр       Сергеевич   2002-08-15 00:00:00  СПС-202   \n",
       "1597   Казаков        Павел      Николаевич  2001-11-19 00:00:00    ТУ-20   \n",
       "\n",
       "                                      Адрес регистрации  \n",
       "0     671950, Россия, г. Закаменск (03), Респ. Бурят...  \n",
       "1         г. Улан-Удэ, ул. Каландаришвили, д.17, кв.2/1  \n",
       "2     671020, Россия, у. Охор-Шибирь (03), Респ. Бур...  \n",
       "3     671928, Россия, у. Дэдэ-Ичетуй (03), Респ. Бур...  \n",
       "4     670018, Россия, г. Улан-Удэ (03), Респ. Буряти...  \n",
       "...                                                 ...  \n",
       "1593               РБ, г. Улан-Удэ, ул. Яковлева, 13-62  \n",
       "1594               РБ, г. Улан-Удэ, ул. Яковлева, 13-62  \n",
       "1595                                                NaN  \n",
       "1596  РБ, Мухоршибирский район, с. Подлопатки, ул. Г...  \n",
       "1597                                                NaN  \n",
       "\n",
       "[1598 rows x 6 columns]"
      ]
     },
     "execution_count": 55,
     "metadata": {},
     "output_type": "execute_result"
    }
   ],
   "source": [
    "df"
   ]
  },
  {
   "cell_type": "code",
   "execution_count": 56,
   "id": "4caf289f",
   "metadata": {},
   "outputs": [],
   "source": [
    "df['Адрес регистрации'] =df['Адрес регистрации'].fillna('нет адреса')"
   ]
  },
  {
   "cell_type": "code",
   "execution_count": 57,
   "id": "b3d8600e",
   "metadata": {},
   "outputs": [],
   "source": [
    "#  отбираем тех у кого адресе есть Улан-Удэ\n",
    "df_city = df[df['Адрес регистрации'].str.contains('Улан-Удэ')]"
   ]
  },
  {
   "cell_type": "code",
   "execution_count": 58,
   "id": "5f68d98e",
   "metadata": {},
   "outputs": [
    {
     "data": {
      "text/plain": [
       "(527, 6)"
      ]
     },
     "execution_count": 58,
     "metadata": {},
     "output_type": "execute_result"
    }
   ],
   "source": [
    "df_city.shape"
   ]
  },
  {
   "cell_type": "code",
   "execution_count": 59,
   "id": "74c6123d",
   "metadata": {},
   "outputs": [
    {
     "name": "stderr",
     "output_type": "stream",
     "text": [
      "C:\\Users\\1\\AppData\\Local\\Temp\\ipykernel_4800\\1337999102.py:1: SettingWithCopyWarning: \n",
      "A value is trying to be set on a copy of a slice from a DataFrame.\n",
      "Try using .loc[row_indexer,col_indexer] = value instead\n",
      "\n",
      "See the caveats in the documentation: https://pandas.pydata.org/pandas-docs/stable/user_guide/indexing.html#returning-a-view-versus-a-copy\n",
      "  df_city['Фильтр'] = df_city['Адрес регистрации'].str.contains('|'.join(lst_street),case=False)\n"
     ]
    }
   ],
   "source": [
    "df_city['Фильтр'] = df_city['Адрес регистрации'].str.contains('|'.join(lst_street),case=False)"
   ]
  },
  {
   "cell_type": "code",
   "execution_count": 60,
   "id": "53594ab1",
   "metadata": {},
   "outputs": [],
   "source": [
    "df_city = df_city[df_city['Фильтр']]"
   ]
  },
  {
   "cell_type": "code",
   "execution_count": null,
   "id": "4af483fb",
   "metadata": {},
   "outputs": [],
   "source": []
  },
  {
   "cell_type": "code",
   "execution_count": 61,
   "id": "7468dba6",
   "metadata": {},
   "outputs": [
    {
     "data": {
      "text/plain": [
       "(156, 7)"
      ]
     },
     "execution_count": 61,
     "metadata": {},
     "output_type": "execute_result"
    }
   ],
   "source": [
    "df_city.shape"
   ]
  },
  {
   "cell_type": "code",
   "execution_count": 62,
   "id": "5f26a70b",
   "metadata": {},
   "outputs": [
    {
     "data": {
      "text/html": [
       "<div>\n",
       "<style scoped>\n",
       "    .dataframe tbody tr th:only-of-type {\n",
       "        vertical-align: middle;\n",
       "    }\n",
       "\n",
       "    .dataframe tbody tr th {\n",
       "        vertical-align: top;\n",
       "    }\n",
       "\n",
       "    .dataframe thead th {\n",
       "        text-align: right;\n",
       "    }\n",
       "</style>\n",
       "<table border=\"1\" class=\"dataframe\">\n",
       "  <thead>\n",
       "    <tr style=\"text-align: right;\">\n",
       "      <th></th>\n",
       "      <th>Фамилия</th>\n",
       "      <th>Имя</th>\n",
       "      <th>Отчество</th>\n",
       "      <th>Дата рождения</th>\n",
       "      <th>Группа</th>\n",
       "      <th>Адрес регистрации</th>\n",
       "      <th>Фильтр</th>\n",
       "    </tr>\n",
       "  </thead>\n",
       "  <tbody>\n",
       "    <tr>\n",
       "      <th>11</th>\n",
       "      <td>Массальский</td>\n",
       "      <td>Алексей</td>\n",
       "      <td>Владимирович</td>\n",
       "      <td>22.11.2005</td>\n",
       "      <td>CВ-211</td>\n",
       "      <td>670023, Россия, г. Улан-Удэ (03), Респ. Буряти...</td>\n",
       "      <td>True</td>\n",
       "    </tr>\n",
       "    <tr>\n",
       "      <th>19</th>\n",
       "      <td>Харакчинов</td>\n",
       "      <td>Жаргал</td>\n",
       "      <td>Юрьевич</td>\n",
       "      <td>07.07.2004</td>\n",
       "      <td>CВ-211</td>\n",
       "      <td>670004, Россия, г. Улан-Удэ (03), Респ. Буряти...</td>\n",
       "      <td>True</td>\n",
       "    </tr>\n",
       "    <tr>\n",
       "      <th>31</th>\n",
       "      <td>Зайцев</td>\n",
       "      <td>Алексей</td>\n",
       "      <td>Дмитриевич</td>\n",
       "      <td>07.05.2004</td>\n",
       "      <td>CВ-212</td>\n",
       "      <td>670009, Россия, г. Улан-Удэ (03), Респ. Буряти...</td>\n",
       "      <td>True</td>\n",
       "    </tr>\n",
       "    <tr>\n",
       "      <th>42</th>\n",
       "      <td>Тимошин</td>\n",
       "      <td>Николай</td>\n",
       "      <td>Витальевич</td>\n",
       "      <td>06.04.2005</td>\n",
       "      <td>CВ-212</td>\n",
       "      <td>670010, Россия, г. Улан-Удэ (03), Респ. Буряти...</td>\n",
       "      <td>True</td>\n",
       "    </tr>\n",
       "    <tr>\n",
       "      <th>45</th>\n",
       "      <td>Андреев</td>\n",
       "      <td>Андрей</td>\n",
       "      <td>Александрович</td>\n",
       "      <td>09.09.2005</td>\n",
       "      <td>АМ -211</td>\n",
       "      <td>670004, Россия, г. Улан-Удэ (03), Респ. Буряти...</td>\n",
       "      <td>True</td>\n",
       "    </tr>\n",
       "    <tr>\n",
       "      <th>...</th>\n",
       "      <td>...</td>\n",
       "      <td>...</td>\n",
       "      <td>...</td>\n",
       "      <td>...</td>\n",
       "      <td>...</td>\n",
       "      <td>...</td>\n",
       "      <td>...</td>\n",
       "    </tr>\n",
       "    <tr>\n",
       "      <th>1557</th>\n",
       "      <td>Усов</td>\n",
       "      <td>Андрей</td>\n",
       "      <td>Сергеевич</td>\n",
       "      <td>21.06.2004</td>\n",
       "      <td>ЭО-20</td>\n",
       "      <td>РБ, г. Улан-Удэ, ул. Брестская, 24-2</td>\n",
       "      <td>True</td>\n",
       "    </tr>\n",
       "    <tr>\n",
       "      <th>1566</th>\n",
       "      <td>Бушков</td>\n",
       "      <td>Даниил</td>\n",
       "      <td>Денисович</td>\n",
       "      <td>26.01.2006</td>\n",
       "      <td>ЭО-22</td>\n",
       "      <td>РБ, г. Улан-Удэ, ул. Левитана, 7-3</td>\n",
       "      <td>True</td>\n",
       "    </tr>\n",
       "    <tr>\n",
       "      <th>1581</th>\n",
       "      <td>Тубанов</td>\n",
       "      <td>Ринчин</td>\n",
       "      <td>Денисович</td>\n",
       "      <td>22.07.2006</td>\n",
       "      <td>ЭО-22</td>\n",
       "      <td>670018, Россия, с. Поселье (03), Респ. Бурятия...</td>\n",
       "      <td>True</td>\n",
       "    </tr>\n",
       "    <tr>\n",
       "      <th>1582</th>\n",
       "      <td>Филиппов</td>\n",
       "      <td>Дмитрий</td>\n",
       "      <td>Павлович</td>\n",
       "      <td>24.04.2006</td>\n",
       "      <td>ЭО-22</td>\n",
       "      <td>670004, Россия, г. Улан-Удэ (03), Респ. Буряти...</td>\n",
       "      <td>True</td>\n",
       "    </tr>\n",
       "    <tr>\n",
       "      <th>1585</th>\n",
       "      <td>Кушнарёв</td>\n",
       "      <td>Денис</td>\n",
       "      <td>Павлович</td>\n",
       "      <td>2006-08-11 00:00:00</td>\n",
       "      <td>АМ-221</td>\n",
       "      <td>РБ, г. Улан-Удэ, ул. Буйко, 27-40</td>\n",
       "      <td>True</td>\n",
       "    </tr>\n",
       "  </tbody>\n",
       "</table>\n",
       "<p>156 rows × 7 columns</p>\n",
       "</div>"
      ],
      "text/plain": [
       "          Фамилия      Имя       Отчество        Дата рождения   Группа  \\\n",
       "11    Массальский  Алексей   Владимирович           22.11.2005   CВ-211   \n",
       "19     Харакчинов   Жаргал        Юрьевич           07.07.2004   CВ-211   \n",
       "31         Зайцев  Алексей     Дмитриевич           07.05.2004   CВ-212   \n",
       "42        Тимошин  Николай     Витальевич           06.04.2005   CВ-212   \n",
       "45        Андреев   Андрей  Александрович           09.09.2005  АМ -211   \n",
       "...           ...      ...            ...                  ...      ...   \n",
       "1557         Усов   Андрей      Сергеевич           21.06.2004    ЭО-20   \n",
       "1566       Бушков   Даниил      Денисович           26.01.2006    ЭО-22   \n",
       "1581      Тубанов   Ринчин      Денисович           22.07.2006    ЭО-22   \n",
       "1582     Филиппов  Дмитрий       Павлович           24.04.2006    ЭО-22   \n",
       "1585    Кушнарёв    Денис       Павлович   2006-08-11 00:00:00   АМ-221   \n",
       "\n",
       "                                      Адрес регистрации  Фильтр  \n",
       "11    670023, Россия, г. Улан-Удэ (03), Респ. Буряти...    True  \n",
       "19    670004, Россия, г. Улан-Удэ (03), Респ. Буряти...    True  \n",
       "31    670009, Россия, г. Улан-Удэ (03), Респ. Буряти...    True  \n",
       "42    670010, Россия, г. Улан-Удэ (03), Респ. Буряти...    True  \n",
       "45    670004, Россия, г. Улан-Удэ (03), Респ. Буряти...    True  \n",
       "...                                                 ...     ...  \n",
       "1557               РБ, г. Улан-Удэ, ул. Брестская, 24-2    True  \n",
       "1566                 РБ, г. Улан-Удэ, ул. Левитана, 7-3    True  \n",
       "1581  670018, Россия, с. Поселье (03), Респ. Бурятия...    True  \n",
       "1582  670004, Россия, г. Улан-Удэ (03), Респ. Буряти...    True  \n",
       "1585                  РБ, г. Улан-Удэ, ул. Буйко, 27-40    True  \n",
       "\n",
       "[156 rows x 7 columns]"
      ]
     },
     "execution_count": 62,
     "metadata": {},
     "output_type": "execute_result"
    }
   ],
   "source": [
    "df_city"
   ]
  },
  {
   "cell_type": "code",
   "execution_count": 63,
   "id": "ef645456",
   "metadata": {},
   "outputs": [],
   "source": [
    "df_city.drop(columns='Фильтр',inplace=True)"
   ]
  },
  {
   "cell_type": "code",
   "execution_count": 64,
   "id": "7d1851fb",
   "metadata": {},
   "outputs": [],
   "source": [
    "df_city.to_excel('Итоговый список.xlsx',index=False)"
   ]
  },
  {
   "cell_type": "code",
   "execution_count": null,
   "id": "1863ab69",
   "metadata": {},
   "outputs": [],
   "source": []
  },
  {
   "cell_type": "code",
   "execution_count": null,
   "id": "ea13786e",
   "metadata": {},
   "outputs": [],
   "source": []
  }
 ],
 "metadata": {
  "kernelspec": {
   "display_name": "Python 3 (ipykernel)",
   "language": "python",
   "name": "python3"
  },
  "language_info": {
   "codemirror_mode": {
    "name": "ipython",
    "version": 3
   },
   "file_extension": ".py",
   "mimetype": "text/x-python",
   "name": "python",
   "nbconvert_exporter": "python",
   "pygments_lexer": "ipython3",
   "version": "3.9.13"
  }
 },
 "nbformat": 4,
 "nbformat_minor": 5
}
