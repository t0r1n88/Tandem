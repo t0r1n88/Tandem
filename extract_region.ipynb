{
 "cells": [
  {
   "cell_type": "code",
   "execution_count": null,
   "id": "4c36ae6f",
   "metadata": {},
   "outputs": [],
   "source": [
    "\"\"\"\n",
    "Выделение региона и района из данных абитуриентов\n",
    "\"\"\""
   ]
  },
  {
   "cell_type": "code",
   "execution_count": 11,
   "id": "0212f0dc",
   "metadata": {},
   "outputs": [],
   "source": [
    "import pandas as pd\n",
    "import openpyxl\n",
    "import time\n",
    "from openpyxl.utils.dataframe import dataframe_to_rows\n",
    "import re\n",
    "\n"
   ]
  },
  {
   "cell_type": "code",
   "execution_count": 6,
   "id": "b260912b",
   "metadata": {},
   "outputs": [],
   "source": [
    "ab_df = pd.read_excel('data/Абитуриенты.xlsx',sheet_name='Абитуриенты',skiprows=8,usecols=['ФИО','Адрес регистрации','Состояние выбран. конкурса'])"
   ]
  },
  {
   "cell_type": "code",
   "execution_count": 7,
   "id": "c95bba35",
   "metadata": {},
   "outputs": [],
   "source": [
    "ab_df = ab_df[ab_df['Состояние выбран. конкурса'] == 'Зачислен'] # оставялем только зачисленных"
   ]
  },
  {
   "cell_type": "code",
   "execution_count": 8,
   "id": "c7f45922",
   "metadata": {},
   "outputs": [
    {
     "data": {
      "text/plain": [
       "(495, 3)"
      ]
     },
     "execution_count": 8,
     "metadata": {},
     "output_type": "execute_result"
    }
   ],
   "source": [
    "ab_df.shape"
   ]
  },
  {
   "cell_type": "code",
   "execution_count": 9,
   "id": "e1f3d6b5",
   "metadata": {},
   "outputs": [],
   "source": [
    "ab_df.drop(columns='Состояние выбран. конкурса',inplace=True)"
   ]
  },
  {
   "cell_type": "code",
   "execution_count": 10,
   "id": "f426545e",
   "metadata": {},
   "outputs": [
    {
     "data": {
      "text/html": [
       "<div>\n",
       "<style scoped>\n",
       "    .dataframe tbody tr th:only-of-type {\n",
       "        vertical-align: middle;\n",
       "    }\n",
       "\n",
       "    .dataframe tbody tr th {\n",
       "        vertical-align: top;\n",
       "    }\n",
       "\n",
       "    .dataframe thead th {\n",
       "        text-align: right;\n",
       "    }\n",
       "</style>\n",
       "<table border=\"1\" class=\"dataframe\">\n",
       "  <thead>\n",
       "    <tr style=\"text-align: right;\">\n",
       "      <th></th>\n",
       "      <th>ФИО</th>\n",
       "      <th>Адрес регистрации</th>\n",
       "    </tr>\n",
       "  </thead>\n",
       "  <tbody>\n",
       "    <tr>\n",
       "      <th>1</th>\n",
       "      <td>Абсаматов Вадим Чимид-Цыренович</td>\n",
       "      <td>671710, Россия, пгт. Нижнеангарск (03), Респ. ...</td>\n",
       "    </tr>\n",
       "    <tr>\n",
       "      <th>6</th>\n",
       "      <td>Авсеевич Радмила Станиславовна</td>\n",
       "      <td>671178, Россия, с. Средний Убукун (03), Респ. ...</td>\n",
       "    </tr>\n",
       "    <tr>\n",
       "      <th>9</th>\n",
       "      <td>Агафонов Семен Владимирович</td>\n",
       "      <td>670050, Россия, г. Улан-Удэ (03), Респ. Буряти...</td>\n",
       "    </tr>\n",
       "    <tr>\n",
       "      <th>10</th>\n",
       "      <td>Агеев Роман Алексеевич</td>\n",
       "      <td>671404, Россия, п. Майла (03), Респ. Бурятия, ...</td>\n",
       "    </tr>\n",
       "    <tr>\n",
       "      <th>11</th>\n",
       "      <td>Айхлер Павел Владимирович</td>\n",
       "      <td>671820, Россия, пгт. Наушки (03), Респ. Буряти...</td>\n",
       "    </tr>\n",
       "  </tbody>\n",
       "</table>\n",
       "</div>"
      ],
      "text/plain": [
       "                                ФИО  \\\n",
       "1   Абсаматов Вадим Чимид-Цыренович   \n",
       "6    Авсеевич Радмила Станиславовна   \n",
       "9       Агафонов Семен Владимирович   \n",
       "10           Агеев Роман Алексеевич   \n",
       "11        Айхлер Павел Владимирович   \n",
       "\n",
       "                                    Адрес регистрации  \n",
       "1   671710, Россия, пгт. Нижнеангарск (03), Респ. ...  \n",
       "6   671178, Россия, с. Средний Убукун (03), Респ. ...  \n",
       "9   670050, Россия, г. Улан-Удэ (03), Респ. Буряти...  \n",
       "10  671404, Россия, п. Майла (03), Респ. Бурятия, ...  \n",
       "11  671820, Россия, пгт. Наушки (03), Респ. Буряти...  "
      ]
     },
     "execution_count": 10,
     "metadata": {},
     "output_type": "execute_result"
    }
   ],
   "source": [
    "ab_df.head()"
   ]
  },
  {
   "cell_type": "code",
   "execution_count": 19,
   "id": "864aa253",
   "metadata": {},
   "outputs": [],
   "source": [
    "ab_df['Регион'] = ab_df['Адрес регистрации'].apply(lambda x:re.search(r'\\(\\d{2}\\),(.+?,)',x).group(1)) # регион"
   ]
  },
  {
   "cell_type": "code",
   "execution_count": 20,
   "id": "b798120f",
   "metadata": {},
   "outputs": [
    {
     "data": {
      "text/html": [
       "<div>\n",
       "<style scoped>\n",
       "    .dataframe tbody tr th:only-of-type {\n",
       "        vertical-align: middle;\n",
       "    }\n",
       "\n",
       "    .dataframe tbody tr th {\n",
       "        vertical-align: top;\n",
       "    }\n",
       "\n",
       "    .dataframe thead th {\n",
       "        text-align: right;\n",
       "    }\n",
       "</style>\n",
       "<table border=\"1\" class=\"dataframe\">\n",
       "  <thead>\n",
       "    <tr style=\"text-align: right;\">\n",
       "      <th></th>\n",
       "      <th>ФИО</th>\n",
       "      <th>Адрес регистрации</th>\n",
       "      <th>Регион</th>\n",
       "    </tr>\n",
       "  </thead>\n",
       "  <tbody>\n",
       "    <tr>\n",
       "      <th>1</th>\n",
       "      <td>Абсаматов Вадим Чимид-Цыренович</td>\n",
       "      <td>671710, Россия, пгт. Нижнеангарск (03), Респ. ...</td>\n",
       "      <td>Респ. Бурятия,</td>\n",
       "    </tr>\n",
       "    <tr>\n",
       "      <th>6</th>\n",
       "      <td>Авсеевич Радмила Станиславовна</td>\n",
       "      <td>671178, Россия, с. Средний Убукун (03), Респ. ...</td>\n",
       "      <td>Респ. Бурятия,</td>\n",
       "    </tr>\n",
       "    <tr>\n",
       "      <th>9</th>\n",
       "      <td>Агафонов Семен Владимирович</td>\n",
       "      <td>670050, Россия, г. Улан-Удэ (03), Респ. Буряти...</td>\n",
       "      <td>Респ. Бурятия,</td>\n",
       "    </tr>\n",
       "    <tr>\n",
       "      <th>10</th>\n",
       "      <td>Агеев Роман Алексеевич</td>\n",
       "      <td>671404, Россия, п. Майла (03), Респ. Бурятия, ...</td>\n",
       "      <td>Респ. Бурятия,</td>\n",
       "    </tr>\n",
       "    <tr>\n",
       "      <th>11</th>\n",
       "      <td>Айхлер Павел Владимирович</td>\n",
       "      <td>671820, Россия, пгт. Наушки (03), Респ. Буряти...</td>\n",
       "      <td>Респ. Бурятия,</td>\n",
       "    </tr>\n",
       "  </tbody>\n",
       "</table>\n",
       "</div>"
      ],
      "text/plain": [
       "                                ФИО  \\\n",
       "1   Абсаматов Вадим Чимид-Цыренович   \n",
       "6    Авсеевич Радмила Станиславовна   \n",
       "9       Агафонов Семен Владимирович   \n",
       "10           Агеев Роман Алексеевич   \n",
       "11        Айхлер Павел Владимирович   \n",
       "\n",
       "                                    Адрес регистрации           Регион  \n",
       "1   671710, Россия, пгт. Нижнеангарск (03), Респ. ...   Респ. Бурятия,  \n",
       "6   671178, Россия, с. Средний Убукун (03), Респ. ...   Респ. Бурятия,  \n",
       "9   670050, Россия, г. Улан-Удэ (03), Респ. Буряти...   Респ. Бурятия,  \n",
       "10  671404, Россия, п. Майла (03), Респ. Бурятия, ...   Респ. Бурятия,  \n",
       "11  671820, Россия, пгт. Наушки (03), Респ. Буряти...   Респ. Бурятия,  "
      ]
     },
     "execution_count": 20,
     "metadata": {},
     "output_type": "execute_result"
    }
   ],
   "source": [
    "ab_df.head()"
   ]
  },
  {
   "cell_type": "code",
   "execution_count": null,
   "id": "b45ebc2c",
   "metadata": {},
   "outputs": [],
   "source": []
  },
  {
   "cell_type": "code",
   "execution_count": null,
   "id": "8aac9563",
   "metadata": {},
   "outputs": [],
   "source": []
  },
  {
   "cell_type": "code",
   "execution_count": null,
   "id": "427929b0",
   "metadata": {},
   "outputs": [],
   "source": []
  },
  {
   "cell_type": "code",
   "execution_count": null,
   "id": "97fe9063",
   "metadata": {},
   "outputs": [],
   "source": []
  },
  {
   "cell_type": "code",
   "execution_count": null,
   "id": "eece6354",
   "metadata": {},
   "outputs": [],
   "source": []
  },
  {
   "cell_type": "code",
   "execution_count": null,
   "id": "7ebb361b",
   "metadata": {},
   "outputs": [],
   "source": []
  }
 ],
 "metadata": {
  "kernelspec": {
   "display_name": "Python 3 (ipykernel)",
   "language": "python",
   "name": "python3"
  },
  "language_info": {
   "codemirror_mode": {
    "name": "ipython",
    "version": 3
   },
   "file_extension": ".py",
   "mimetype": "text/x-python",
   "name": "python",
   "nbconvert_exporter": "python",
   "pygments_lexer": "ipython3",
   "version": "3.9.13"
  }
 },
 "nbformat": 4,
 "nbformat_minor": 5
}
