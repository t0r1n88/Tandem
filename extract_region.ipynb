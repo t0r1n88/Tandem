{
 "cells": [
  {
   "cell_type": "code",
   "execution_count": 242,
   "id": "22b0a948",
   "metadata": {},
   "outputs": [
    {
     "data": {
      "text/plain": [
       "'\\nВыделение региона и района из данных абитуриентов\\n'"
      ]
     },
     "execution_count": 242,
     "metadata": {},
     "output_type": "execute_result"
    }
   ],
   "source": [
    "\"\"\"\n",
    "Выделение региона и района из данных абитуриентов\n",
    "\"\"\""
   ]
  },
  {
   "cell_type": "code",
   "execution_count": 243,
   "id": "5cb18a1b",
   "metadata": {},
   "outputs": [],
   "source": [
    "import pandas as pd\n",
    "import openpyxl\n",
    "import time\n",
    "from openpyxl.utils.dataframe import dataframe_to_rows\n",
    "import re\n",
    "\n"
   ]
  },
  {
   "cell_type": "code",
   "execution_count": 244,
   "id": "40de7ea9",
   "metadata": {},
   "outputs": [],
   "source": [
    "def extract_district(cell):\n",
    "    \"\"\"\n",
    "    Функция для извлечения района или города\n",
    "    \"\"\"\n",
    "    #pattern = re.compile(r'(р-н\\s?(?:.+?)),|г\\.\\s(.+)\\s\\(')\n",
    "    pattern = re.compile(r'р-н\\s?([а-яА-яёЁ-]+?)[,\\s]|(Улан-Удэ)')\n",
    "    result = re.search(pattern,cell)\n",
    "    if result:\n",
    "        if len(result.groups()) == 2:            \n",
    "            city,district = result.groups()\n",
    "            if city:\n",
    "                return city\n",
    "            else:\n",
    "                return district\n",
    "        else:\n",
    "            return result.groups()\n",
    "    else:\n",
    "        return 'Не найдено'\n",
    "        \n",
    "    "
   ]
  },
  {
   "cell_type": "code",
   "execution_count": 245,
   "id": "c8043934",
   "metadata": {},
   "outputs": [],
   "source": [
    "ab_df = pd.read_excel('data/Абитуриенты.xlsx',sheet_name='Абитуриенты',skiprows=8,usecols=['ФИО','Адрес регистрации','Состояние выбран. конкурса'])"
   ]
  },
  {
   "cell_type": "code",
   "execution_count": 246,
   "id": "91816f78",
   "metadata": {},
   "outputs": [],
   "source": [
    "ab_df = ab_df[ab_df['Состояние выбран. конкурса'] == 'Зачислен'] # оставялем только зачисленных"
   ]
  },
  {
   "cell_type": "code",
   "execution_count": 247,
   "id": "0f16fb04",
   "metadata": {},
   "outputs": [
    {
     "data": {
      "text/plain": [
       "(496, 3)"
      ]
     },
     "execution_count": 247,
     "metadata": {},
     "output_type": "execute_result"
    }
   ],
   "source": [
    "ab_df.shape"
   ]
  },
  {
   "cell_type": "code",
   "execution_count": 248,
   "id": "17928bcb",
   "metadata": {},
   "outputs": [],
   "source": [
    "ab_df.drop(columns='Состояние выбран. конкурса',inplace=True)"
   ]
  },
  {
   "cell_type": "code",
   "execution_count": 249,
   "id": "23031215",
   "metadata": {},
   "outputs": [
    {
     "data": {
      "text/html": [
       "<div>\n",
       "<style scoped>\n",
       "    .dataframe tbody tr th:only-of-type {\n",
       "        vertical-align: middle;\n",
       "    }\n",
       "\n",
       "    .dataframe tbody tr th {\n",
       "        vertical-align: top;\n",
       "    }\n",
       "\n",
       "    .dataframe thead th {\n",
       "        text-align: right;\n",
       "    }\n",
       "</style>\n",
       "<table border=\"1\" class=\"dataframe\">\n",
       "  <thead>\n",
       "    <tr style=\"text-align: right;\">\n",
       "      <th></th>\n",
       "      <th>ФИО</th>\n",
       "      <th>Адрес регистрации</th>\n",
       "    </tr>\n",
       "  </thead>\n",
       "  <tbody>\n",
       "    <tr>\n",
       "      <th>1</th>\n",
       "      <td>Абсаматов Вадим Чимид-Цыренович</td>\n",
       "      <td>671710, Россия, пгт. Нижнеангарск (03), Респ. ...</td>\n",
       "    </tr>\n",
       "    <tr>\n",
       "      <th>5</th>\n",
       "      <td>Авсеевич Радмила Станиславовна</td>\n",
       "      <td>671178, Россия, с. Средний Убукун (03), Респ. ...</td>\n",
       "    </tr>\n",
       "    <tr>\n",
       "      <th>9</th>\n",
       "      <td>Агафонов Семен Владимирович</td>\n",
       "      <td>670050, Россия, г. Улан-Удэ (03), Респ. Буряти...</td>\n",
       "    </tr>\n",
       "    <tr>\n",
       "      <th>10</th>\n",
       "      <td>Агеев Роман Алексеевич</td>\n",
       "      <td>671404, Россия, п. Майла (03), Респ. Бурятия, ...</td>\n",
       "    </tr>\n",
       "    <tr>\n",
       "      <th>11</th>\n",
       "      <td>Айхлер Павел Владимирович</td>\n",
       "      <td>671820, Россия, пгт. Наушки (03), Респ. Буряти...</td>\n",
       "    </tr>\n",
       "  </tbody>\n",
       "</table>\n",
       "</div>"
      ],
      "text/plain": [
       "                                ФИО  \\\n",
       "1   Абсаматов Вадим Чимид-Цыренович   \n",
       "5    Авсеевич Радмила Станиславовна   \n",
       "9       Агафонов Семен Владимирович   \n",
       "10           Агеев Роман Алексеевич   \n",
       "11        Айхлер Павел Владимирович   \n",
       "\n",
       "                                    Адрес регистрации  \n",
       "1   671710, Россия, пгт. Нижнеангарск (03), Респ. ...  \n",
       "5   671178, Россия, с. Средний Убукун (03), Респ. ...  \n",
       "9   670050, Россия, г. Улан-Удэ (03), Респ. Буряти...  \n",
       "10  671404, Россия, п. Майла (03), Респ. Бурятия, ...  \n",
       "11  671820, Россия, пгт. Наушки (03), Респ. Буряти...  "
      ]
     },
     "execution_count": 249,
     "metadata": {},
     "output_type": "execute_result"
    }
   ],
   "source": [
    "ab_df.head()"
   ]
  },
  {
   "cell_type": "code",
   "execution_count": 250,
   "id": "de7b9614",
   "metadata": {},
   "outputs": [],
   "source": [
    "ab_df['Регион'] = ab_df['Адрес регистрации'].apply(lambda x:re.search(r'\\(\\d{2}\\),(.+?),',x).group(1)) # регион"
   ]
  },
  {
   "cell_type": "code",
   "execution_count": 251,
   "id": "8dd6b9d4",
   "metadata": {},
   "outputs": [
    {
     "data": {
      "text/html": [
       "<div>\n",
       "<style scoped>\n",
       "    .dataframe tbody tr th:only-of-type {\n",
       "        vertical-align: middle;\n",
       "    }\n",
       "\n",
       "    .dataframe tbody tr th {\n",
       "        vertical-align: top;\n",
       "    }\n",
       "\n",
       "    .dataframe thead th {\n",
       "        text-align: right;\n",
       "    }\n",
       "</style>\n",
       "<table border=\"1\" class=\"dataframe\">\n",
       "  <thead>\n",
       "    <tr style=\"text-align: right;\">\n",
       "      <th></th>\n",
       "      <th>ФИО</th>\n",
       "      <th>Адрес регистрации</th>\n",
       "      <th>Регион</th>\n",
       "    </tr>\n",
       "  </thead>\n",
       "  <tbody>\n",
       "    <tr>\n",
       "      <th>1</th>\n",
       "      <td>Абсаматов Вадим Чимид-Цыренович</td>\n",
       "      <td>671710, Россия, пгт. Нижнеангарск (03), Респ. ...</td>\n",
       "      <td>Респ. Бурятия</td>\n",
       "    </tr>\n",
       "    <tr>\n",
       "      <th>5</th>\n",
       "      <td>Авсеевич Радмила Станиславовна</td>\n",
       "      <td>671178, Россия, с. Средний Убукун (03), Респ. ...</td>\n",
       "      <td>Респ. Бурятия</td>\n",
       "    </tr>\n",
       "    <tr>\n",
       "      <th>9</th>\n",
       "      <td>Агафонов Семен Владимирович</td>\n",
       "      <td>670050, Россия, г. Улан-Удэ (03), Респ. Буряти...</td>\n",
       "      <td>Респ. Бурятия</td>\n",
       "    </tr>\n",
       "    <tr>\n",
       "      <th>10</th>\n",
       "      <td>Агеев Роман Алексеевич</td>\n",
       "      <td>671404, Россия, п. Майла (03), Респ. Бурятия, ...</td>\n",
       "      <td>Респ. Бурятия</td>\n",
       "    </tr>\n",
       "    <tr>\n",
       "      <th>11</th>\n",
       "      <td>Айхлер Павел Владимирович</td>\n",
       "      <td>671820, Россия, пгт. Наушки (03), Респ. Буряти...</td>\n",
       "      <td>Респ. Бурятия</td>\n",
       "    </tr>\n",
       "  </tbody>\n",
       "</table>\n",
       "</div>"
      ],
      "text/plain": [
       "                                ФИО  \\\n",
       "1   Абсаматов Вадим Чимид-Цыренович   \n",
       "5    Авсеевич Радмила Станиславовна   \n",
       "9       Агафонов Семен Владимирович   \n",
       "10           Агеев Роман Алексеевич   \n",
       "11        Айхлер Павел Владимирович   \n",
       "\n",
       "                                    Адрес регистрации          Регион  \n",
       "1   671710, Россия, пгт. Нижнеангарск (03), Респ. ...   Респ. Бурятия  \n",
       "5   671178, Россия, с. Средний Убукун (03), Респ. ...   Респ. Бурятия  \n",
       "9   670050, Россия, г. Улан-Удэ (03), Респ. Буряти...   Респ. Бурятия  \n",
       "10  671404, Россия, п. Майла (03), Респ. Бурятия, ...   Респ. Бурятия  \n",
       "11  671820, Россия, пгт. Наушки (03), Респ. Буряти...   Респ. Бурятия  "
      ]
     },
     "execution_count": 251,
     "metadata": {},
     "output_type": "execute_result"
    }
   ],
   "source": [
    "ab_df.head()"
   ]
  },
  {
   "cell_type": "code",
   "execution_count": 252,
   "id": "3a5356a4",
   "metadata": {},
   "outputs": [],
   "source": [
    "ab_df['Район'] = ab_df['Адрес регистрации'].apply(extract_district) # район"
   ]
  },
  {
   "cell_type": "code",
   "execution_count": 253,
   "id": "f648d6d8",
   "metadata": {},
   "outputs": [
    {
     "data": {
      "text/plain": [
       "1       Северо-Байкальский\n",
       "5             Селенгинский\n",
       "9                 Улан-Удэ\n",
       "10               Хоринский\n",
       "11              Кяхтинский\n",
       "               ...        \n",
       "1231             Хоринский\n",
       "1232       Красночикойский\n",
       "1235            Не найдено\n",
       "1237          Кижингинский\n",
       "1242              Улан-Удэ\n",
       "Name: Район, Length: 496, dtype: object"
      ]
     },
     "execution_count": 253,
     "metadata": {},
     "output_type": "execute_result"
    }
   ],
   "source": [
    "ab_df['Район']"
   ]
  },
  {
   "cell_type": "code",
   "execution_count": 254,
   "id": "c1e57a63",
   "metadata": {},
   "outputs": [],
   "source": [
    "ab_df['Регион'] = ab_df['Регион'].apply(lambda x:x.strip())"
   ]
  },
  {
   "cell_type": "code",
   "execution_count": 255,
   "id": "a6f258a3",
   "metadata": {},
   "outputs": [],
   "source": [
    "reg_df = ab_df['Регион'].value_counts().to_frame()"
   ]
  },
  {
   "cell_type": "code",
   "execution_count": 256,
   "id": "0067fb14",
   "metadata": {},
   "outputs": [
    {
     "data": {
      "text/html": [
       "<div>\n",
       "<style scoped>\n",
       "    .dataframe tbody tr th:only-of-type {\n",
       "        vertical-align: middle;\n",
       "    }\n",
       "\n",
       "    .dataframe tbody tr th {\n",
       "        vertical-align: top;\n",
       "    }\n",
       "\n",
       "    .dataframe thead th {\n",
       "        text-align: right;\n",
       "    }\n",
       "</style>\n",
       "<table border=\"1\" class=\"dataframe\">\n",
       "  <thead>\n",
       "    <tr style=\"text-align: right;\">\n",
       "      <th></th>\n",
       "      <th>Регион</th>\n",
       "    </tr>\n",
       "  </thead>\n",
       "  <tbody>\n",
       "    <tr>\n",
       "      <th>Респ. Бурятия</th>\n",
       "      <td>456</td>\n",
       "    </tr>\n",
       "    <tr>\n",
       "      <th>край Забайкальский</th>\n",
       "      <td>37</td>\n",
       "    </tr>\n",
       "    <tr>\n",
       "      <th>обл. Иркутская</th>\n",
       "      <td>3</td>\n",
       "    </tr>\n",
       "  </tbody>\n",
       "</table>\n",
       "</div>"
      ],
      "text/plain": [
       "                    Регион\n",
       "Респ. Бурятия          456\n",
       "край Забайкальский      37\n",
       "обл. Иркутская           3"
      ]
     },
     "execution_count": 256,
     "metadata": {},
     "output_type": "execute_result"
    }
   ],
   "source": [
    "reg_df"
   ]
  },
  {
   "cell_type": "code",
   "execution_count": 257,
   "id": "590449db",
   "metadata": {},
   "outputs": [
    {
     "data": {
      "text/plain": [
       "(496, 4)"
      ]
     },
     "execution_count": 257,
     "metadata": {},
     "output_type": "execute_result"
    }
   ],
   "source": [
    "ab_df.shape"
   ]
  },
  {
   "cell_type": "code",
   "execution_count": 258,
   "id": "872a7957",
   "metadata": {},
   "outputs": [],
   "source": [
    "distrct_df = ab_df[ab_df['Регион'] == 'Респ. Бурятия']"
   ]
  },
  {
   "cell_type": "code",
   "execution_count": 259,
   "id": "e2861053",
   "metadata": {},
   "outputs": [
    {
     "data": {
      "text/html": [
       "<div>\n",
       "<style scoped>\n",
       "    .dataframe tbody tr th:only-of-type {\n",
       "        vertical-align: middle;\n",
       "    }\n",
       "\n",
       "    .dataframe tbody tr th {\n",
       "        vertical-align: top;\n",
       "    }\n",
       "\n",
       "    .dataframe thead th {\n",
       "        text-align: right;\n",
       "    }\n",
       "</style>\n",
       "<table border=\"1\" class=\"dataframe\">\n",
       "  <thead>\n",
       "    <tr style=\"text-align: right;\">\n",
       "      <th></th>\n",
       "      <th>ФИО</th>\n",
       "      <th>Адрес регистрации</th>\n",
       "      <th>Регион</th>\n",
       "      <th>Район</th>\n",
       "    </tr>\n",
       "  </thead>\n",
       "  <tbody>\n",
       "    <tr>\n",
       "      <th>1</th>\n",
       "      <td>Абсаматов Вадим Чимид-Цыренович</td>\n",
       "      <td>671710, Россия, пгт. Нижнеангарск (03), Респ. ...</td>\n",
       "      <td>Респ. Бурятия</td>\n",
       "      <td>Северо-Байкальский</td>\n",
       "    </tr>\n",
       "    <tr>\n",
       "      <th>5</th>\n",
       "      <td>Авсеевич Радмила Станиславовна</td>\n",
       "      <td>671178, Россия, с. Средний Убукун (03), Респ. ...</td>\n",
       "      <td>Респ. Бурятия</td>\n",
       "      <td>Селенгинский</td>\n",
       "    </tr>\n",
       "    <tr>\n",
       "      <th>9</th>\n",
       "      <td>Агафонов Семен Владимирович</td>\n",
       "      <td>670050, Россия, г. Улан-Удэ (03), Респ. Буряти...</td>\n",
       "      <td>Респ. Бурятия</td>\n",
       "      <td>Улан-Удэ</td>\n",
       "    </tr>\n",
       "    <tr>\n",
       "      <th>10</th>\n",
       "      <td>Агеев Роман Алексеевич</td>\n",
       "      <td>671404, Россия, п. Майла (03), Респ. Бурятия, ...</td>\n",
       "      <td>Респ. Бурятия</td>\n",
       "      <td>Хоринский</td>\n",
       "    </tr>\n",
       "    <tr>\n",
       "      <th>11</th>\n",
       "      <td>Айхлер Павел Владимирович</td>\n",
       "      <td>671820, Россия, пгт. Наушки (03), Респ. Буряти...</td>\n",
       "      <td>Респ. Бурятия</td>\n",
       "      <td>Кяхтинский</td>\n",
       "    </tr>\n",
       "    <tr>\n",
       "      <th>...</th>\n",
       "      <td>...</td>\n",
       "      <td>...</td>\n",
       "      <td>...</td>\n",
       "      <td>...</td>\n",
       "    </tr>\n",
       "    <tr>\n",
       "      <th>1220</th>\n",
       "      <td>Шитин Даниил Максимович</td>\n",
       "      <td>671404, Россия, п. Майла (03), Респ. Бурятия, ...</td>\n",
       "      <td>Респ. Бурятия</td>\n",
       "      <td>Хоринский</td>\n",
       "    </tr>\n",
       "    <tr>\n",
       "      <th>1224</th>\n",
       "      <td>Шиханов Евгений Анатольевич</td>\n",
       "      <td>670011, Россия, г. Улан-Удэ (03), Респ. Буряти...</td>\n",
       "      <td>Респ. Бурятия</td>\n",
       "      <td>Улан-Удэ</td>\n",
       "    </tr>\n",
       "    <tr>\n",
       "      <th>1231</th>\n",
       "      <td>Юдаев Владимир Иванович</td>\n",
       "      <td>671401, Россия, с. Георгиевское (03), Респ. Бу...</td>\n",
       "      <td>Респ. Бурятия</td>\n",
       "      <td>Хоринский</td>\n",
       "    </tr>\n",
       "    <tr>\n",
       "      <th>1237</th>\n",
       "      <td>Ямпилов Саян Зоригович</td>\n",
       "      <td>671450, Россия, с. Кижинга (03), Респ. Бурятия...</td>\n",
       "      <td>Респ. Бурятия</td>\n",
       "      <td>Кижингинский</td>\n",
       "    </tr>\n",
       "    <tr>\n",
       "      <th>1242</th>\n",
       "      <td>Яшин Никита Денисович</td>\n",
       "      <td>670009, Россия, г. Улан-Удэ (03), Респ. Буряти...</td>\n",
       "      <td>Респ. Бурятия</td>\n",
       "      <td>Улан-Удэ</td>\n",
       "    </tr>\n",
       "  </tbody>\n",
       "</table>\n",
       "<p>456 rows × 4 columns</p>\n",
       "</div>"
      ],
      "text/plain": [
       "                                  ФИО  \\\n",
       "1     Абсаматов Вадим Чимид-Цыренович   \n",
       "5      Авсеевич Радмила Станиславовна   \n",
       "9         Агафонов Семен Владимирович   \n",
       "10             Агеев Роман Алексеевич   \n",
       "11          Айхлер Павел Владимирович   \n",
       "...                               ...   \n",
       "1220          Шитин Даниил Максимович   \n",
       "1224      Шиханов Евгений Анатольевич   \n",
       "1231          Юдаев Владимир Иванович   \n",
       "1237           Ямпилов Саян Зоригович   \n",
       "1242            Яшин Никита Денисович   \n",
       "\n",
       "                                      Адрес регистрации         Регион  \\\n",
       "1     671710, Россия, пгт. Нижнеангарск (03), Респ. ...  Респ. Бурятия   \n",
       "5     671178, Россия, с. Средний Убукун (03), Респ. ...  Респ. Бурятия   \n",
       "9     670050, Россия, г. Улан-Удэ (03), Респ. Буряти...  Респ. Бурятия   \n",
       "10    671404, Россия, п. Майла (03), Респ. Бурятия, ...  Респ. Бурятия   \n",
       "11    671820, Россия, пгт. Наушки (03), Респ. Буряти...  Респ. Бурятия   \n",
       "...                                                 ...            ...   \n",
       "1220  671404, Россия, п. Майла (03), Респ. Бурятия, ...  Респ. Бурятия   \n",
       "1224  670011, Россия, г. Улан-Удэ (03), Респ. Буряти...  Респ. Бурятия   \n",
       "1231  671401, Россия, с. Георгиевское (03), Респ. Бу...  Респ. Бурятия   \n",
       "1237  671450, Россия, с. Кижинга (03), Респ. Бурятия...  Респ. Бурятия   \n",
       "1242  670009, Россия, г. Улан-Удэ (03), Респ. Буряти...  Респ. Бурятия   \n",
       "\n",
       "                   Район  \n",
       "1     Северо-Байкальский  \n",
       "5           Селенгинский  \n",
       "9               Улан-Удэ  \n",
       "10             Хоринский  \n",
       "11            Кяхтинский  \n",
       "...                  ...  \n",
       "1220           Хоринский  \n",
       "1224            Улан-Удэ  \n",
       "1231           Хоринский  \n",
       "1237        Кижингинский  \n",
       "1242            Улан-Удэ  \n",
       "\n",
       "[456 rows x 4 columns]"
      ]
     },
     "execution_count": 259,
     "metadata": {},
     "output_type": "execute_result"
    }
   ],
   "source": [
    "distrct_df"
   ]
  },
  {
   "cell_type": "code",
   "execution_count": 260,
   "id": "39de54ab",
   "metadata": {},
   "outputs": [],
   "source": [
    "distrct_df = distrct_df['Район'].value_counts().to_frame()"
   ]
  },
  {
   "cell_type": "code",
   "execution_count": 261,
   "id": "a55c7166",
   "metadata": {},
   "outputs": [],
   "source": [
    "with pd.ExcelWriter('data/Распределение по регионам и районам.xlsx') as writer:\n",
    "    reg_df.to_excel(writer,sheet_name='По регионам')\n",
    "    distrct_df.to_excel(writer,sheet_name='ПО районам')"
   ]
  },
  {
   "cell_type": "code",
   "execution_count": null,
   "id": "0d938422",
   "metadata": {},
   "outputs": [],
   "source": []
  }
 ],
 "metadata": {
  "kernelspec": {
   "display_name": "Python 3 (ipykernel)",
   "language": "python",
   "name": "python3"
  },
  "language_info": {
   "codemirror_mode": {
    "name": "ipython",
    "version": 3
   },
   "file_extension": ".py",
   "mimetype": "text/x-python",
   "name": "python",
   "nbconvert_exporter": "python",
   "pygments_lexer": "ipython3",
   "version": "3.9.13"
  }
 },
 "nbformat": 4,
 "nbformat_minor": 5
}
