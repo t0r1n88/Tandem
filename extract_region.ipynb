{
 "cells": [
  {
   "cell_type": "code",
   "execution_count": 1,
   "id": "9f81328a",
   "metadata": {},
   "outputs": [
    {
     "data": {
      "text/plain": [
       "'\\nВыделение региона и района из данных абитуриентов\\n'"
      ]
     },
     "execution_count": 1,
     "metadata": {},
     "output_type": "execute_result"
    }
   ],
   "source": [
    "\"\"\"\n",
    "Выделение региона и района из данных абитуриентов\n",
    "\"\"\""
   ]
  },
  {
   "cell_type": "code",
   "execution_count": 2,
   "id": "e32bec6d",
   "metadata": {},
   "outputs": [],
   "source": [
    "import pandas as pd\n",
    "import openpyxl\n",
    "import time\n",
    "from openpyxl.utils.dataframe import dataframe_to_rows\n",
    "import re\n",
    "\n"
   ]
  },
  {
   "cell_type": "code",
   "execution_count": 3,
   "id": "35b4159e",
   "metadata": {},
   "outputs": [],
   "source": [
    "def extract_district(cell):\n",
    "    \"\"\"\n",
    "    Функция для извлечения района или города\n",
    "    \"\"\"\n",
    "    #pattern = re.compile(r'(р-н\\s?(?:.+?)),|г\\.\\s(.+)\\s\\(')\n",
    "    pattern = re.compile(r'р-н\\s?([а-яА-яёЁ-]+?)[,\\s]|(Улан-Удэ)')\n",
    "    result = re.search(pattern,cell)\n",
    "    if result:\n",
    "        if len(result.groups()) == 2:            \n",
    "            city,district = result.groups()\n",
    "            if city:\n",
    "                return city\n",
    "            else:\n",
    "                return district\n",
    "        else:\n",
    "            return result.groups()\n",
    "    else:\n",
    "        return 'Не найдено'\n",
    "        \n",
    "    "
   ]
  },
  {
   "cell_type": "code",
   "execution_count": 4,
   "id": "a60dc595",
   "metadata": {},
   "outputs": [],
   "source": [
    "ab_df = pd.read_excel('data/Абитуриенты.xlsx',sheet_name='Абитуриенты',skiprows=8,usecols=['ФИО','Адрес регистрации','Состояние выбран. конкурса'])"
   ]
  },
  {
   "cell_type": "code",
   "execution_count": 5,
   "id": "8b946080",
   "metadata": {},
   "outputs": [],
   "source": [
    "ab_df = ab_df[ab_df['Состояние выбран. конкурса'] == 'Зачислен'] # оставялем только зачисленных"
   ]
  },
  {
   "cell_type": "code",
   "execution_count": 6,
   "id": "54801e25",
   "metadata": {},
   "outputs": [
    {
     "data": {
      "text/plain": [
       "(508, 3)"
      ]
     },
     "execution_count": 6,
     "metadata": {},
     "output_type": "execute_result"
    }
   ],
   "source": [
    "ab_df.shape"
   ]
  },
  {
   "cell_type": "code",
   "execution_count": 7,
   "id": "6d7b7843",
   "metadata": {},
   "outputs": [],
   "source": [
    "ab_df.drop(columns='Состояние выбран. конкурса',inplace=True)"
   ]
  },
  {
   "cell_type": "code",
   "execution_count": 8,
   "id": "8d815f56",
   "metadata": {},
   "outputs": [
    {
     "data": {
      "text/html": [
       "<div>\n",
       "<style scoped>\n",
       "    .dataframe tbody tr th:only-of-type {\n",
       "        vertical-align: middle;\n",
       "    }\n",
       "\n",
       "    .dataframe tbody tr th {\n",
       "        vertical-align: top;\n",
       "    }\n",
       "\n",
       "    .dataframe thead th {\n",
       "        text-align: right;\n",
       "    }\n",
       "</style>\n",
       "<table border=\"1\" class=\"dataframe\">\n",
       "  <thead>\n",
       "    <tr style=\"text-align: right;\">\n",
       "      <th></th>\n",
       "      <th>ФИО</th>\n",
       "      <th>Адрес регистрации</th>\n",
       "    </tr>\n",
       "  </thead>\n",
       "  <tbody>\n",
       "    <tr>\n",
       "      <th>1</th>\n",
       "      <td>Абсаматов Вадим Чимид-Цыренович</td>\n",
       "      <td>671710, Россия, пгт. Нижнеангарск (03), Респ. ...</td>\n",
       "    </tr>\n",
       "    <tr>\n",
       "      <th>5</th>\n",
       "      <td>Авсеевич Радмила Станиславовна</td>\n",
       "      <td>671178, Россия, с. Средний Убукун (03), Респ. ...</td>\n",
       "    </tr>\n",
       "    <tr>\n",
       "      <th>9</th>\n",
       "      <td>Агафонов Семён Владимирович</td>\n",
       "      <td>670050, Россия, г. Улан-Удэ (03), Респ. Буряти...</td>\n",
       "    </tr>\n",
       "    <tr>\n",
       "      <th>10</th>\n",
       "      <td>Агеев Роман Алексеевич</td>\n",
       "      <td>671404, Россия, п. Майла (03), Респ. Бурятия, ...</td>\n",
       "    </tr>\n",
       "    <tr>\n",
       "      <th>11</th>\n",
       "      <td>Айхлер Павел Владимирович</td>\n",
       "      <td>671820, Россия, пгт. Наушки (03), Респ. Буряти...</td>\n",
       "    </tr>\n",
       "  </tbody>\n",
       "</table>\n",
       "</div>"
      ],
      "text/plain": [
       "                                ФИО  \\\n",
       "1   Абсаматов Вадим Чимид-Цыренович   \n",
       "5    Авсеевич Радмила Станиславовна   \n",
       "9       Агафонов Семён Владимирович   \n",
       "10           Агеев Роман Алексеевич   \n",
       "11        Айхлер Павел Владимирович   \n",
       "\n",
       "                                    Адрес регистрации  \n",
       "1   671710, Россия, пгт. Нижнеангарск (03), Респ. ...  \n",
       "5   671178, Россия, с. Средний Убукун (03), Респ. ...  \n",
       "9   670050, Россия, г. Улан-Удэ (03), Респ. Буряти...  \n",
       "10  671404, Россия, п. Майла (03), Респ. Бурятия, ...  \n",
       "11  671820, Россия, пгт. Наушки (03), Респ. Буряти...  "
      ]
     },
     "execution_count": 8,
     "metadata": {},
     "output_type": "execute_result"
    }
   ],
   "source": [
    "ab_df.head()"
   ]
  },
  {
   "cell_type": "code",
   "execution_count": 9,
   "id": "2ecc5e20",
   "metadata": {},
   "outputs": [],
   "source": [
    "ab_df['Регион'] = ab_df['Адрес регистрации'].apply(lambda x:re.search(r'\\(\\d{2}\\),(.+?),',x).group(1)) # регион"
   ]
  },
  {
   "cell_type": "code",
   "execution_count": 10,
   "id": "490a8b0f",
   "metadata": {},
   "outputs": [
    {
     "data": {
      "text/html": [
       "<div>\n",
       "<style scoped>\n",
       "    .dataframe tbody tr th:only-of-type {\n",
       "        vertical-align: middle;\n",
       "    }\n",
       "\n",
       "    .dataframe tbody tr th {\n",
       "        vertical-align: top;\n",
       "    }\n",
       "\n",
       "    .dataframe thead th {\n",
       "        text-align: right;\n",
       "    }\n",
       "</style>\n",
       "<table border=\"1\" class=\"dataframe\">\n",
       "  <thead>\n",
       "    <tr style=\"text-align: right;\">\n",
       "      <th></th>\n",
       "      <th>ФИО</th>\n",
       "      <th>Адрес регистрации</th>\n",
       "      <th>Регион</th>\n",
       "    </tr>\n",
       "  </thead>\n",
       "  <tbody>\n",
       "    <tr>\n",
       "      <th>1</th>\n",
       "      <td>Абсаматов Вадим Чимид-Цыренович</td>\n",
       "      <td>671710, Россия, пгт. Нижнеангарск (03), Респ. ...</td>\n",
       "      <td>Респ. Бурятия</td>\n",
       "    </tr>\n",
       "    <tr>\n",
       "      <th>5</th>\n",
       "      <td>Авсеевич Радмила Станиславовна</td>\n",
       "      <td>671178, Россия, с. Средний Убукун (03), Респ. ...</td>\n",
       "      <td>Респ. Бурятия</td>\n",
       "    </tr>\n",
       "    <tr>\n",
       "      <th>9</th>\n",
       "      <td>Агафонов Семён Владимирович</td>\n",
       "      <td>670050, Россия, г. Улан-Удэ (03), Респ. Буряти...</td>\n",
       "      <td>Респ. Бурятия</td>\n",
       "    </tr>\n",
       "    <tr>\n",
       "      <th>10</th>\n",
       "      <td>Агеев Роман Алексеевич</td>\n",
       "      <td>671404, Россия, п. Майла (03), Респ. Бурятия, ...</td>\n",
       "      <td>Респ. Бурятия</td>\n",
       "    </tr>\n",
       "    <tr>\n",
       "      <th>11</th>\n",
       "      <td>Айхлер Павел Владимирович</td>\n",
       "      <td>671820, Россия, пгт. Наушки (03), Респ. Буряти...</td>\n",
       "      <td>Респ. Бурятия</td>\n",
       "    </tr>\n",
       "  </tbody>\n",
       "</table>\n",
       "</div>"
      ],
      "text/plain": [
       "                                ФИО  \\\n",
       "1   Абсаматов Вадим Чимид-Цыренович   \n",
       "5    Авсеевич Радмила Станиславовна   \n",
       "9       Агафонов Семён Владимирович   \n",
       "10           Агеев Роман Алексеевич   \n",
       "11        Айхлер Павел Владимирович   \n",
       "\n",
       "                                    Адрес регистрации          Регион  \n",
       "1   671710, Россия, пгт. Нижнеангарск (03), Респ. ...   Респ. Бурятия  \n",
       "5   671178, Россия, с. Средний Убукун (03), Респ. ...   Респ. Бурятия  \n",
       "9   670050, Россия, г. Улан-Удэ (03), Респ. Буряти...   Респ. Бурятия  \n",
       "10  671404, Россия, п. Майла (03), Респ. Бурятия, ...   Респ. Бурятия  \n",
       "11  671820, Россия, пгт. Наушки (03), Респ. Буряти...   Респ. Бурятия  "
      ]
     },
     "execution_count": 10,
     "metadata": {},
     "output_type": "execute_result"
    }
   ],
   "source": [
    "ab_df.head()"
   ]
  },
  {
   "cell_type": "code",
   "execution_count": 11,
   "id": "b82aca54",
   "metadata": {},
   "outputs": [],
   "source": [
    "ab_df['Район'] = ab_df['Адрес регистрации'].apply(extract_district) # район"
   ]
  },
  {
   "cell_type": "code",
   "execution_count": 12,
   "id": "f0503d99",
   "metadata": {},
   "outputs": [
    {
     "data": {
      "text/plain": [
       "1       Северо-Байкальский\n",
       "5             Селенгинский\n",
       "9                 Улан-Удэ\n",
       "10               Хоринский\n",
       "11              Кяхтинский\n",
       "               ...        \n",
       "1243             Хоринский\n",
       "1244       Красночикойский\n",
       "1248            Не найдено\n",
       "1249          Кижингинский\n",
       "1255              Улан-Удэ\n",
       "Name: Район, Length: 508, dtype: object"
      ]
     },
     "execution_count": 12,
     "metadata": {},
     "output_type": "execute_result"
    }
   ],
   "source": [
    "ab_df['Район']"
   ]
  },
  {
   "cell_type": "code",
   "execution_count": 13,
   "id": "fad3336a",
   "metadata": {},
   "outputs": [],
   "source": [
    "ab_df['Регион'] = ab_df['Регион'].apply(lambda x:x.strip())"
   ]
  },
  {
   "cell_type": "code",
   "execution_count": 14,
   "id": "d5015e75",
   "metadata": {},
   "outputs": [],
   "source": [
    "reg_df = ab_df['Регион'].value_counts().to_frame()"
   ]
  },
  {
   "cell_type": "code",
   "execution_count": 15,
   "id": "9f1a1007",
   "metadata": {},
   "outputs": [
    {
     "data": {
      "text/html": [
       "<div>\n",
       "<style scoped>\n",
       "    .dataframe tbody tr th:only-of-type {\n",
       "        vertical-align: middle;\n",
       "    }\n",
       "\n",
       "    .dataframe tbody tr th {\n",
       "        vertical-align: top;\n",
       "    }\n",
       "\n",
       "    .dataframe thead th {\n",
       "        text-align: right;\n",
       "    }\n",
       "</style>\n",
       "<table border=\"1\" class=\"dataframe\">\n",
       "  <thead>\n",
       "    <tr style=\"text-align: right;\">\n",
       "      <th></th>\n",
       "      <th>Регион</th>\n",
       "    </tr>\n",
       "  </thead>\n",
       "  <tbody>\n",
       "    <tr>\n",
       "      <th>Респ. Бурятия</th>\n",
       "      <td>465</td>\n",
       "    </tr>\n",
       "    <tr>\n",
       "      <th>край Забайкальский</th>\n",
       "      <td>40</td>\n",
       "    </tr>\n",
       "    <tr>\n",
       "      <th>обл. Иркутская</th>\n",
       "      <td>3</td>\n",
       "    </tr>\n",
       "  </tbody>\n",
       "</table>\n",
       "</div>"
      ],
      "text/plain": [
       "                    Регион\n",
       "Респ. Бурятия          465\n",
       "край Забайкальский      40\n",
       "обл. Иркутская           3"
      ]
     },
     "execution_count": 15,
     "metadata": {},
     "output_type": "execute_result"
    }
   ],
   "source": [
    "reg_df"
   ]
  },
  {
   "cell_type": "code",
   "execution_count": 16,
   "id": "c9a63b06",
   "metadata": {},
   "outputs": [
    {
     "data": {
      "text/plain": [
       "(508, 4)"
      ]
     },
     "execution_count": 16,
     "metadata": {},
     "output_type": "execute_result"
    }
   ],
   "source": [
    "ab_df.shape"
   ]
  },
  {
   "cell_type": "code",
   "execution_count": 17,
   "id": "7a86cfce",
   "metadata": {},
   "outputs": [],
   "source": [
    "distrct_df = ab_df[ab_df['Регион'] == 'Респ. Бурятия']"
   ]
  },
  {
   "cell_type": "code",
   "execution_count": 18,
   "id": "0e2d5058",
   "metadata": {},
   "outputs": [
    {
     "data": {
      "text/html": [
       "<div>\n",
       "<style scoped>\n",
       "    .dataframe tbody tr th:only-of-type {\n",
       "        vertical-align: middle;\n",
       "    }\n",
       "\n",
       "    .dataframe tbody tr th {\n",
       "        vertical-align: top;\n",
       "    }\n",
       "\n",
       "    .dataframe thead th {\n",
       "        text-align: right;\n",
       "    }\n",
       "</style>\n",
       "<table border=\"1\" class=\"dataframe\">\n",
       "  <thead>\n",
       "    <tr style=\"text-align: right;\">\n",
       "      <th></th>\n",
       "      <th>ФИО</th>\n",
       "      <th>Адрес регистрации</th>\n",
       "      <th>Регион</th>\n",
       "      <th>Район</th>\n",
       "    </tr>\n",
       "  </thead>\n",
       "  <tbody>\n",
       "    <tr>\n",
       "      <th>1</th>\n",
       "      <td>Абсаматов Вадим Чимид-Цыренович</td>\n",
       "      <td>671710, Россия, пгт. Нижнеангарск (03), Респ. ...</td>\n",
       "      <td>Респ. Бурятия</td>\n",
       "      <td>Северо-Байкальский</td>\n",
       "    </tr>\n",
       "    <tr>\n",
       "      <th>5</th>\n",
       "      <td>Авсеевич Радмила Станиславовна</td>\n",
       "      <td>671178, Россия, с. Средний Убукун (03), Респ. ...</td>\n",
       "      <td>Респ. Бурятия</td>\n",
       "      <td>Селенгинский</td>\n",
       "    </tr>\n",
       "    <tr>\n",
       "      <th>9</th>\n",
       "      <td>Агафонов Семён Владимирович</td>\n",
       "      <td>670050, Россия, г. Улан-Удэ (03), Респ. Буряти...</td>\n",
       "      <td>Респ. Бурятия</td>\n",
       "      <td>Улан-Удэ</td>\n",
       "    </tr>\n",
       "    <tr>\n",
       "      <th>10</th>\n",
       "      <td>Агеев Роман Алексеевич</td>\n",
       "      <td>671404, Россия, п. Майла (03), Респ. Бурятия, ...</td>\n",
       "      <td>Респ. Бурятия</td>\n",
       "      <td>Хоринский</td>\n",
       "    </tr>\n",
       "    <tr>\n",
       "      <th>11</th>\n",
       "      <td>Айхлер Павел Владимирович</td>\n",
       "      <td>671820, Россия, пгт. Наушки (03), Респ. Буряти...</td>\n",
       "      <td>Респ. Бурятия</td>\n",
       "      <td>Кяхтинский</td>\n",
       "    </tr>\n",
       "    <tr>\n",
       "      <th>...</th>\n",
       "      <td>...</td>\n",
       "      <td>...</td>\n",
       "      <td>...</td>\n",
       "      <td>...</td>\n",
       "    </tr>\n",
       "    <tr>\n",
       "      <th>1232</th>\n",
       "      <td>Шитин Даниил Максимович</td>\n",
       "      <td>671404, Россия, п. Майла (03), Респ. Бурятия, ...</td>\n",
       "      <td>Респ. Бурятия</td>\n",
       "      <td>Хоринский</td>\n",
       "    </tr>\n",
       "    <tr>\n",
       "      <th>1236</th>\n",
       "      <td>Шиханов Евгений Анатольевич</td>\n",
       "      <td>670011, Россия, г. Улан-Удэ (03), Респ. Буряти...</td>\n",
       "      <td>Респ. Бурятия</td>\n",
       "      <td>Улан-Удэ</td>\n",
       "    </tr>\n",
       "    <tr>\n",
       "      <th>1243</th>\n",
       "      <td>Юдаев Владимир Иванович</td>\n",
       "      <td>671401, Россия, с. Георгиевское (03), Респ. Бу...</td>\n",
       "      <td>Респ. Бурятия</td>\n",
       "      <td>Хоринский</td>\n",
       "    </tr>\n",
       "    <tr>\n",
       "      <th>1249</th>\n",
       "      <td>Ямпилов Саян Зоригович</td>\n",
       "      <td>671450, Россия, с. Кижинга (03), Респ. Бурятия...</td>\n",
       "      <td>Респ. Бурятия</td>\n",
       "      <td>Кижингинский</td>\n",
       "    </tr>\n",
       "    <tr>\n",
       "      <th>1255</th>\n",
       "      <td>Яшин Никита Денисович</td>\n",
       "      <td>670009, Россия, г. Улан-Удэ (03), Респ. Буряти...</td>\n",
       "      <td>Респ. Бурятия</td>\n",
       "      <td>Улан-Удэ</td>\n",
       "    </tr>\n",
       "  </tbody>\n",
       "</table>\n",
       "<p>465 rows × 4 columns</p>\n",
       "</div>"
      ],
      "text/plain": [
       "                                  ФИО  \\\n",
       "1     Абсаматов Вадим Чимид-Цыренович   \n",
       "5      Авсеевич Радмила Станиславовна   \n",
       "9         Агафонов Семён Владимирович   \n",
       "10             Агеев Роман Алексеевич   \n",
       "11          Айхлер Павел Владимирович   \n",
       "...                               ...   \n",
       "1232          Шитин Даниил Максимович   \n",
       "1236      Шиханов Евгений Анатольевич   \n",
       "1243          Юдаев Владимир Иванович   \n",
       "1249           Ямпилов Саян Зоригович   \n",
       "1255            Яшин Никита Денисович   \n",
       "\n",
       "                                      Адрес регистрации         Регион  \\\n",
       "1     671710, Россия, пгт. Нижнеангарск (03), Респ. ...  Респ. Бурятия   \n",
       "5     671178, Россия, с. Средний Убукун (03), Респ. ...  Респ. Бурятия   \n",
       "9     670050, Россия, г. Улан-Удэ (03), Респ. Буряти...  Респ. Бурятия   \n",
       "10    671404, Россия, п. Майла (03), Респ. Бурятия, ...  Респ. Бурятия   \n",
       "11    671820, Россия, пгт. Наушки (03), Респ. Буряти...  Респ. Бурятия   \n",
       "...                                                 ...            ...   \n",
       "1232  671404, Россия, п. Майла (03), Респ. Бурятия, ...  Респ. Бурятия   \n",
       "1236  670011, Россия, г. Улан-Удэ (03), Респ. Буряти...  Респ. Бурятия   \n",
       "1243  671401, Россия, с. Георгиевское (03), Респ. Бу...  Респ. Бурятия   \n",
       "1249  671450, Россия, с. Кижинга (03), Респ. Бурятия...  Респ. Бурятия   \n",
       "1255  670009, Россия, г. Улан-Удэ (03), Респ. Буряти...  Респ. Бурятия   \n",
       "\n",
       "                   Район  \n",
       "1     Северо-Байкальский  \n",
       "5           Селенгинский  \n",
       "9               Улан-Удэ  \n",
       "10             Хоринский  \n",
       "11            Кяхтинский  \n",
       "...                  ...  \n",
       "1232           Хоринский  \n",
       "1236            Улан-Удэ  \n",
       "1243           Хоринский  \n",
       "1249        Кижингинский  \n",
       "1255            Улан-Удэ  \n",
       "\n",
       "[465 rows x 4 columns]"
      ]
     },
     "execution_count": 18,
     "metadata": {},
     "output_type": "execute_result"
    }
   ],
   "source": [
    "distrct_df"
   ]
  },
  {
   "cell_type": "code",
   "execution_count": 19,
   "id": "3d2c2f1b",
   "metadata": {},
   "outputs": [],
   "source": [
    "distrct_df = distrct_df['Район'].value_counts().to_frame()"
   ]
  },
  {
   "cell_type": "code",
   "execution_count": 20,
   "id": "478d2611",
   "metadata": {},
   "outputs": [],
   "source": [
    "with pd.ExcelWriter('data/Распределение по регионам и районам.xlsx') as writer:\n",
    "    reg_df.to_excel(writer,sheet_name='По регионам')\n",
    "    distrct_df.to_excel(writer,sheet_name='ПО районам')"
   ]
  },
  {
   "cell_type": "code",
   "execution_count": null,
   "id": "7c11cd29",
   "metadata": {},
   "outputs": [],
   "source": []
  }
 ],
 "metadata": {
  "kernelspec": {
   "display_name": "Python 3 (ipykernel)",
   "language": "python",
   "name": "python3"
  },
  "language_info": {
   "codemirror_mode": {
    "name": "ipython",
    "version": 3
   },
   "file_extension": ".py",
   "mimetype": "text/x-python",
   "name": "python",
   "nbconvert_exporter": "python",
   "pygments_lexer": "ipython3",
   "version": "3.9.13"
  }
 },
 "nbformat": 4,
 "nbformat_minor": 5
}
